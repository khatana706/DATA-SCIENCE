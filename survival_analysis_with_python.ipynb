{
  "nbformat": 4,
  "nbformat_minor": 0,
  "metadata": {
    "colab": {
      "name": "survival-analysis-with-python.ipynb",
      "provenance": [],
      "include_colab_link": true
    },
    "kernelspec": {
      "name": "python3",
      "display_name": "Python 3"
    }
  },
  "cells": [
    {
      "cell_type": "markdown",
      "metadata": {
        "id": "view-in-github",
        "colab_type": "text"
      },
      "source": [
        "<a href=\"https://colab.research.google.com/github/khatana706/DATA-SCIENCE/blob/main/survival_analysis_with_python.ipynb\" target=\"_parent\"><img src=\"https://colab.research.google.com/assets/colab-badge.svg\" alt=\"Open In Colab\"/></a>"
      ]
    },
    {
      "cell_type": "markdown",
      "metadata": {
        "id": "v04NDneFAofV"
      },
      "source": [
        "#Survival Analysis with Python Tutorial — How, What, When, and Why\n",
        "\n",
        "https://towardsai.net/survival-analysis-with-python"
      ]
    },
    {
      "cell_type": "code",
      "metadata": {
        "id": "fkRKY4Rv_ueL",
        "colab": {
          "base_uri": "https://localhost:8080/",
          "height": 384
        },
        "outputId": "6f49e6e3-e718-4059-a4ca-7da1e364984b"
      },
      "source": [
        "!pip install lifelines"
      ],
      "execution_count": null,
      "outputs": [
        {
          "output_type": "stream",
          "text": [
            "Collecting lifelines\n",
            "\u001b[?25l  Downloading https://files.pythonhosted.org/packages/8a/ac/2053e284c83b3e4ae35751a9f755bfc3739373099fe346dec323b9177659/lifelines-0.25.4-py3-none-any.whl (345kB)\n",
            "\u001b[K     |████████████████████████████████| 348kB 4.9MB/s \n",
            "\u001b[?25hRequirement already satisfied: patsy>=0.5.0 in /usr/local/lib/python3.6/dist-packages (from lifelines) (0.5.1)\n",
            "Requirement already satisfied: matplotlib>=3.0 in /usr/local/lib/python3.6/dist-packages (from lifelines) (3.2.2)\n",
            "Requirement already satisfied: autograd>=1.3 in /usr/local/lib/python3.6/dist-packages (from lifelines) (1.3)\n",
            "Collecting autograd-gamma>=0.3\n",
            "  Downloading https://files.pythonhosted.org/packages/0a/07/d99339c9420b58b723a9189d1373e5c3889758b2202a1a7fe4a3b7a10c5a/autograd_gamma-0.4.2-py2.py3-none-any.whl\n",
            "Requirement already satisfied: numpy>=1.14.0 in /usr/local/lib/python3.6/dist-packages (from lifelines) (1.18.5)\n",
            "Requirement already satisfied: scipy>=1.2.0 in /usr/local/lib/python3.6/dist-packages (from lifelines) (1.4.1)\n",
            "Requirement already satisfied: pandas>=0.23.0 in /usr/local/lib/python3.6/dist-packages (from lifelines) (1.0.5)\n",
            "Requirement already satisfied: six in /usr/local/lib/python3.6/dist-packages (from patsy>=0.5.0->lifelines) (1.15.0)\n",
            "Requirement already satisfied: pyparsing!=2.0.4,!=2.1.2,!=2.1.6,>=2.0.1 in /usr/local/lib/python3.6/dist-packages (from matplotlib>=3.0->lifelines) (2.4.7)\n",
            "Requirement already satisfied: python-dateutil>=2.1 in /usr/local/lib/python3.6/dist-packages (from matplotlib>=3.0->lifelines) (2.8.1)\n",
            "Requirement already satisfied: kiwisolver>=1.0.1 in /usr/local/lib/python3.6/dist-packages (from matplotlib>=3.0->lifelines) (1.2.0)\n",
            "Requirement already satisfied: cycler>=0.10 in /usr/local/lib/python3.6/dist-packages (from matplotlib>=3.0->lifelines) (0.10.0)\n",
            "Requirement already satisfied: future>=0.15.2 in /usr/local/lib/python3.6/dist-packages (from autograd>=1.3->lifelines) (0.16.0)\n",
            "Requirement already satisfied: pytz>=2017.2 in /usr/local/lib/python3.6/dist-packages (from pandas>=0.23.0->lifelines) (2018.9)\n",
            "Installing collected packages: autograd-gamma, lifelines\n",
            "Successfully installed autograd-gamma-0.4.2 lifelines-0.25.4\n"
          ],
          "name": "stdout"
        }
      ]
    },
    {
      "cell_type": "code",
      "metadata": {
        "id": "ePbme8LTAcsJ",
        "colab": {
          "base_uri": "https://localhost:8080/",
          "height": 208
        },
        "outputId": "972cf762-2485-4ffb-b1cc-5c1650da8c34"
      },
      "source": [
        "!wget https://raw.githubusercontent.com/towardsai/tutorials/master/survival_analysis_in_python/lung.csv"
      ],
      "execution_count": null,
      "outputs": [
        {
          "output_type": "stream",
          "text": [
            "--2020-09-11 21:11:00--  https://raw.githubusercontent.com/towardsai/tutorials/master/survival_analysis_in_python/lung.csv\n",
            "Resolving raw.githubusercontent.com (raw.githubusercontent.com)... 151.101.0.133, 151.101.64.133, 151.101.128.133, ...\n",
            "Connecting to raw.githubusercontent.com (raw.githubusercontent.com)|151.101.0.133|:443... connected.\n",
            "HTTP request sent, awaiting response... 200 OK\n",
            "Length: 7856 (7.7K) [text/plain]\n",
            "Saving to: ‘lung.csv’\n",
            "\n",
            "lung.csv            100%[===================>]   7.67K  --.-KB/s    in 0s      \n",
            "\n",
            "2020-09-11 21:11:01 (82.9 MB/s) - ‘lung.csv’ saved [7856/7856]\n",
            "\n"
          ],
          "name": "stdout"
        }
      ]
    },
    {
      "cell_type": "markdown",
      "metadata": {
        "id": "QMPKESSxAzbe"
      },
      "source": [
        "##2. Kaplan-Meier-Estimator\n",
        "\n"
      ]
    },
    {
      "cell_type": "code",
      "metadata": {
        "id": "VmbIceHkA6df",
        "colab": {
          "base_uri": "https://localhost:8080/",
          "height": 202
        },
        "outputId": "bcce8a76-c17c-4a30-b0eb-da65420c2e33"
      },
      "source": [
        "#Import required libraries:\n",
        "\n",
        "import pandas as pd\n",
        "import numpy as np\n",
        "import matplotlib.pyplot as plt\n",
        "from lifelines import KaplanMeierFitter\n",
        "\n",
        "#Read the dataset:\n",
        "\n",
        "data = pd.read_csv(\"lung.csv\")\n",
        "data.head()"
      ],
      "execution_count": null,
      "outputs": [
        {
          "output_type": "execute_result",
          "data": {
            "text/html": [
              "<div>\n",
              "<style scoped>\n",
              "    .dataframe tbody tr th:only-of-type {\n",
              "        vertical-align: middle;\n",
              "    }\n",
              "\n",
              "    .dataframe tbody tr th {\n",
              "        vertical-align: top;\n",
              "    }\n",
              "\n",
              "    .dataframe thead th {\n",
              "        text-align: right;\n",
              "    }\n",
              "</style>\n",
              "<table border=\"1\" class=\"dataframe\">\n",
              "  <thead>\n",
              "    <tr style=\"text-align: right;\">\n",
              "      <th></th>\n",
              "      <th>Unnamed: 0</th>\n",
              "      <th>inst</th>\n",
              "      <th>time</th>\n",
              "      <th>status</th>\n",
              "      <th>age</th>\n",
              "      <th>sex</th>\n",
              "      <th>ph.ecog</th>\n",
              "      <th>ph.karno</th>\n",
              "      <th>pat.karno</th>\n",
              "      <th>meal.cal</th>\n",
              "      <th>wt.loss</th>\n",
              "    </tr>\n",
              "  </thead>\n",
              "  <tbody>\n",
              "    <tr>\n",
              "      <th>0</th>\n",
              "      <td>1</td>\n",
              "      <td>3.0</td>\n",
              "      <td>306</td>\n",
              "      <td>2</td>\n",
              "      <td>74</td>\n",
              "      <td>1</td>\n",
              "      <td>1.0</td>\n",
              "      <td>90.0</td>\n",
              "      <td>100.0</td>\n",
              "      <td>1175.0</td>\n",
              "      <td>NaN</td>\n",
              "    </tr>\n",
              "    <tr>\n",
              "      <th>1</th>\n",
              "      <td>2</td>\n",
              "      <td>3.0</td>\n",
              "      <td>455</td>\n",
              "      <td>2</td>\n",
              "      <td>68</td>\n",
              "      <td>1</td>\n",
              "      <td>0.0</td>\n",
              "      <td>90.0</td>\n",
              "      <td>90.0</td>\n",
              "      <td>1225.0</td>\n",
              "      <td>15.0</td>\n",
              "    </tr>\n",
              "    <tr>\n",
              "      <th>2</th>\n",
              "      <td>3</td>\n",
              "      <td>3.0</td>\n",
              "      <td>1010</td>\n",
              "      <td>1</td>\n",
              "      <td>56</td>\n",
              "      <td>1</td>\n",
              "      <td>0.0</td>\n",
              "      <td>90.0</td>\n",
              "      <td>90.0</td>\n",
              "      <td>NaN</td>\n",
              "      <td>15.0</td>\n",
              "    </tr>\n",
              "    <tr>\n",
              "      <th>3</th>\n",
              "      <td>4</td>\n",
              "      <td>5.0</td>\n",
              "      <td>210</td>\n",
              "      <td>2</td>\n",
              "      <td>57</td>\n",
              "      <td>1</td>\n",
              "      <td>1.0</td>\n",
              "      <td>90.0</td>\n",
              "      <td>60.0</td>\n",
              "      <td>1150.0</td>\n",
              "      <td>11.0</td>\n",
              "    </tr>\n",
              "    <tr>\n",
              "      <th>4</th>\n",
              "      <td>5</td>\n",
              "      <td>1.0</td>\n",
              "      <td>883</td>\n",
              "      <td>2</td>\n",
              "      <td>60</td>\n",
              "      <td>1</td>\n",
              "      <td>0.0</td>\n",
              "      <td>100.0</td>\n",
              "      <td>90.0</td>\n",
              "      <td>NaN</td>\n",
              "      <td>0.0</td>\n",
              "    </tr>\n",
              "  </tbody>\n",
              "</table>\n",
              "</div>"
            ],
            "text/plain": [
              "   Unnamed: 0  inst  time  status  ...  ph.karno  pat.karno  meal.cal  wt.loss\n",
              "0           1   3.0   306       2  ...      90.0      100.0    1175.0      NaN\n",
              "1           2   3.0   455       2  ...      90.0       90.0    1225.0     15.0\n",
              "2           3   3.0  1010       1  ...      90.0       90.0       NaN     15.0\n",
              "3           4   5.0   210       2  ...      90.0       60.0    1150.0     11.0\n",
              "4           5   1.0   883       2  ...     100.0       90.0       NaN      0.0\n",
              "\n",
              "[5 rows x 11 columns]"
            ]
          },
          "metadata": {
            "tags": []
          },
          "execution_count": 5
        }
      ]
    },
    {
      "cell_type": "code",
      "metadata": {
        "id": "84oRq-zSBCMW",
        "colab": {
          "base_uri": "https://localhost:8080/",
          "height": 69
        },
        "outputId": "7f152dd4-cf62-400d-e8c6-f047f236b39f"
      },
      "source": [
        "#Print the column names of our data:\n",
        "\n",
        "print(data.columns)"
      ],
      "execution_count": null,
      "outputs": [
        {
          "output_type": "stream",
          "text": [
            "Index(['Unnamed: 0', 'inst', 'time', 'status', 'age', 'sex', 'ph.ecog',\n",
            "       'ph.karno', 'pat.karno', 'meal.cal', 'wt.loss'],\n",
            "      dtype='object')\n"
          ],
          "name": "stdout"
        }
      ]
    },
    {
      "cell_type": "code",
      "metadata": {
        "id": "znph7dIiBD1m",
        "colab": {
          "base_uri": "https://localhost:8080/",
          "height": 329
        },
        "outputId": "da0fd124-c433-4c05-cb88-8635d9dbf0a9"
      },
      "source": [
        "#Additional info about our dataset:\n",
        "\n",
        "data.info()"
      ],
      "execution_count": null,
      "outputs": [
        {
          "output_type": "stream",
          "text": [
            "<class 'pandas.core.frame.DataFrame'>\n",
            "RangeIndex: 228 entries, 0 to 227\n",
            "Data columns (total 11 columns):\n",
            " #   Column      Non-Null Count  Dtype  \n",
            "---  ------      --------------  -----  \n",
            " 0   Unnamed: 0  228 non-null    int64  \n",
            " 1   inst        227 non-null    float64\n",
            " 2   time        228 non-null    int64  \n",
            " 3   status      228 non-null    int64  \n",
            " 4   age         228 non-null    int64  \n",
            " 5   sex         228 non-null    int64  \n",
            " 6   ph.ecog     227 non-null    float64\n",
            " 7   ph.karno    227 non-null    float64\n",
            " 8   pat.karno   225 non-null    float64\n",
            " 9   meal.cal    181 non-null    float64\n",
            " 10  wt.loss     214 non-null    float64\n",
            "dtypes: float64(6), int64(5)\n",
            "memory usage: 19.7 KB\n"
          ],
          "name": "stdout"
        }
      ]
    },
    {
      "cell_type": "code",
      "metadata": {
        "id": "8a074aVbBFeE",
        "colab": {
          "base_uri": "https://localhost:8080/",
          "height": 294
        },
        "outputId": "346a8819-3a45-4639-d699-b9152a88a146"
      },
      "source": [
        "#Statistical info about our dataset:\n",
        "\n",
        "data.describe()"
      ],
      "execution_count": null,
      "outputs": [
        {
          "output_type": "execute_result",
          "data": {
            "text/html": [
              "<div>\n",
              "<style scoped>\n",
              "    .dataframe tbody tr th:only-of-type {\n",
              "        vertical-align: middle;\n",
              "    }\n",
              "\n",
              "    .dataframe tbody tr th {\n",
              "        vertical-align: top;\n",
              "    }\n",
              "\n",
              "    .dataframe thead th {\n",
              "        text-align: right;\n",
              "    }\n",
              "</style>\n",
              "<table border=\"1\" class=\"dataframe\">\n",
              "  <thead>\n",
              "    <tr style=\"text-align: right;\">\n",
              "      <th></th>\n",
              "      <th>Unnamed: 0</th>\n",
              "      <th>inst</th>\n",
              "      <th>time</th>\n",
              "      <th>status</th>\n",
              "      <th>age</th>\n",
              "      <th>sex</th>\n",
              "      <th>ph.ecog</th>\n",
              "      <th>ph.karno</th>\n",
              "      <th>pat.karno</th>\n",
              "      <th>meal.cal</th>\n",
              "      <th>wt.loss</th>\n",
              "    </tr>\n",
              "  </thead>\n",
              "  <tbody>\n",
              "    <tr>\n",
              "      <th>count</th>\n",
              "      <td>228.00000</td>\n",
              "      <td>227.000000</td>\n",
              "      <td>228.000000</td>\n",
              "      <td>228.000000</td>\n",
              "      <td>228.000000</td>\n",
              "      <td>228.000000</td>\n",
              "      <td>227.000000</td>\n",
              "      <td>227.000000</td>\n",
              "      <td>225.000000</td>\n",
              "      <td>181.000000</td>\n",
              "      <td>214.000000</td>\n",
              "    </tr>\n",
              "    <tr>\n",
              "      <th>mean</th>\n",
              "      <td>114.50000</td>\n",
              "      <td>11.088106</td>\n",
              "      <td>305.232456</td>\n",
              "      <td>1.723684</td>\n",
              "      <td>62.447368</td>\n",
              "      <td>1.394737</td>\n",
              "      <td>0.951542</td>\n",
              "      <td>81.938326</td>\n",
              "      <td>79.955556</td>\n",
              "      <td>928.779006</td>\n",
              "      <td>9.831776</td>\n",
              "    </tr>\n",
              "    <tr>\n",
              "      <th>std</th>\n",
              "      <td>65.96211</td>\n",
              "      <td>8.303491</td>\n",
              "      <td>210.645543</td>\n",
              "      <td>0.448159</td>\n",
              "      <td>9.073457</td>\n",
              "      <td>0.489870</td>\n",
              "      <td>0.717872</td>\n",
              "      <td>12.327955</td>\n",
              "      <td>14.623177</td>\n",
              "      <td>402.174707</td>\n",
              "      <td>13.139902</td>\n",
              "    </tr>\n",
              "    <tr>\n",
              "      <th>min</th>\n",
              "      <td>1.00000</td>\n",
              "      <td>1.000000</td>\n",
              "      <td>5.000000</td>\n",
              "      <td>1.000000</td>\n",
              "      <td>39.000000</td>\n",
              "      <td>1.000000</td>\n",
              "      <td>0.000000</td>\n",
              "      <td>50.000000</td>\n",
              "      <td>30.000000</td>\n",
              "      <td>96.000000</td>\n",
              "      <td>-24.000000</td>\n",
              "    </tr>\n",
              "    <tr>\n",
              "      <th>25%</th>\n",
              "      <td>57.75000</td>\n",
              "      <td>3.000000</td>\n",
              "      <td>166.750000</td>\n",
              "      <td>1.000000</td>\n",
              "      <td>56.000000</td>\n",
              "      <td>1.000000</td>\n",
              "      <td>0.000000</td>\n",
              "      <td>75.000000</td>\n",
              "      <td>70.000000</td>\n",
              "      <td>635.000000</td>\n",
              "      <td>0.000000</td>\n",
              "    </tr>\n",
              "    <tr>\n",
              "      <th>50%</th>\n",
              "      <td>114.50000</td>\n",
              "      <td>11.000000</td>\n",
              "      <td>255.500000</td>\n",
              "      <td>2.000000</td>\n",
              "      <td>63.000000</td>\n",
              "      <td>1.000000</td>\n",
              "      <td>1.000000</td>\n",
              "      <td>80.000000</td>\n",
              "      <td>80.000000</td>\n",
              "      <td>975.000000</td>\n",
              "      <td>7.000000</td>\n",
              "    </tr>\n",
              "    <tr>\n",
              "      <th>75%</th>\n",
              "      <td>171.25000</td>\n",
              "      <td>16.000000</td>\n",
              "      <td>396.500000</td>\n",
              "      <td>2.000000</td>\n",
              "      <td>69.000000</td>\n",
              "      <td>2.000000</td>\n",
              "      <td>1.000000</td>\n",
              "      <td>90.000000</td>\n",
              "      <td>90.000000</td>\n",
              "      <td>1150.000000</td>\n",
              "      <td>15.750000</td>\n",
              "    </tr>\n",
              "    <tr>\n",
              "      <th>max</th>\n",
              "      <td>228.00000</td>\n",
              "      <td>33.000000</td>\n",
              "      <td>1022.000000</td>\n",
              "      <td>2.000000</td>\n",
              "      <td>82.000000</td>\n",
              "      <td>2.000000</td>\n",
              "      <td>3.000000</td>\n",
              "      <td>100.000000</td>\n",
              "      <td>100.000000</td>\n",
              "      <td>2600.000000</td>\n",
              "      <td>68.000000</td>\n",
              "    </tr>\n",
              "  </tbody>\n",
              "</table>\n",
              "</div>"
            ],
            "text/plain": [
              "       Unnamed: 0        inst         time  ...   pat.karno     meal.cal     wt.loss\n",
              "count   228.00000  227.000000   228.000000  ...  225.000000   181.000000  214.000000\n",
              "mean    114.50000   11.088106   305.232456  ...   79.955556   928.779006    9.831776\n",
              "std      65.96211    8.303491   210.645543  ...   14.623177   402.174707   13.139902\n",
              "min       1.00000    1.000000     5.000000  ...   30.000000    96.000000  -24.000000\n",
              "25%      57.75000    3.000000   166.750000  ...   70.000000   635.000000    0.000000\n",
              "50%     114.50000   11.000000   255.500000  ...   80.000000   975.000000    7.000000\n",
              "75%     171.25000   16.000000   396.500000  ...   90.000000  1150.000000   15.750000\n",
              "max     228.00000   33.000000  1022.000000  ...  100.000000  2600.000000   68.000000\n",
              "\n",
              "[8 rows x 11 columns]"
            ]
          },
          "metadata": {
            "tags": []
          },
          "execution_count": 8
        }
      ]
    },
    {
      "cell_type": "code",
      "metadata": {
        "id": "NM9uUnu3BHxj",
        "colab": {
          "base_uri": "https://localhost:8080/",
          "height": 283
        },
        "outputId": "a90883e1-64e7-4dcf-e1ea-0e87365d9d4c"
      },
      "source": [
        "#Plot histogram for sex of patient:\n",
        "\n",
        "print (data[\"sex\"].hist())"
      ],
      "execution_count": null,
      "outputs": [
        {
          "output_type": "stream",
          "text": [
            "AxesSubplot(0.125,0.125;0.775x0.755)\n"
          ],
          "name": "stdout"
        },
        {
          "output_type": "display_data",
          "data": {
            "image/png": "[encoded data removed]",
            "text/plain": [
              "<Figure size 432x288 with 1 Axes>"
            ]
          },
          "metadata": {
            "tags": [],
            "needs_background": "light"
          }
        }
      ]
    },
    {
      "cell_type": "code",
      "metadata": {
        "id": "MTXGB1CxBJtG",
        "colab": {
          "base_uri": "https://localhost:8080/",
          "height": 202
        },
        "outputId": "f93f61fd-6aaa-406e-8753-e9fa4618c9f3"
      },
      "source": [
        "#Create an object of KaplanMeierFitter:\n",
        "\n",
        "kmf = KaplanMeierFitter() \n",
        "\n",
        "#Organize our data:\n",
        "\n",
        "#If status = 1 , then dead = 0\n",
        "#If status = 2 , then dead = 1\n",
        "\n",
        "data.loc[data.status == 1, 'dead'] = 0\n",
        "data.loc[data.status == 2, 'dead'] = 1\n",
        "\n",
        "data.head()"
      ],
      "execution_count": null,
      "outputs": [
        {
          "output_type": "execute_result",
          "data": {
            "text/html": [
              "<div>\n",
              "<style scoped>\n",
              "    .dataframe tbody tr th:only-of-type {\n",
              "        vertical-align: middle;\n",
              "    }\n",
              "\n",
              "    .dataframe tbody tr th {\n",
              "        vertical-align: top;\n",
              "    }\n",
              "\n",
              "    .dataframe thead th {\n",
              "        text-align: right;\n",
              "    }\n",
              "</style>\n",
              "<table border=\"1\" class=\"dataframe\">\n",
              "  <thead>\n",
              "    <tr style=\"text-align: right;\">\n",
              "      <th></th>\n",
              "      <th>Unnamed: 0</th>\n",
              "      <th>inst</th>\n",
              "      <th>time</th>\n",
              "      <th>status</th>\n",
              "      <th>age</th>\n",
              "      <th>sex</th>\n",
              "      <th>ph.ecog</th>\n",
              "      <th>ph.karno</th>\n",
              "      <th>pat.karno</th>\n",
              "      <th>meal.cal</th>\n",
              "      <th>wt.loss</th>\n",
              "      <th>dead</th>\n",
              "    </tr>\n",
              "  </thead>\n",
              "  <tbody>\n",
              "    <tr>\n",
              "      <th>0</th>\n",
              "      <td>1</td>\n",
              "      <td>3.0</td>\n",
              "      <td>306</td>\n",
              "      <td>2</td>\n",
              "      <td>74</td>\n",
              "      <td>1</td>\n",
              "      <td>1.0</td>\n",
              "      <td>90.0</td>\n",
              "      <td>100.0</td>\n",
              "      <td>1175.0</td>\n",
              "      <td>NaN</td>\n",
              "      <td>1.0</td>\n",
              "    </tr>\n",
              "    <tr>\n",
              "      <th>1</th>\n",
              "      <td>2</td>\n",
              "      <td>3.0</td>\n",
              "      <td>455</td>\n",
              "      <td>2</td>\n",
              "      <td>68</td>\n",
              "      <td>1</td>\n",
              "      <td>0.0</td>\n",
              "      <td>90.0</td>\n",
              "      <td>90.0</td>\n",
              "      <td>1225.0</td>\n",
              "      <td>15.0</td>\n",
              "      <td>1.0</td>\n",
              "    </tr>\n",
              "    <tr>\n",
              "      <th>2</th>\n",
              "      <td>3</td>\n",
              "      <td>3.0</td>\n",
              "      <td>1010</td>\n",
              "      <td>1</td>\n",
              "      <td>56</td>\n",
              "      <td>1</td>\n",
              "      <td>0.0</td>\n",
              "      <td>90.0</td>\n",
              "      <td>90.0</td>\n",
              "      <td>NaN</td>\n",
              "      <td>15.0</td>\n",
              "      <td>0.0</td>\n",
              "    </tr>\n",
              "    <tr>\n",
              "      <th>3</th>\n",
              "      <td>4</td>\n",
              "      <td>5.0</td>\n",
              "      <td>210</td>\n",
              "      <td>2</td>\n",
              "      <td>57</td>\n",
              "      <td>1</td>\n",
              "      <td>1.0</td>\n",
              "      <td>90.0</td>\n",
              "      <td>60.0</td>\n",
              "      <td>1150.0</td>\n",
              "      <td>11.0</td>\n",
              "      <td>1.0</td>\n",
              "    </tr>\n",
              "    <tr>\n",
              "      <th>4</th>\n",
              "      <td>5</td>\n",
              "      <td>1.0</td>\n",
              "      <td>883</td>\n",
              "      <td>2</td>\n",
              "      <td>60</td>\n",
              "      <td>1</td>\n",
              "      <td>0.0</td>\n",
              "      <td>100.0</td>\n",
              "      <td>90.0</td>\n",
              "      <td>NaN</td>\n",
              "      <td>0.0</td>\n",
              "      <td>1.0</td>\n",
              "    </tr>\n",
              "  </tbody>\n",
              "</table>\n",
              "</div>"
            ],
            "text/plain": [
              "   Unnamed: 0  inst  time  status  ...  pat.karno  meal.cal  wt.loss  dead\n",
              "0           1   3.0   306       2  ...      100.0    1175.0      NaN   1.0\n",
              "1           2   3.0   455       2  ...       90.0    1225.0     15.0   1.0\n",
              "2           3   3.0  1010       1  ...       90.0       NaN     15.0   0.0\n",
              "3           4   5.0   210       2  ...       60.0    1150.0     11.0   1.0\n",
              "4           5   1.0   883       2  ...       90.0       NaN      0.0   1.0\n",
              "\n",
              "[5 rows x 12 columns]"
            ]
          },
          "metadata": {
            "tags": []
          },
          "execution_count": 11
        }
      ]
    },
    {
      "cell_type": "code",
      "metadata": {
        "id": "qrSuR9zHBN4l",
        "colab": {
          "base_uri": "https://localhost:8080/",
          "height": 35
        },
        "outputId": "5831d545-1f6d-4e12-a623-c27be415cd2d"
      },
      "source": [
        "#Fit the parameter values in our object:\n",
        "\n",
        "kmf.fit(durations =  data[\"time\"], event_observed = data[\"dead\"])"
      ],
      "execution_count": null,
      "outputs": [
        {
          "output_type": "execute_result",
          "data": {
            "text/plain": [
              "<lifelines.KaplanMeierFitter:\"KM_estimate\", fitted with 228 total observations, 63 right-censored observations>"
            ]
          },
          "metadata": {
            "tags": []
          },
          "execution_count": 12
        }
      ]
    },
    {
      "cell_type": "code",
      "metadata": {
        "id": "hS0ttGtkBPyd",
        "colab": {
          "base_uri": "https://localhost:8080/",
          "height": 446
        },
        "outputId": "4dcc311d-1d9f-466d-c564-f05319fa09c3"
      },
      "source": [
        "#Print the event table:\n",
        "\n",
        "kmf.event_table\n",
        "\n",
        "# Removed = Observed + Censored\n",
        "# Censored = Person that didn't die.(They are of no use to us!)\n",
        "# Observed = Persons that died."
      ],
      "execution_count": null,
      "outputs": [
        {
          "output_type": "execute_result",
          "data": {
            "text/html": [
              "<div>\n",
              "<style scoped>\n",
              "    .dataframe tbody tr th:only-of-type {\n",
              "        vertical-align: middle;\n",
              "    }\n",
              "\n",
              "    .dataframe tbody tr th {\n",
              "        vertical-align: top;\n",
              "    }\n",
              "\n",
              "    .dataframe thead th {\n",
              "        text-align: right;\n",
              "    }\n",
              "</style>\n",
              "<table border=\"1\" class=\"dataframe\">\n",
              "  <thead>\n",
              "    <tr style=\"text-align: right;\">\n",
              "      <th></th>\n",
              "      <th>removed</th>\n",
              "      <th>observed</th>\n",
              "      <th>censored</th>\n",
              "      <th>entrance</th>\n",
              "      <th>at_risk</th>\n",
              "    </tr>\n",
              "    <tr>\n",
              "      <th>event_at</th>\n",
              "      <th></th>\n",
              "      <th></th>\n",
              "      <th></th>\n",
              "      <th></th>\n",
              "      <th></th>\n",
              "    </tr>\n",
              "  </thead>\n",
              "  <tbody>\n",
              "    <tr>\n",
              "      <th>0.0</th>\n",
              "      <td>0</td>\n",
              "      <td>0</td>\n",
              "      <td>0</td>\n",
              "      <td>228</td>\n",
              "      <td>228</td>\n",
              "    </tr>\n",
              "    <tr>\n",
              "      <th>5.0</th>\n",
              "      <td>1</td>\n",
              "      <td>1</td>\n",
              "      <td>0</td>\n",
              "      <td>0</td>\n",
              "      <td>228</td>\n",
              "    </tr>\n",
              "    <tr>\n",
              "      <th>11.0</th>\n",
              "      <td>3</td>\n",
              "      <td>3</td>\n",
              "      <td>0</td>\n",
              "      <td>0</td>\n",
              "      <td>227</td>\n",
              "    </tr>\n",
              "    <tr>\n",
              "      <th>12.0</th>\n",
              "      <td>1</td>\n",
              "      <td>1</td>\n",
              "      <td>0</td>\n",
              "      <td>0</td>\n",
              "      <td>224</td>\n",
              "    </tr>\n",
              "    <tr>\n",
              "      <th>13.0</th>\n",
              "      <td>2</td>\n",
              "      <td>2</td>\n",
              "      <td>0</td>\n",
              "      <td>0</td>\n",
              "      <td>223</td>\n",
              "    </tr>\n",
              "    <tr>\n",
              "      <th>...</th>\n",
              "      <td>...</td>\n",
              "      <td>...</td>\n",
              "      <td>...</td>\n",
              "      <td>...</td>\n",
              "      <td>...</td>\n",
              "    </tr>\n",
              "    <tr>\n",
              "      <th>840.0</th>\n",
              "      <td>1</td>\n",
              "      <td>0</td>\n",
              "      <td>1</td>\n",
              "      <td>0</td>\n",
              "      <td>5</td>\n",
              "    </tr>\n",
              "    <tr>\n",
              "      <th>883.0</th>\n",
              "      <td>1</td>\n",
              "      <td>1</td>\n",
              "      <td>0</td>\n",
              "      <td>0</td>\n",
              "      <td>4</td>\n",
              "    </tr>\n",
              "    <tr>\n",
              "      <th>965.0</th>\n",
              "      <td>1</td>\n",
              "      <td>0</td>\n",
              "      <td>1</td>\n",
              "      <td>0</td>\n",
              "      <td>3</td>\n",
              "    </tr>\n",
              "    <tr>\n",
              "      <th>1010.0</th>\n",
              "      <td>1</td>\n",
              "      <td>0</td>\n",
              "      <td>1</td>\n",
              "      <td>0</td>\n",
              "      <td>2</td>\n",
              "    </tr>\n",
              "    <tr>\n",
              "      <th>1022.0</th>\n",
              "      <td>1</td>\n",
              "      <td>0</td>\n",
              "      <td>1</td>\n",
              "      <td>0</td>\n",
              "      <td>1</td>\n",
              "    </tr>\n",
              "  </tbody>\n",
              "</table>\n",
              "<p>187 rows × 5 columns</p>\n",
              "</div>"
            ],
            "text/plain": [
              "          removed  observed  censored  entrance  at_risk\n",
              "event_at                                                \n",
              "0.0             0         0         0       228      228\n",
              "5.0             1         1         0         0      228\n",
              "11.0            3         3         0         0      227\n",
              "12.0            1         1         0         0      224\n",
              "13.0            2         2         0         0      223\n",
              "...           ...       ...       ...       ...      ...\n",
              "840.0           1         0         1         0        5\n",
              "883.0           1         1         0         0        4\n",
              "965.0           1         0         1         0        3\n",
              "1010.0          1         0         1         0        2\n",
              "1022.0          1         0         1         0        1\n",
              "\n",
              "[187 rows x 5 columns]"
            ]
          },
          "metadata": {
            "tags": []
          },
          "execution_count": 13
        }
      ]
    },
    {
      "cell_type": "code",
      "metadata": {
        "id": "Yx0vuiOIBRSl",
        "colab": {
          "base_uri": "https://localhost:8080/",
          "height": 35
        },
        "outputId": "7fca5d1b-3475-4844-f482-3877cd5056b3"
      },
      "source": [
        "#Calculating the survival probability for a given time:\n",
        "\n",
        "event_at_0 = kmf.event_table.iloc[0,:]\n",
        "\n",
        "#Calculate the survival probability for t=0:\n",
        "\n",
        "surv_for_0 = (event_at_0.at_risk - event_at_0.observed)/event_at_0.at_risk\n",
        "surv_for_0"
      ],
      "execution_count": null,
      "outputs": [
        {
          "output_type": "execute_result",
          "data": {
            "text/plain": [
              "1.0"
            ]
          },
          "metadata": {
            "tags": []
          },
          "execution_count": 14
        }
      ]
    },
    {
      "cell_type": "code",
      "metadata": {
        "id": "7hBzZQXgBS5S",
        "colab": {
          "base_uri": "https://localhost:8080/",
          "height": 35
        },
        "outputId": "3a1268c9-8165-4c51-de20-084bd00a2236"
      },
      "source": [
        "#Calculating the survival probability for a given time:\n",
        "\n",
        "event_at_5 = kmf.event_table.iloc[1,:]\n",
        "\n",
        "#Calculate the survival probability for t=5:\n",
        "surv_for_5 = (event_at_5.at_risk - event_at_5.observed)/event_at_5.at_risk\n",
        "surv_for_5"
      ],
      "execution_count": null,
      "outputs": [
        {
          "output_type": "execute_result",
          "data": {
            "text/plain": [
              "0.9956140350877193"
            ]
          },
          "metadata": {
            "tags": []
          },
          "execution_count": 15
        }
      ]
    },
    {
      "cell_type": "code",
      "metadata": {
        "id": "34-bWczABUpH",
        "colab": {
          "base_uri": "https://localhost:8080/",
          "height": 35
        },
        "outputId": "19fae9c5-7bfe-4bbf-ac0e-9e670e9695d6"
      },
      "source": [
        "#Calculating the survival probability for a given time:\n",
        "\n",
        "event_at_11 = kmf.event_table.iloc[2,:]\n",
        "\n",
        "#Calculate the survival probability for t=11:\n",
        "surv_for_11 = (event_at_11.at_risk - event_at_11.observed)/event_at_11.at_risk\n",
        "surv_for_11"
      ],
      "execution_count": null,
      "outputs": [
        {
          "output_type": "execute_result",
          "data": {
            "text/plain": [
              "0.986784140969163"
            ]
          },
          "metadata": {
            "tags": []
          },
          "execution_count": 16
        }
      ]
    },
    {
      "cell_type": "code",
      "metadata": {
        "id": "KOKFbJyXBWCt",
        "colab": {
          "base_uri": "https://localhost:8080/",
          "height": 35
        },
        "outputId": "ac34fb9d-e6ce-44d4-9e3a-47407c2c9716"
      },
      "source": [
        "#Calculating the actual survival probability at a given time:\n",
        "\n",
        "surv_after_0 = surv_for_0 \n",
        "print(\"Survival Probability After 0 Days: \",surv_after_0)"
      ],
      "execution_count": null,
      "outputs": [
        {
          "output_type": "stream",
          "text": [
            "Survival Probability After 0 Days:  1.0\n"
          ],
          "name": "stdout"
        }
      ]
    },
    {
      "cell_type": "code",
      "metadata": {
        "id": "XxCiq9F3BYxP",
        "colab": {
          "base_uri": "https://localhost:8080/",
          "height": 35
        },
        "outputId": "cbb75cc1-a495-4a95-ef2c-d223ff899c58"
      },
      "source": [
        "#Calculating the actual survival probability at a given time:\n",
        "\n",
        "surv_after_5 = surv_for_0 * surv_for_5\n",
        "print(\"Survival Probability After 5 Days: \",surv_after_5)"
      ],
      "execution_count": null,
      "outputs": [
        {
          "output_type": "stream",
          "text": [
            "Survival Probability After 5 Days:  0.9956140350877193\n"
          ],
          "name": "stdout"
        }
      ]
    },
    {
      "cell_type": "code",
      "metadata": {
        "id": "2oQb7c9RBaPv",
        "colab": {
          "base_uri": "https://localhost:8080/",
          "height": 35
        },
        "outputId": "4e3110b0-c581-4236-815f-7f8468c74eac"
      },
      "source": [
        "#Calculating the actual survival probability at a given time:\n",
        "\n",
        "surv_after_11 = surv_for_0 * surv_for_5 * surv_for_11\n",
        "print(\"Survival Probability After 11 Days: \",surv_after_11)"
      ],
      "execution_count": null,
      "outputs": [
        {
          "output_type": "stream",
          "text": [
            "Survival Probability After 11 Days:  0.9824561403508771\n"
          ],
          "name": "stdout"
        }
      ]
    },
    {
      "cell_type": "code",
      "metadata": {
        "id": "H1aPwzNOBbx5",
        "colab": {
          "base_uri": "https://localhost:8080/",
          "height": 69
        },
        "outputId": "752b59ea-4634-4f9b-a1e2-050c314413c7"
      },
      "source": [
        "#Get the probability values the easy way!\n",
        "\n",
        "print(\"Survival probability for t=0: \",kmf.predict(0))\n",
        "print(\"Survival probability for t=5: \",kmf.predict(5))\n",
        "print(\"Survival probability for t=11: \",kmf.predict(11))"
      ],
      "execution_count": null,
      "outputs": [
        {
          "output_type": "stream",
          "text": [
            "Survival probability for t=0:  1.0\n",
            "Survival probability for t=5:  0.9956140350877193\n",
            "Survival probability for t=11:  0.9824561403508766\n"
          ],
          "name": "stdout"
        }
      ]
    },
    {
      "cell_type": "code",
      "metadata": {
        "id": "UYyGCms8Bdlh",
        "colab": {
          "base_uri": "https://localhost:8080/",
          "height": 104
        },
        "outputId": "696d5a13-42ac-464e-c214-6597795f7deb"
      },
      "source": [
        "#Predicting the surviaval probability for an array of value:\n",
        "\n",
        "kmf.predict([0,5,11,12])"
      ],
      "execution_count": null,
      "outputs": [
        {
          "output_type": "execute_result",
          "data": {
            "text/plain": [
              "0     1.000000\n",
              "5     0.995614\n",
              "11    0.982456\n",
              "12    0.978070\n",
              "Name: KM_estimate, dtype: float64"
            ]
          },
          "metadata": {
            "tags": []
          },
          "execution_count": 21
        }
      ]
    },
    {
      "cell_type": "code",
      "metadata": {
        "id": "O_5rz_gpBfLt",
        "colab": {
          "base_uri": "https://localhost:8080/",
          "height": 446
        },
        "outputId": "cd4b0018-89f9-4f8e-b8b7-c1293635343f"
      },
      "source": [
        "#To get the full list:\n",
        "\n",
        "kmf.survival_function_"
      ],
      "execution_count": null,
      "outputs": [
        {
          "output_type": "execute_result",
          "data": {
            "text/html": [
              "<div>\n",
              "<style scoped>\n",
              "    .dataframe tbody tr th:only-of-type {\n",
              "        vertical-align: middle;\n",
              "    }\n",
              "\n",
              "    .dataframe tbody tr th {\n",
              "        vertical-align: top;\n",
              "    }\n",
              "\n",
              "    .dataframe thead th {\n",
              "        text-align: right;\n",
              "    }\n",
              "</style>\n",
              "<table border=\"1\" class=\"dataframe\">\n",
              "  <thead>\n",
              "    <tr style=\"text-align: right;\">\n",
              "      <th></th>\n",
              "      <th>KM_estimate</th>\n",
              "    </tr>\n",
              "    <tr>\n",
              "      <th>timeline</th>\n",
              "      <th></th>\n",
              "    </tr>\n",
              "  </thead>\n",
              "  <tbody>\n",
              "    <tr>\n",
              "      <th>0.0</th>\n",
              "      <td>1.000000</td>\n",
              "    </tr>\n",
              "    <tr>\n",
              "      <th>5.0</th>\n",
              "      <td>0.995614</td>\n",
              "    </tr>\n",
              "    <tr>\n",
              "      <th>11.0</th>\n",
              "      <td>0.982456</td>\n",
              "    </tr>\n",
              "    <tr>\n",
              "      <th>12.0</th>\n",
              "      <td>0.978070</td>\n",
              "    </tr>\n",
              "    <tr>\n",
              "      <th>13.0</th>\n",
              "      <td>0.969298</td>\n",
              "    </tr>\n",
              "    <tr>\n",
              "      <th>...</th>\n",
              "      <td>...</td>\n",
              "    </tr>\n",
              "    <tr>\n",
              "      <th>840.0</th>\n",
              "      <td>0.067127</td>\n",
              "    </tr>\n",
              "    <tr>\n",
              "      <th>883.0</th>\n",
              "      <td>0.050346</td>\n",
              "    </tr>\n",
              "    <tr>\n",
              "      <th>965.0</th>\n",
              "      <td>0.050346</td>\n",
              "    </tr>\n",
              "    <tr>\n",
              "      <th>1010.0</th>\n",
              "      <td>0.050346</td>\n",
              "    </tr>\n",
              "    <tr>\n",
              "      <th>1022.0</th>\n",
              "      <td>0.050346</td>\n",
              "    </tr>\n",
              "  </tbody>\n",
              "</table>\n",
              "<p>187 rows × 1 columns</p>\n",
              "</div>"
            ],
            "text/plain": [
              "          KM_estimate\n",
              "timeline             \n",
              "0.0          1.000000\n",
              "5.0          0.995614\n",
              "11.0         0.982456\n",
              "12.0         0.978070\n",
              "13.0         0.969298\n",
              "...               ...\n",
              "840.0        0.067127\n",
              "883.0        0.050346\n",
              "965.0        0.050346\n",
              "1010.0       0.050346\n",
              "1022.0       0.050346\n",
              "\n",
              "[187 rows x 1 columns]"
            ]
          },
          "metadata": {
            "tags": []
          },
          "execution_count": 22
        }
      ]
    },
    {
      "cell_type": "code",
      "metadata": {
        "id": "pVu7DvklBgmp",
        "colab": {
          "base_uri": "https://localhost:8080/",
          "height": 313
        },
        "outputId": "36cb0dfc-f311-468c-dfc1-115480dbdd14"
      },
      "source": [
        "#Plot the graph:\n",
        "\n",
        "kmf.plot()\n",
        "plt.title(\"The Kaplan-Meier Estimate\")\n",
        "plt.xlabel(\"Number of days\")\n",
        "plt.ylabel(\"Probability of survival\")"
      ],
      "execution_count": null,
      "outputs": [
        {
          "output_type": "execute_result",
          "data": {
            "text/plain": [
              "Text(0, 0.5, 'Probability of survival')"
            ]
          },
          "metadata": {
            "tags": []
          },
          "execution_count": 23
        },
        {
          "output_type": "display_data",
          "data": {
            "image/png": "[encoded data removed]",
            "text/plain": [
              "<Figure size 432x288 with 1 Axes>"
            ]
          },
          "metadata": {
            "tags": [],
            "needs_background": "light"
          }
        }
      ]
    },
    {
      "cell_type": "code",
      "metadata": {
        "id": "DNMJ78KdBjA_",
        "colab": {
          "base_uri": "https://localhost:8080/",
          "height": 35
        },
        "outputId": "de944a44-362b-4d4e-c27e-54584543de55"
      },
      "source": [
        "#The median number of days:\n",
        "\n",
        "print(\"The median survival time: \",kmf.median_survival_time_)"
      ],
      "execution_count": null,
      "outputs": [
        {
          "output_type": "stream",
          "text": [
            "The median survival time:  310.0\n"
          ],
          "name": "stdout"
        }
      ]
    },
    {
      "cell_type": "code",
      "metadata": {
        "id": "0MqcBXbrBkg5",
        "colab": {
          "base_uri": "https://localhost:8080/",
          "height": 415
        },
        "outputId": "52ba5865-ddf8-422d-fed8-5373efa70679"
      },
      "source": [
        "#Survival probability with confidence interval:\n",
        "\n",
        "kmf.confidence_interval_survival_function_"
      ],
      "execution_count": null,
      "outputs": [
        {
          "output_type": "execute_result",
          "data": {
            "text/html": [
              "<div>\n",
              "<style scoped>\n",
              "    .dataframe tbody tr th:only-of-type {\n",
              "        vertical-align: middle;\n",
              "    }\n",
              "\n",
              "    .dataframe tbody tr th {\n",
              "        vertical-align: top;\n",
              "    }\n",
              "\n",
              "    .dataframe thead th {\n",
              "        text-align: right;\n",
              "    }\n",
              "</style>\n",
              "<table border=\"1\" class=\"dataframe\">\n",
              "  <thead>\n",
              "    <tr style=\"text-align: right;\">\n",
              "      <th></th>\n",
              "      <th>KM_estimate_lower_0.95</th>\n",
              "      <th>KM_estimate_upper_0.95</th>\n",
              "    </tr>\n",
              "  </thead>\n",
              "  <tbody>\n",
              "    <tr>\n",
              "      <th>0.0</th>\n",
              "      <td>1.000000</td>\n",
              "      <td>1.000000</td>\n",
              "    </tr>\n",
              "    <tr>\n",
              "      <th>5.0</th>\n",
              "      <td>0.969277</td>\n",
              "      <td>0.999381</td>\n",
              "    </tr>\n",
              "    <tr>\n",
              "      <th>11.0</th>\n",
              "      <td>0.953935</td>\n",
              "      <td>0.993379</td>\n",
              "    </tr>\n",
              "    <tr>\n",
              "      <th>12.0</th>\n",
              "      <td>0.948120</td>\n",
              "      <td>0.990813</td>\n",
              "    </tr>\n",
              "    <tr>\n",
              "      <th>13.0</th>\n",
              "      <td>0.936682</td>\n",
              "      <td>0.985244</td>\n",
              "    </tr>\n",
              "    <tr>\n",
              "      <th>...</th>\n",
              "      <td>...</td>\n",
              "      <td>...</td>\n",
              "    </tr>\n",
              "    <tr>\n",
              "      <th>840.0</th>\n",
              "      <td>0.030728</td>\n",
              "      <td>0.123060</td>\n",
              "    </tr>\n",
              "    <tr>\n",
              "      <th>883.0</th>\n",
              "      <td>0.017866</td>\n",
              "      <td>0.108662</td>\n",
              "    </tr>\n",
              "    <tr>\n",
              "      <th>965.0</th>\n",
              "      <td>0.017866</td>\n",
              "      <td>0.108662</td>\n",
              "    </tr>\n",
              "    <tr>\n",
              "      <th>1010.0</th>\n",
              "      <td>0.017866</td>\n",
              "      <td>0.108662</td>\n",
              "    </tr>\n",
              "    <tr>\n",
              "      <th>1022.0</th>\n",
              "      <td>0.017866</td>\n",
              "      <td>0.108662</td>\n",
              "    </tr>\n",
              "  </tbody>\n",
              "</table>\n",
              "<p>187 rows × 2 columns</p>\n",
              "</div>"
            ],
            "text/plain": [
              "        KM_estimate_lower_0.95  KM_estimate_upper_0.95\n",
              "0.0                   1.000000                1.000000\n",
              "5.0                   0.969277                0.999381\n",
              "11.0                  0.953935                0.993379\n",
              "12.0                  0.948120                0.990813\n",
              "13.0                  0.936682                0.985244\n",
              "...                        ...                     ...\n",
              "840.0                 0.030728                0.123060\n",
              "883.0                 0.017866                0.108662\n",
              "965.0                 0.017866                0.108662\n",
              "1010.0                0.017866                0.108662\n",
              "1022.0                0.017866                0.108662\n",
              "\n",
              "[187 rows x 2 columns]"
            ]
          },
          "metadata": {
            "tags": []
          },
          "execution_count": 25
        }
      ]
    },
    {
      "cell_type": "code",
      "metadata": {
        "id": "ispm5cIqBmdx",
        "colab": {
          "base_uri": "https://localhost:8080/",
          "height": 313
        },
        "outputId": "e0b18706-204d-48b4-fb45-a151901cbc4b"
      },
      "source": [
        "#Plot survival function with confidence interval:\n",
        "\n",
        "confidence_surv_func = kmf.confidence_interval_survival_function_\n",
        "\n",
        "plt.plot(confidence_surv_func[\"KM_estimate_lower_0.95\"],label=\"Lower\")\n",
        "plt.plot(confidence_surv_func[\"KM_estimate_upper_0.95\"],label=\"Upper\")\n",
        "plt.title(\"Survival Function With Confidence Interval\")\n",
        "plt.xlabel(\"Number of days\")\n",
        "plt.ylabel(\"Survival Probability\")\n",
        "plt.legend()"
      ],
      "execution_count": null,
      "outputs": [
        {
          "output_type": "execute_result",
          "data": {
            "text/plain": [
              "<matplotlib.legend.Legend at 0x7f2f210f0ac8>"
            ]
          },
          "metadata": {
            "tags": []
          },
          "execution_count": 26
        },
        {
          "output_type": "display_data",
          "data": {
            "image/png": "[encoded data removed]",
            "text/plain": [
              "<Figure size 432x288 with 1 Axes>"
            ]
          },
          "metadata": {
            "tags": [],
            "needs_background": "light"
          }
        }
      ]
    },
    {
      "cell_type": "code",
      "metadata": {
        "id": "VrOMVDtwBodb",
        "colab": {
          "base_uri": "https://localhost:8080/",
          "height": 446
        },
        "outputId": "54206356-84ce-4c13-d5ca-608d1b25e8bc"
      },
      "source": [
        "#Probabaility of a subject dying:\n",
        "#p(1022) = p(0) +......+p(1022)\n",
        "\n",
        "kmf.cumulative_density_"
      ],
      "execution_count": null,
      "outputs": [
        {
          "output_type": "execute_result",
          "data": {
            "text/html": [
              "<div>\n",
              "<style scoped>\n",
              "    .dataframe tbody tr th:only-of-type {\n",
              "        vertical-align: middle;\n",
              "    }\n",
              "\n",
              "    .dataframe tbody tr th {\n",
              "        vertical-align: top;\n",
              "    }\n",
              "\n",
              "    .dataframe thead th {\n",
              "        text-align: right;\n",
              "    }\n",
              "</style>\n",
              "<table border=\"1\" class=\"dataframe\">\n",
              "  <thead>\n",
              "    <tr style=\"text-align: right;\">\n",
              "      <th></th>\n",
              "      <th>KM_estimate</th>\n",
              "    </tr>\n",
              "    <tr>\n",
              "      <th>timeline</th>\n",
              "      <th></th>\n",
              "    </tr>\n",
              "  </thead>\n",
              "  <tbody>\n",
              "    <tr>\n",
              "      <th>0.0</th>\n",
              "      <td>0.000000</td>\n",
              "    </tr>\n",
              "    <tr>\n",
              "      <th>5.0</th>\n",
              "      <td>0.004386</td>\n",
              "    </tr>\n",
              "    <tr>\n",
              "      <th>11.0</th>\n",
              "      <td>0.017544</td>\n",
              "    </tr>\n",
              "    <tr>\n",
              "      <th>12.0</th>\n",
              "      <td>0.021930</td>\n",
              "    </tr>\n",
              "    <tr>\n",
              "      <th>13.0</th>\n",
              "      <td>0.030702</td>\n",
              "    </tr>\n",
              "    <tr>\n",
              "      <th>...</th>\n",
              "      <td>...</td>\n",
              "    </tr>\n",
              "    <tr>\n",
              "      <th>840.0</th>\n",
              "      <td>0.932873</td>\n",
              "    </tr>\n",
              "    <tr>\n",
              "      <th>883.0</th>\n",
              "      <td>0.949654</td>\n",
              "    </tr>\n",
              "    <tr>\n",
              "      <th>965.0</th>\n",
              "      <td>0.949654</td>\n",
              "    </tr>\n",
              "    <tr>\n",
              "      <th>1010.0</th>\n",
              "      <td>0.949654</td>\n",
              "    </tr>\n",
              "    <tr>\n",
              "      <th>1022.0</th>\n",
              "      <td>0.949654</td>\n",
              "    </tr>\n",
              "  </tbody>\n",
              "</table>\n",
              "<p>187 rows × 1 columns</p>\n",
              "</div>"
            ],
            "text/plain": [
              "          KM_estimate\n",
              "timeline             \n",
              "0.0          0.000000\n",
              "5.0          0.004386\n",
              "11.0         0.017544\n",
              "12.0         0.021930\n",
              "13.0         0.030702\n",
              "...               ...\n",
              "840.0        0.932873\n",
              "883.0        0.949654\n",
              "965.0        0.949654\n",
              "1010.0       0.949654\n",
              "1022.0       0.949654\n",
              "\n",
              "[187 rows x 1 columns]"
            ]
          },
          "metadata": {
            "tags": []
          },
          "execution_count": 27
        }
      ]
    },
    {
      "cell_type": "code",
      "metadata": {
        "id": "TbKSaN1FBqKT",
        "colab": {
          "base_uri": "https://localhost:8080/",
          "height": 313
        },
        "outputId": "73e141e6-776c-4f66-9203-c11915509cf3"
      },
      "source": [
        "#Plot the cumulative density graph:\n",
        "\n",
        "kmf.plot_cumulative_density()\n",
        "plt.title(\"Cumulative Density Plot\")\n",
        "plt.xlabel(\"Number of days\")\n",
        "plt.ylabel(\"Probability of person's death\")"
      ],
      "execution_count": null,
      "outputs": [
        {
          "output_type": "execute_result",
          "data": {
            "text/plain": [
              "Text(0, 0.5, \"Probability of person's death\")"
            ]
          },
          "metadata": {
            "tags": []
          },
          "execution_count": 28
        },
        {
          "output_type": "display_data",
          "data": {
            "image/png": "[encoded data removed]",
            "text/plain": [
              "<Figure size 432x288 with 1 Axes>"
            ]
          },
          "metadata": {
            "tags": [],
            "needs_background": "light"
          }
        }
      ]
    },
    {
      "cell_type": "code",
      "metadata": {
        "id": "JDFILSnSBsVy",
        "colab": {
          "base_uri": "https://localhost:8080/",
          "height": 415
        },
        "outputId": "4fb3d494-6e12-41aa-c423-77a5d20e6353"
      },
      "source": [
        "#Cumulative density with confidence interval:\n",
        "\n",
        "kmf.confidence_interval_cumulative_density_"
      ],
      "execution_count": null,
      "outputs": [
        {
          "output_type": "execute_result",
          "data": {
            "text/html": [
              "<div>\n",
              "<style scoped>\n",
              "    .dataframe tbody tr th:only-of-type {\n",
              "        vertical-align: middle;\n",
              "    }\n",
              "\n",
              "    .dataframe tbody tr th {\n",
              "        vertical-align: top;\n",
              "    }\n",
              "\n",
              "    .dataframe thead th {\n",
              "        text-align: right;\n",
              "    }\n",
              "</style>\n",
              "<table border=\"1\" class=\"dataframe\">\n",
              "  <thead>\n",
              "    <tr style=\"text-align: right;\">\n",
              "      <th></th>\n",
              "      <th>KM_estimate_lower_0.95</th>\n",
              "      <th>KM_estimate_upper_0.95</th>\n",
              "    </tr>\n",
              "  </thead>\n",
              "  <tbody>\n",
              "    <tr>\n",
              "      <th>0.0</th>\n",
              "      <td>0.000000</td>\n",
              "      <td>0.000000</td>\n",
              "    </tr>\n",
              "    <tr>\n",
              "      <th>5.0</th>\n",
              "      <td>0.030723</td>\n",
              "      <td>0.000619</td>\n",
              "    </tr>\n",
              "    <tr>\n",
              "      <th>11.0</th>\n",
              "      <td>0.046065</td>\n",
              "      <td>0.006621</td>\n",
              "    </tr>\n",
              "    <tr>\n",
              "      <th>12.0</th>\n",
              "      <td>0.051880</td>\n",
              "      <td>0.009187</td>\n",
              "    </tr>\n",
              "    <tr>\n",
              "      <th>13.0</th>\n",
              "      <td>0.063318</td>\n",
              "      <td>0.014756</td>\n",
              "    </tr>\n",
              "    <tr>\n",
              "      <th>...</th>\n",
              "      <td>...</td>\n",
              "      <td>...</td>\n",
              "    </tr>\n",
              "    <tr>\n",
              "      <th>840.0</th>\n",
              "      <td>0.969272</td>\n",
              "      <td>0.876940</td>\n",
              "    </tr>\n",
              "    <tr>\n",
              "      <th>883.0</th>\n",
              "      <td>0.982134</td>\n",
              "      <td>0.891338</td>\n",
              "    </tr>\n",
              "    <tr>\n",
              "      <th>965.0</th>\n",
              "      <td>0.982134</td>\n",
              "      <td>0.891338</td>\n",
              "    </tr>\n",
              "    <tr>\n",
              "      <th>1010.0</th>\n",
              "      <td>0.982134</td>\n",
              "      <td>0.891338</td>\n",
              "    </tr>\n",
              "    <tr>\n",
              "      <th>1022.0</th>\n",
              "      <td>0.982134</td>\n",
              "      <td>0.891338</td>\n",
              "    </tr>\n",
              "  </tbody>\n",
              "</table>\n",
              "<p>187 rows × 2 columns</p>\n",
              "</div>"
            ],
            "text/plain": [
              "        KM_estimate_lower_0.95  KM_estimate_upper_0.95\n",
              "0.0                   0.000000                0.000000\n",
              "5.0                   0.030723                0.000619\n",
              "11.0                  0.046065                0.006621\n",
              "12.0                  0.051880                0.009187\n",
              "13.0                  0.063318                0.014756\n",
              "...                        ...                     ...\n",
              "840.0                 0.969272                0.876940\n",
              "883.0                 0.982134                0.891338\n",
              "965.0                 0.982134                0.891338\n",
              "1010.0                0.982134                0.891338\n",
              "1022.0                0.982134                0.891338\n",
              "\n",
              "[187 rows x 2 columns]"
            ]
          },
          "metadata": {
            "tags": []
          },
          "execution_count": 29
        }
      ]
    },
    {
      "cell_type": "code",
      "metadata": {
        "id": "fOMS6OoWBuHm",
        "colab": {
          "base_uri": "https://localhost:8080/",
          "height": 313
        },
        "outputId": "3ee93c92-26a1-46db-8b5e-942fd7884325"
      },
      "source": [
        "#Plot cumulative density with confidence interval:\n",
        "\n",
        "confidence_cumulative_density = kmf.confidence_interval_cumulative_density_\n",
        "\n",
        "plt.plot(kmf.confidence_interval_cumulative_density_[\"KM_estimate_lower_0.95\"],label=\"Lower\")\n",
        "plt.plot(kmf.confidence_interval_cumulative_density_[\"KM_estimate_upper_0.95\"],label=\"Upper\")\n",
        "plt.title(\"Cumulative Density With Confidence Interval\")\n",
        "plt.xlabel(\"Number of days\")\n",
        "plt.ylabel(\"Cumulative Density\")\n",
        "plt.legend()"
      ],
      "execution_count": null,
      "outputs": [
        {
          "output_type": "execute_result",
          "data": {
            "text/plain": [
              "<matplotlib.legend.Legend at 0x7f2f20faabe0>"
            ]
          },
          "metadata": {
            "tags": []
          },
          "execution_count": 30
        },
        {
          "output_type": "display_data",
          "data": {
            "image/png": "[encoded data removed]",
            "text/plain": [
              "<Figure size 432x288 with 1 Axes>"
            ]
          },
          "metadata": {
            "tags": [],
            "needs_background": "light"
          }
        }
      ]
    },
    {
      "cell_type": "code",
      "metadata": {
        "id": "a0rpXeLkBvIV",
        "colab": {
          "base_uri": "https://localhost:8080/",
          "height": 52
        },
        "outputId": "a8232193-fe69-4673-d109-4896c8dc3970"
      },
      "source": [
        "#Find cumulative density at a specific time:\n",
        "\n",
        "kmf.cumulative_density_at_times(times=1022)"
      ],
      "execution_count": null,
      "outputs": [
        {
          "output_type": "execute_result",
          "data": {
            "text/plain": [
              "1022    0.949654\n",
              "Name: KM_estimate, dtype: float64"
            ]
          },
          "metadata": {
            "tags": []
          },
          "execution_count": 31
        }
      ]
    },
    {
      "cell_type": "code",
      "metadata": {
        "id": "w0pAG-D4ByWX",
        "colab": {
          "base_uri": "https://localhost:8080/",
          "height": 446
        },
        "outputId": "f285eb3e-79c6-4a3d-972b-8f976b6fab21"
      },
      "source": [
        "#Conditional median time to event of interest:\n",
        "\n",
        "kmf.conditional_time_to_event_"
      ],
      "execution_count": null,
      "outputs": [
        {
          "output_type": "execute_result",
          "data": {
            "text/html": [
              "<div>\n",
              "<style scoped>\n",
              "    .dataframe tbody tr th:only-of-type {\n",
              "        vertical-align: middle;\n",
              "    }\n",
              "\n",
              "    .dataframe tbody tr th {\n",
              "        vertical-align: top;\n",
              "    }\n",
              "\n",
              "    .dataframe thead th {\n",
              "        text-align: right;\n",
              "    }\n",
              "</style>\n",
              "<table border=\"1\" class=\"dataframe\">\n",
              "  <thead>\n",
              "    <tr style=\"text-align: right;\">\n",
              "      <th></th>\n",
              "      <th>KM_estimate - Conditional median duration remaining to event</th>\n",
              "    </tr>\n",
              "    <tr>\n",
              "      <th>timeline</th>\n",
              "      <th></th>\n",
              "    </tr>\n",
              "  </thead>\n",
              "  <tbody>\n",
              "    <tr>\n",
              "      <th>0.0</th>\n",
              "      <td>310.0</td>\n",
              "    </tr>\n",
              "    <tr>\n",
              "      <th>5.0</th>\n",
              "      <td>305.0</td>\n",
              "    </tr>\n",
              "    <tr>\n",
              "      <th>11.0</th>\n",
              "      <td>309.0</td>\n",
              "    </tr>\n",
              "    <tr>\n",
              "      <th>12.0</th>\n",
              "      <td>308.0</td>\n",
              "    </tr>\n",
              "    <tr>\n",
              "      <th>13.0</th>\n",
              "      <td>316.0</td>\n",
              "    </tr>\n",
              "    <tr>\n",
              "      <th>...</th>\n",
              "      <td>...</td>\n",
              "    </tr>\n",
              "    <tr>\n",
              "      <th>840.0</th>\n",
              "      <td>inf</td>\n",
              "    </tr>\n",
              "    <tr>\n",
              "      <th>883.0</th>\n",
              "      <td>inf</td>\n",
              "    </tr>\n",
              "    <tr>\n",
              "      <th>965.0</th>\n",
              "      <td>inf</td>\n",
              "    </tr>\n",
              "    <tr>\n",
              "      <th>1010.0</th>\n",
              "      <td>inf</td>\n",
              "    </tr>\n",
              "    <tr>\n",
              "      <th>1022.0</th>\n",
              "      <td>inf</td>\n",
              "    </tr>\n",
              "  </tbody>\n",
              "</table>\n",
              "<p>187 rows × 1 columns</p>\n",
              "</div>"
            ],
            "text/plain": [
              "          KM_estimate - Conditional median duration remaining to event\n",
              "timeline                                                              \n",
              "0.0                                                   310.0           \n",
              "5.0                                                   305.0           \n",
              "11.0                                                  309.0           \n",
              "12.0                                                  308.0           \n",
              "13.0                                                  316.0           \n",
              "...                                                     ...           \n",
              "840.0                                                   inf           \n",
              "883.0                                                   inf           \n",
              "965.0                                                   inf           \n",
              "1010.0                                                  inf           \n",
              "1022.0                                                  inf           \n",
              "\n",
              "[187 rows x 1 columns]"
            ]
          },
          "metadata": {
            "tags": []
          },
          "execution_count": 32
        }
      ]
    },
    {
      "cell_type": "code",
      "metadata": {
        "id": "a2-YQc_qB2dU",
        "colab": {
          "base_uri": "https://localhost:8080/",
          "height": 313
        },
        "outputId": "6cc233ab-a490-4ca4-be7d-58b03550e4d8"
      },
      "source": [
        "#Conditional median time left for event:\n",
        "\n",
        "median_time_to_event = kmf.conditional_time_to_event_\n",
        "plt.plot(median_time_to_event,label=\"Median Time left\")\n",
        "plt.title(\"Medain time to event\")\n",
        "plt.xlabel(\"Total days\")\n",
        "plt.ylabel(\"Conditional median time to event\")\n",
        "plt.legend()"
      ],
      "execution_count": null,
      "outputs": [
        {
          "output_type": "execute_result",
          "data": {
            "text/plain": [
              "<matplotlib.legend.Legend at 0x7f2f20f2eef0>"
            ]
          },
          "metadata": {
            "tags": []
          },
          "execution_count": 33
        },
        {
          "output_type": "display_data",
          "data": {
            "image/png": "[encoded data removed]",
            "text/plain": [
              "<Figure size 432x288 with 1 Axes>"
            ]
          },
          "metadata": {
            "tags": [],
            "needs_background": "light"
          }
        }
      ]
    },
    {
      "cell_type": "markdown",
      "metadata": {
        "id": "v1rcsrmHCB7P"
      },
      "source": [
        "##3. Nelson-Aalen-Estimator"
      ]
    },
    {
      "cell_type": "code",
      "metadata": {
        "id": "IPo6Fd2tCEkl",
        "colab": {
          "base_uri": "https://localhost:8080/",
          "height": 35
        },
        "outputId": "b22cf560-d998-468a-e6f8-8fc686a4b956"
      },
      "source": [
        "#Hazard function:\n",
        "\n",
        "from lifelines import NelsonAalenFitter\n",
        "\n",
        "#Create an object of NelsonAalenFitter:\n",
        "\n",
        "naf = NelsonAalenFitter()\n",
        "\n",
        "#Fit our data into the object:\n",
        "\n",
        "naf.fit(data[\"time\"], event_observed=data[\"dead\"])"
      ],
      "execution_count": null,
      "outputs": [
        {
          "output_type": "execute_result",
          "data": {
            "text/plain": [
              "<lifelines.NelsonAalenFitter:\"NA_estimate\", fitted with 228 total observations, 63 right-censored observations>"
            ]
          },
          "metadata": {
            "tags": []
          },
          "execution_count": 34
        }
      ]
    },
    {
      "cell_type": "code",
      "metadata": {
        "id": "jzQ_vOD3CJIy",
        "colab": {
          "base_uri": "https://localhost:8080/",
          "height": 446
        },
        "outputId": "3efc4c5e-25c1-45ff-86ff-ed69cc1b4d09"
      },
      "source": [
        "#Print the cumulative hazard:\n",
        "\n",
        "naf.cumulative_hazard_"
      ],
      "execution_count": null,
      "outputs": [
        {
          "output_type": "execute_result",
          "data": {
            "text/html": [
              "<div>\n",
              "<style scoped>\n",
              "    .dataframe tbody tr th:only-of-type {\n",
              "        vertical-align: middle;\n",
              "    }\n",
              "\n",
              "    .dataframe tbody tr th {\n",
              "        vertical-align: top;\n",
              "    }\n",
              "\n",
              "    .dataframe thead th {\n",
              "        text-align: right;\n",
              "    }\n",
              "</style>\n",
              "<table border=\"1\" class=\"dataframe\">\n",
              "  <thead>\n",
              "    <tr style=\"text-align: right;\">\n",
              "      <th></th>\n",
              "      <th>NA_estimate</th>\n",
              "    </tr>\n",
              "    <tr>\n",
              "      <th>timeline</th>\n",
              "      <th></th>\n",
              "    </tr>\n",
              "  </thead>\n",
              "  <tbody>\n",
              "    <tr>\n",
              "      <th>0.0</th>\n",
              "      <td>0.000000</td>\n",
              "    </tr>\n",
              "    <tr>\n",
              "      <th>5.0</th>\n",
              "      <td>0.004386</td>\n",
              "    </tr>\n",
              "    <tr>\n",
              "      <th>11.0</th>\n",
              "      <td>0.017660</td>\n",
              "    </tr>\n",
              "    <tr>\n",
              "      <th>12.0</th>\n",
              "      <td>0.022125</td>\n",
              "    </tr>\n",
              "    <tr>\n",
              "      <th>13.0</th>\n",
              "      <td>0.031114</td>\n",
              "    </tr>\n",
              "    <tr>\n",
              "      <th>...</th>\n",
              "      <td>...</td>\n",
              "    </tr>\n",
              "    <tr>\n",
              "      <th>840.0</th>\n",
              "      <td>2.641565</td>\n",
              "    </tr>\n",
              "    <tr>\n",
              "      <th>883.0</th>\n",
              "      <td>2.891565</td>\n",
              "    </tr>\n",
              "    <tr>\n",
              "      <th>965.0</th>\n",
              "      <td>2.891565</td>\n",
              "    </tr>\n",
              "    <tr>\n",
              "      <th>1010.0</th>\n",
              "      <td>2.891565</td>\n",
              "    </tr>\n",
              "    <tr>\n",
              "      <th>1022.0</th>\n",
              "      <td>2.891565</td>\n",
              "    </tr>\n",
              "  </tbody>\n",
              "</table>\n",
              "<p>187 rows × 1 columns</p>\n",
              "</div>"
            ],
            "text/plain": [
              "          NA_estimate\n",
              "timeline             \n",
              "0.0          0.000000\n",
              "5.0          0.004386\n",
              "11.0         0.017660\n",
              "12.0         0.022125\n",
              "13.0         0.031114\n",
              "...               ...\n",
              "840.0        2.641565\n",
              "883.0        2.891565\n",
              "965.0        2.891565\n",
              "1010.0       2.891565\n",
              "1022.0       2.891565\n",
              "\n",
              "[187 rows x 1 columns]"
            ]
          },
          "metadata": {
            "tags": []
          },
          "execution_count": 35
        }
      ]
    },
    {
      "cell_type": "code",
      "metadata": {
        "id": "otEf9mMACK4X",
        "colab": {
          "base_uri": "https://localhost:8080/",
          "height": 313
        },
        "outputId": "66eca23a-1100-4e21-8961-f1873436f0fd"
      },
      "source": [
        "#Plot the cumulative hazard grpah:\n",
        "\n",
        "naf.plot_cumulative_hazard()\n",
        "plt.title(\"Cumulative Probability for Event of Interest\")\n",
        "plt.xlabel(\"Number of days\")\n",
        "plt.ylabel(\"Cumulative Probability of person's death\")"
      ],
      "execution_count": null,
      "outputs": [
        {
          "output_type": "execute_result",
          "data": {
            "text/plain": [
              "Text(0, 0.5, \"Cumulative Probability of person's death\")"
            ]
          },
          "metadata": {
            "tags": []
          },
          "execution_count": 36
        },
        {
          "output_type": "display_data",
          "data": {
            "image/png": "[encoded data removed]",
            "text/plain": [
              "<Figure size 432x288 with 1 Axes>"
            ]
          },
          "metadata": {
            "tags": [],
            "needs_background": "light"
          }
        }
      ]
    },
    {
      "cell_type": "code",
      "metadata": {
        "id": "jrxfPwT_CNie",
        "colab": {
          "base_uri": "https://localhost:8080/",
          "height": 52
        },
        "outputId": "f036d6e6-9ea1-48c5-8d7a-7c248df0940d"
      },
      "source": [
        "#We can predict the value at a certain point :\n",
        "\n",
        "print(\"Time = 500 days: \",naf.predict(500))\n",
        "print(\"Time = 1022 days: \",naf.predict(1022))"
      ],
      "execution_count": null,
      "outputs": [
        {
          "output_type": "stream",
          "text": [
            "Time = 500 days:  1.219546171331098\n",
            "Time = 1022 days:  2.8915648373471052\n"
          ],
          "name": "stdout"
        }
      ]
    },
    {
      "cell_type": "code",
      "metadata": {
        "id": "GX2swwTWCPMr",
        "colab": {
          "base_uri": "https://localhost:8080/",
          "height": 415
        },
        "outputId": "0a742647-285d-4d4a-8952-49d5ce15855f"
      },
      "source": [
        "#Cumulative hazard with confidence interval:\n",
        "\n",
        "naf.confidence_interval_"
      ],
      "execution_count": null,
      "outputs": [
        {
          "output_type": "execute_result",
          "data": {
            "text/html": [
              "<div>\n",
              "<style scoped>\n",
              "    .dataframe tbody tr th:only-of-type {\n",
              "        vertical-align: middle;\n",
              "    }\n",
              "\n",
              "    .dataframe tbody tr th {\n",
              "        vertical-align: top;\n",
              "    }\n",
              "\n",
              "    .dataframe thead th {\n",
              "        text-align: right;\n",
              "    }\n",
              "</style>\n",
              "<table border=\"1\" class=\"dataframe\">\n",
              "  <thead>\n",
              "    <tr style=\"text-align: right;\">\n",
              "      <th></th>\n",
              "      <th>NA_estimate_lower_0.95</th>\n",
              "      <th>NA_estimate_upper_0.95</th>\n",
              "    </tr>\n",
              "  </thead>\n",
              "  <tbody>\n",
              "    <tr>\n",
              "      <th>0.0</th>\n",
              "      <td>0.000000</td>\n",
              "      <td>0.000000</td>\n",
              "    </tr>\n",
              "    <tr>\n",
              "      <th>5.0</th>\n",
              "      <td>0.000618</td>\n",
              "      <td>0.031136</td>\n",
              "    </tr>\n",
              "    <tr>\n",
              "      <th>11.0</th>\n",
              "      <td>0.006628</td>\n",
              "      <td>0.047055</td>\n",
              "    </tr>\n",
              "    <tr>\n",
              "      <th>12.0</th>\n",
              "      <td>0.009209</td>\n",
              "      <td>0.053156</td>\n",
              "    </tr>\n",
              "    <tr>\n",
              "      <th>13.0</th>\n",
              "      <td>0.014832</td>\n",
              "      <td>0.065266</td>\n",
              "    </tr>\n",
              "    <tr>\n",
              "      <th>...</th>\n",
              "      <td>...</td>\n",
              "      <td>...</td>\n",
              "    </tr>\n",
              "    <tr>\n",
              "      <th>840.0</th>\n",
              "      <td>2.058738</td>\n",
              "      <td>3.389389</td>\n",
              "    </tr>\n",
              "    <tr>\n",
              "      <th>883.0</th>\n",
              "      <td>2.176987</td>\n",
              "      <td>3.840697</td>\n",
              "    </tr>\n",
              "    <tr>\n",
              "      <th>965.0</th>\n",
              "      <td>2.176987</td>\n",
              "      <td>3.840697</td>\n",
              "    </tr>\n",
              "    <tr>\n",
              "      <th>1010.0</th>\n",
              "      <td>2.176987</td>\n",
              "      <td>3.840697</td>\n",
              "    </tr>\n",
              "    <tr>\n",
              "      <th>1022.0</th>\n",
              "      <td>2.176987</td>\n",
              "      <td>3.840697</td>\n",
              "    </tr>\n",
              "  </tbody>\n",
              "</table>\n",
              "<p>187 rows × 2 columns</p>\n",
              "</div>"
            ],
            "text/plain": [
              "        NA_estimate_lower_0.95  NA_estimate_upper_0.95\n",
              "0.0                   0.000000                0.000000\n",
              "5.0                   0.000618                0.031136\n",
              "11.0                  0.006628                0.047055\n",
              "12.0                  0.009209                0.053156\n",
              "13.0                  0.014832                0.065266\n",
              "...                        ...                     ...\n",
              "840.0                 2.058738                3.389389\n",
              "883.0                 2.176987                3.840697\n",
              "965.0                 2.176987                3.840697\n",
              "1010.0                2.176987                3.840697\n",
              "1022.0                2.176987                3.840697\n",
              "\n",
              "[187 rows x 2 columns]"
            ]
          },
          "metadata": {
            "tags": []
          },
          "execution_count": 38
        }
      ]
    },
    {
      "cell_type": "code",
      "metadata": {
        "id": "-OAiTskdCRS0",
        "colab": {
          "base_uri": "https://localhost:8080/",
          "height": 313
        },
        "outputId": "eae5d288-94db-492e-c7a3-1dbcf35023de"
      },
      "source": [
        "#Plot cumulative hazard with confidence interval:\n",
        "\n",
        "confidence_interval = naf.confidence_interval_\n",
        "\n",
        "plt.plot(confidence_interval[\"NA_estimate_lower_0.95\"],label=\"Lower\")\n",
        "plt.plot(confidence_interval[\"NA_estimate_upper_0.95\"],label=\"Upper\")\n",
        "plt.title(\"Cumulative hazard With Confidence Interval\")\n",
        "plt.xlabel(\"Number of days\")\n",
        "plt.ylabel(\"Cumulative hazard\")\n",
        "plt.legend()"
      ],
      "execution_count": null,
      "outputs": [
        {
          "output_type": "execute_result",
          "data": {
            "text/plain": [
              "<matplotlib.legend.Legend at 0x7f2f228dc940>"
            ]
          },
          "metadata": {
            "tags": []
          },
          "execution_count": 39
        },
        {
          "output_type": "display_data",
          "data": {
            "image/png": "[encoded data removed]",
            "text/plain": [
              "<Figure size 432x288 with 1 Axes>"
            ]
          },
          "metadata": {
            "tags": [],
            "needs_background": "light"
          }
        }
      ]
    },
    {
      "cell_type": "code",
      "metadata": {
        "id": "EfHDgOQ5CTLz",
        "colab": {
          "base_uri": "https://localhost:8080/",
          "height": 299
        },
        "outputId": "85f45a78-7874-4a14-c730-6665b55bfab1"
      },
      "source": [
        "#Plot the cumulative_hazard and cumulative density:\n",
        "\n",
        "kmf.plot_cumulative_density(label=\"Cumulative Hazard\")\n",
        "naf.plot_cumulative_hazard(label=\"Cumulative Density\")\n",
        "plt.xlabel(\"Number of Days\")"
      ],
      "execution_count": null,
      "outputs": [
        {
          "output_type": "execute_result",
          "data": {
            "text/plain": [
              "Text(0.5, 0, 'Number of Days')"
            ]
          },
          "metadata": {
            "tags": []
          },
          "execution_count": 40
        },
        {
          "output_type": "display_data",
          "data": {
            "image/png": "[encoded data removed]",
            "text/plain": [
              "<Figure size 432x288 with 1 Axes>"
            ]
          },
          "metadata": {
            "tags": [],
            "needs_background": "light"
          }
        }
      ]
    },
    {
      "cell_type": "markdown",
      "metadata": {
        "id": "UDWUlC65Cxjr"
      },
      "source": [
        "##4. Kaplan-Meier fitter Based on Different Groups"
      ]
    },
    {
      "cell_type": "code",
      "metadata": {
        "id": "p1QDA1AjC5WI",
        "colab": {
          "base_uri": "https://localhost:8080/",
          "height": 202
        },
        "outputId": "56124bd6-33fc-4ff7-c2f4-a8c448db1346"
      },
      "source": [
        "#Import required libraries:\n",
        "\n",
        "import pandas as pd\n",
        "import numpy as np\n",
        "import matplotlib.pyplot as plt\n",
        "from lifelines import KaplanMeierFitter\n",
        "\n",
        "#Read the dataset:\n",
        "\n",
        "data = pd.read_csv(\"lung.csv\")\n",
        "data.head()"
      ],
      "execution_count": null,
      "outputs": [
        {
          "output_type": "execute_result",
          "data": {
            "text/html": [
              "<div>\n",
              "<style scoped>\n",
              "    .dataframe tbody tr th:only-of-type {\n",
              "        vertical-align: middle;\n",
              "    }\n",
              "\n",
              "    .dataframe tbody tr th {\n",
              "        vertical-align: top;\n",
              "    }\n",
              "\n",
              "    .dataframe thead th {\n",
              "        text-align: right;\n",
              "    }\n",
              "</style>\n",
              "<table border=\"1\" class=\"dataframe\">\n",
              "  <thead>\n",
              "    <tr style=\"text-align: right;\">\n",
              "      <th></th>\n",
              "      <th>Unnamed: 0</th>\n",
              "      <th>inst</th>\n",
              "      <th>time</th>\n",
              "      <th>status</th>\n",
              "      <th>age</th>\n",
              "      <th>sex</th>\n",
              "      <th>ph.ecog</th>\n",
              "      <th>ph.karno</th>\n",
              "      <th>pat.karno</th>\n",
              "      <th>meal.cal</th>\n",
              "      <th>wt.loss</th>\n",
              "    </tr>\n",
              "  </thead>\n",
              "  <tbody>\n",
              "    <tr>\n",
              "      <th>0</th>\n",
              "      <td>1</td>\n",
              "      <td>3.0</td>\n",
              "      <td>306</td>\n",
              "      <td>2</td>\n",
              "      <td>74</td>\n",
              "      <td>1</td>\n",
              "      <td>1.0</td>\n",
              "      <td>90.0</td>\n",
              "      <td>100.0</td>\n",
              "      <td>1175.0</td>\n",
              "      <td>NaN</td>\n",
              "    </tr>\n",
              "    <tr>\n",
              "      <th>1</th>\n",
              "      <td>2</td>\n",
              "      <td>3.0</td>\n",
              "      <td>455</td>\n",
              "      <td>2</td>\n",
              "      <td>68</td>\n",
              "      <td>1</td>\n",
              "      <td>0.0</td>\n",
              "      <td>90.0</td>\n",
              "      <td>90.0</td>\n",
              "      <td>1225.0</td>\n",
              "      <td>15.0</td>\n",
              "    </tr>\n",
              "    <tr>\n",
              "      <th>2</th>\n",
              "      <td>3</td>\n",
              "      <td>3.0</td>\n",
              "      <td>1010</td>\n",
              "      <td>1</td>\n",
              "      <td>56</td>\n",
              "      <td>1</td>\n",
              "      <td>0.0</td>\n",
              "      <td>90.0</td>\n",
              "      <td>90.0</td>\n",
              "      <td>NaN</td>\n",
              "      <td>15.0</td>\n",
              "    </tr>\n",
              "    <tr>\n",
              "      <th>3</th>\n",
              "      <td>4</td>\n",
              "      <td>5.0</td>\n",
              "      <td>210</td>\n",
              "      <td>2</td>\n",
              "      <td>57</td>\n",
              "      <td>1</td>\n",
              "      <td>1.0</td>\n",
              "      <td>90.0</td>\n",
              "      <td>60.0</td>\n",
              "      <td>1150.0</td>\n",
              "      <td>11.0</td>\n",
              "    </tr>\n",
              "    <tr>\n",
              "      <th>4</th>\n",
              "      <td>5</td>\n",
              "      <td>1.0</td>\n",
              "      <td>883</td>\n",
              "      <td>2</td>\n",
              "      <td>60</td>\n",
              "      <td>1</td>\n",
              "      <td>0.0</td>\n",
              "      <td>100.0</td>\n",
              "      <td>90.0</td>\n",
              "      <td>NaN</td>\n",
              "      <td>0.0</td>\n",
              "    </tr>\n",
              "  </tbody>\n",
              "</table>\n",
              "</div>"
            ],
            "text/plain": [
              "   Unnamed: 0  inst  time  status  ...  ph.karno  pat.karno  meal.cal  wt.loss\n",
              "0           1   3.0   306       2  ...      90.0      100.0    1175.0      NaN\n",
              "1           2   3.0   455       2  ...      90.0       90.0    1225.0     15.0\n",
              "2           3   3.0  1010       1  ...      90.0       90.0       NaN     15.0\n",
              "3           4   5.0   210       2  ...      90.0       60.0    1150.0     11.0\n",
              "4           5   1.0   883       2  ...     100.0       90.0       NaN      0.0\n",
              "\n",
              "[5 rows x 11 columns]"
            ]
          },
          "metadata": {
            "tags": []
          },
          "execution_count": 41
        }
      ]
    },
    {
      "cell_type": "code",
      "metadata": {
        "id": "soRNDZy_DArB",
        "colab": {
          "base_uri": "https://localhost:8080/",
          "height": 202
        },
        "outputId": "9b491aab-39a1-484b-8374-c05c36ae5bc2"
      },
      "source": [
        "#Organize our data:\n",
        "\n",
        "#If status = 1 , then dead = 0\n",
        "#If status = 2 , then dead = 1\n",
        "\n",
        "data.loc[data.status == 1, 'dead'] = 0\n",
        "data.loc[data.status == 2, 'dead'] = 1\n",
        "\n",
        "data.head()"
      ],
      "execution_count": null,
      "outputs": [
        {
          "output_type": "execute_result",
          "data": {
            "text/html": [
              "<div>\n",
              "<style scoped>\n",
              "    .dataframe tbody tr th:only-of-type {\n",
              "        vertical-align: middle;\n",
              "    }\n",
              "\n",
              "    .dataframe tbody tr th {\n",
              "        vertical-align: top;\n",
              "    }\n",
              "\n",
              "    .dataframe thead th {\n",
              "        text-align: right;\n",
              "    }\n",
              "</style>\n",
              "<table border=\"1\" class=\"dataframe\">\n",
              "  <thead>\n",
              "    <tr style=\"text-align: right;\">\n",
              "      <th></th>\n",
              "      <th>Unnamed: 0</th>\n",
              "      <th>inst</th>\n",
              "      <th>time</th>\n",
              "      <th>status</th>\n",
              "      <th>age</th>\n",
              "      <th>sex</th>\n",
              "      <th>ph.ecog</th>\n",
              "      <th>ph.karno</th>\n",
              "      <th>pat.karno</th>\n",
              "      <th>meal.cal</th>\n",
              "      <th>wt.loss</th>\n",
              "      <th>dead</th>\n",
              "    </tr>\n",
              "  </thead>\n",
              "  <tbody>\n",
              "    <tr>\n",
              "      <th>0</th>\n",
              "      <td>1</td>\n",
              "      <td>3.0</td>\n",
              "      <td>306</td>\n",
              "      <td>2</td>\n",
              "      <td>74</td>\n",
              "      <td>1</td>\n",
              "      <td>1.0</td>\n",
              "      <td>90.0</td>\n",
              "      <td>100.0</td>\n",
              "      <td>1175.0</td>\n",
              "      <td>NaN</td>\n",
              "      <td>1.0</td>\n",
              "    </tr>\n",
              "    <tr>\n",
              "      <th>1</th>\n",
              "      <td>2</td>\n",
              "      <td>3.0</td>\n",
              "      <td>455</td>\n",
              "      <td>2</td>\n",
              "      <td>68</td>\n",
              "      <td>1</td>\n",
              "      <td>0.0</td>\n",
              "      <td>90.0</td>\n",
              "      <td>90.0</td>\n",
              "      <td>1225.0</td>\n",
              "      <td>15.0</td>\n",
              "      <td>1.0</td>\n",
              "    </tr>\n",
              "    <tr>\n",
              "      <th>2</th>\n",
              "      <td>3</td>\n",
              "      <td>3.0</td>\n",
              "      <td>1010</td>\n",
              "      <td>1</td>\n",
              "      <td>56</td>\n",
              "      <td>1</td>\n",
              "      <td>0.0</td>\n",
              "      <td>90.0</td>\n",
              "      <td>90.0</td>\n",
              "      <td>NaN</td>\n",
              "      <td>15.0</td>\n",
              "      <td>0.0</td>\n",
              "    </tr>\n",
              "    <tr>\n",
              "      <th>3</th>\n",
              "      <td>4</td>\n",
              "      <td>5.0</td>\n",
              "      <td>210</td>\n",
              "      <td>2</td>\n",
              "      <td>57</td>\n",
              "      <td>1</td>\n",
              "      <td>1.0</td>\n",
              "      <td>90.0</td>\n",
              "      <td>60.0</td>\n",
              "      <td>1150.0</td>\n",
              "      <td>11.0</td>\n",
              "      <td>1.0</td>\n",
              "    </tr>\n",
              "    <tr>\n",
              "      <th>4</th>\n",
              "      <td>5</td>\n",
              "      <td>1.0</td>\n",
              "      <td>883</td>\n",
              "      <td>2</td>\n",
              "      <td>60</td>\n",
              "      <td>1</td>\n",
              "      <td>0.0</td>\n",
              "      <td>100.0</td>\n",
              "      <td>90.0</td>\n",
              "      <td>NaN</td>\n",
              "      <td>0.0</td>\n",
              "      <td>1.0</td>\n",
              "    </tr>\n",
              "  </tbody>\n",
              "</table>\n",
              "</div>"
            ],
            "text/plain": [
              "   Unnamed: 0  inst  time  status  ...  pat.karno  meal.cal  wt.loss  dead\n",
              "0           1   3.0   306       2  ...      100.0    1175.0      NaN   1.0\n",
              "1           2   3.0   455       2  ...       90.0    1225.0     15.0   1.0\n",
              "2           3   3.0  1010       1  ...       90.0       NaN     15.0   0.0\n",
              "3           4   5.0   210       2  ...       60.0    1150.0     11.0   1.0\n",
              "4           5   1.0   883       2  ...       90.0       NaN      0.0   1.0\n",
              "\n",
              "[5 rows x 12 columns]"
            ]
          },
          "metadata": {
            "tags": []
          },
          "execution_count": 42
        }
      ]
    },
    {
      "cell_type": "code",
      "metadata": {
        "id": "Sf9W6k5kDChY"
      },
      "source": [
        "#Create two objects for groups:\n",
        "\n",
        "#kmf_m for male data:\n",
        "#kmf_f for female data:\n",
        "\n",
        "kmf_m = KaplanMeierFitter() \n",
        "kmf_f = KaplanMeierFitter() "
      ],
      "execution_count": null,
      "outputs": []
    },
    {
      "cell_type": "code",
      "metadata": {
        "id": "yYaf7FkyDFev",
        "colab": {
          "base_uri": "https://localhost:8080/",
          "height": 202
        },
        "outputId": "6a22b6fa-0d03-4a12-ddf9-a8d890b32182"
      },
      "source": [
        "#Dividing data into groups:\n",
        "\n",
        "Male = data.query(\"sex == 1\")\n",
        "Female = data.query(\"sex == 2\")\n",
        "\n",
        "#View data of Male group:\n",
        "\n",
        "Male.head()"
      ],
      "execution_count": null,
      "outputs": [
        {
          "output_type": "execute_result",
          "data": {
            "text/html": [
              "<div>\n",
              "<style scoped>\n",
              "    .dataframe tbody tr th:only-of-type {\n",
              "        vertical-align: middle;\n",
              "    }\n",
              "\n",
              "    .dataframe tbody tr th {\n",
              "        vertical-align: top;\n",
              "    }\n",
              "\n",
              "    .dataframe thead th {\n",
              "        text-align: right;\n",
              "    }\n",
              "</style>\n",
              "<table border=\"1\" class=\"dataframe\">\n",
              "  <thead>\n",
              "    <tr style=\"text-align: right;\">\n",
              "      <th></th>\n",
              "      <th>Unnamed: 0</th>\n",
              "      <th>inst</th>\n",
              "      <th>time</th>\n",
              "      <th>status</th>\n",
              "      <th>age</th>\n",
              "      <th>sex</th>\n",
              "      <th>ph.ecog</th>\n",
              "      <th>ph.karno</th>\n",
              "      <th>pat.karno</th>\n",
              "      <th>meal.cal</th>\n",
              "      <th>wt.loss</th>\n",
              "      <th>dead</th>\n",
              "    </tr>\n",
              "  </thead>\n",
              "  <tbody>\n",
              "    <tr>\n",
              "      <th>0</th>\n",
              "      <td>1</td>\n",
              "      <td>3.0</td>\n",
              "      <td>306</td>\n",
              "      <td>2</td>\n",
              "      <td>74</td>\n",
              "      <td>1</td>\n",
              "      <td>1.0</td>\n",
              "      <td>90.0</td>\n",
              "      <td>100.0</td>\n",
              "      <td>1175.0</td>\n",
              "      <td>NaN</td>\n",
              "      <td>1.0</td>\n",
              "    </tr>\n",
              "    <tr>\n",
              "      <th>1</th>\n",
              "      <td>2</td>\n",
              "      <td>3.0</td>\n",
              "      <td>455</td>\n",
              "      <td>2</td>\n",
              "      <td>68</td>\n",
              "      <td>1</td>\n",
              "      <td>0.0</td>\n",
              "      <td>90.0</td>\n",
              "      <td>90.0</td>\n",
              "      <td>1225.0</td>\n",
              "      <td>15.0</td>\n",
              "      <td>1.0</td>\n",
              "    </tr>\n",
              "    <tr>\n",
              "      <th>2</th>\n",
              "      <td>3</td>\n",
              "      <td>3.0</td>\n",
              "      <td>1010</td>\n",
              "      <td>1</td>\n",
              "      <td>56</td>\n",
              "      <td>1</td>\n",
              "      <td>0.0</td>\n",
              "      <td>90.0</td>\n",
              "      <td>90.0</td>\n",
              "      <td>NaN</td>\n",
              "      <td>15.0</td>\n",
              "      <td>0.0</td>\n",
              "    </tr>\n",
              "    <tr>\n",
              "      <th>3</th>\n",
              "      <td>4</td>\n",
              "      <td>5.0</td>\n",
              "      <td>210</td>\n",
              "      <td>2</td>\n",
              "      <td>57</td>\n",
              "      <td>1</td>\n",
              "      <td>1.0</td>\n",
              "      <td>90.0</td>\n",
              "      <td>60.0</td>\n",
              "      <td>1150.0</td>\n",
              "      <td>11.0</td>\n",
              "      <td>1.0</td>\n",
              "    </tr>\n",
              "    <tr>\n",
              "      <th>4</th>\n",
              "      <td>5</td>\n",
              "      <td>1.0</td>\n",
              "      <td>883</td>\n",
              "      <td>2</td>\n",
              "      <td>60</td>\n",
              "      <td>1</td>\n",
              "      <td>0.0</td>\n",
              "      <td>100.0</td>\n",
              "      <td>90.0</td>\n",
              "      <td>NaN</td>\n",
              "      <td>0.0</td>\n",
              "      <td>1.0</td>\n",
              "    </tr>\n",
              "  </tbody>\n",
              "</table>\n",
              "</div>"
            ],
            "text/plain": [
              "   Unnamed: 0  inst  time  status  ...  pat.karno  meal.cal  wt.loss  dead\n",
              "0           1   3.0   306       2  ...      100.0    1175.0      NaN   1.0\n",
              "1           2   3.0   455       2  ...       90.0    1225.0     15.0   1.0\n",
              "2           3   3.0  1010       1  ...       90.0       NaN     15.0   0.0\n",
              "3           4   5.0   210       2  ...       60.0    1150.0     11.0   1.0\n",
              "4           5   1.0   883       2  ...       90.0       NaN      0.0   1.0\n",
              "\n",
              "[5 rows x 12 columns]"
            ]
          },
          "metadata": {
            "tags": []
          },
          "execution_count": 44
        }
      ]
    },
    {
      "cell_type": "code",
      "metadata": {
        "id": "9Ujp2EFaDIcP",
        "colab": {
          "base_uri": "https://localhost:8080/",
          "height": 202
        },
        "outputId": "adb8976b-7794-44b2-ba6b-4754f316ea8f"
      },
      "source": [
        "#View data of Female group:\n",
        "\n",
        "Female.head()"
      ],
      "execution_count": null,
      "outputs": [
        {
          "output_type": "execute_result",
          "data": {
            "text/html": [
              "<div>\n",
              "<style scoped>\n",
              "    .dataframe tbody tr th:only-of-type {\n",
              "        vertical-align: middle;\n",
              "    }\n",
              "\n",
              "    .dataframe tbody tr th {\n",
              "        vertical-align: top;\n",
              "    }\n",
              "\n",
              "    .dataframe thead th {\n",
              "        text-align: right;\n",
              "    }\n",
              "</style>\n",
              "<table border=\"1\" class=\"dataframe\">\n",
              "  <thead>\n",
              "    <tr style=\"text-align: right;\">\n",
              "      <th></th>\n",
              "      <th>Unnamed: 0</th>\n",
              "      <th>inst</th>\n",
              "      <th>time</th>\n",
              "      <th>status</th>\n",
              "      <th>age</th>\n",
              "      <th>sex</th>\n",
              "      <th>ph.ecog</th>\n",
              "      <th>ph.karno</th>\n",
              "      <th>pat.karno</th>\n",
              "      <th>meal.cal</th>\n",
              "      <th>wt.loss</th>\n",
              "      <th>dead</th>\n",
              "    </tr>\n",
              "  </thead>\n",
              "  <tbody>\n",
              "    <tr>\n",
              "      <th>6</th>\n",
              "      <td>7</td>\n",
              "      <td>7.0</td>\n",
              "      <td>310</td>\n",
              "      <td>2</td>\n",
              "      <td>68</td>\n",
              "      <td>2</td>\n",
              "      <td>2.0</td>\n",
              "      <td>70.0</td>\n",
              "      <td>60.0</td>\n",
              "      <td>384.0</td>\n",
              "      <td>10.0</td>\n",
              "      <td>1.0</td>\n",
              "    </tr>\n",
              "    <tr>\n",
              "      <th>7</th>\n",
              "      <td>8</td>\n",
              "      <td>11.0</td>\n",
              "      <td>361</td>\n",
              "      <td>2</td>\n",
              "      <td>71</td>\n",
              "      <td>2</td>\n",
              "      <td>2.0</td>\n",
              "      <td>60.0</td>\n",
              "      <td>80.0</td>\n",
              "      <td>538.0</td>\n",
              "      <td>1.0</td>\n",
              "      <td>1.0</td>\n",
              "    </tr>\n",
              "    <tr>\n",
              "      <th>11</th>\n",
              "      <td>12</td>\n",
              "      <td>16.0</td>\n",
              "      <td>654</td>\n",
              "      <td>2</td>\n",
              "      <td>68</td>\n",
              "      <td>2</td>\n",
              "      <td>2.0</td>\n",
              "      <td>70.0</td>\n",
              "      <td>70.0</td>\n",
              "      <td>NaN</td>\n",
              "      <td>23.0</td>\n",
              "      <td>1.0</td>\n",
              "    </tr>\n",
              "    <tr>\n",
              "      <th>12</th>\n",
              "      <td>13</td>\n",
              "      <td>11.0</td>\n",
              "      <td>728</td>\n",
              "      <td>2</td>\n",
              "      <td>68</td>\n",
              "      <td>2</td>\n",
              "      <td>1.0</td>\n",
              "      <td>90.0</td>\n",
              "      <td>90.0</td>\n",
              "      <td>NaN</td>\n",
              "      <td>5.0</td>\n",
              "      <td>1.0</td>\n",
              "    </tr>\n",
              "    <tr>\n",
              "      <th>18</th>\n",
              "      <td>19</td>\n",
              "      <td>1.0</td>\n",
              "      <td>61</td>\n",
              "      <td>2</td>\n",
              "      <td>56</td>\n",
              "      <td>2</td>\n",
              "      <td>2.0</td>\n",
              "      <td>60.0</td>\n",
              "      <td>60.0</td>\n",
              "      <td>238.0</td>\n",
              "      <td>10.0</td>\n",
              "      <td>1.0</td>\n",
              "    </tr>\n",
              "  </tbody>\n",
              "</table>\n",
              "</div>"
            ],
            "text/plain": [
              "    Unnamed: 0  inst  time  status  ...  pat.karno  meal.cal  wt.loss  dead\n",
              "6            7   7.0   310       2  ...       60.0     384.0     10.0   1.0\n",
              "7            8  11.0   361       2  ...       80.0     538.0      1.0   1.0\n",
              "11          12  16.0   654       2  ...       70.0       NaN     23.0   1.0\n",
              "12          13  11.0   728       2  ...       90.0       NaN      5.0   1.0\n",
              "18          19   1.0    61       2  ...       60.0     238.0     10.0   1.0\n",
              "\n",
              "[5 rows x 12 columns]"
            ]
          },
          "metadata": {
            "tags": []
          },
          "execution_count": 45
        }
      ]
    },
    {
      "cell_type": "code",
      "metadata": {
        "id": "yi998joTDLke",
        "colab": {
          "base_uri": "https://localhost:8080/",
          "height": 35
        },
        "outputId": "b4a329c8-ef4d-416d-b8cb-0151a8afcf52"
      },
      "source": [
        "#Fit data into objects:\n",
        "\n",
        "kmf_m.fit(durations =  Male[\"time\"],event_observed = Male[\"dead\"] ,label=\"Male\")\n",
        "kmf_f.fit(durations =  Female[\"time\"],event_observed = Female[\"dead\"], label=\"Female\")"
      ],
      "execution_count": null,
      "outputs": [
        {
          "output_type": "execute_result",
          "data": {
            "text/plain": [
              "<lifelines.KaplanMeierFitter:\"Female\", fitted with 90 total observations, 37 right-censored observations>"
            ]
          },
          "metadata": {
            "tags": []
          },
          "execution_count": 46
        }
      ]
    },
    {
      "cell_type": "code",
      "metadata": {
        "id": "B37UgNgCDNHh",
        "colab": {
          "base_uri": "https://localhost:8080/",
          "height": 446
        },
        "outputId": "ad5e32e3-84ea-4eca-8cfb-c635cfb83d05"
      },
      "source": [
        "#Event table for male group:\n",
        "\n",
        "kmf_m.event_table"
      ],
      "execution_count": null,
      "outputs": [
        {
          "output_type": "execute_result",
          "data": {
            "text/html": [
              "<div>\n",
              "<style scoped>\n",
              "    .dataframe tbody tr th:only-of-type {\n",
              "        vertical-align: middle;\n",
              "    }\n",
              "\n",
              "    .dataframe tbody tr th {\n",
              "        vertical-align: top;\n",
              "    }\n",
              "\n",
              "    .dataframe thead th {\n",
              "        text-align: right;\n",
              "    }\n",
              "</style>\n",
              "<table border=\"1\" class=\"dataframe\">\n",
              "  <thead>\n",
              "    <tr style=\"text-align: right;\">\n",
              "      <th></th>\n",
              "      <th>removed</th>\n",
              "      <th>observed</th>\n",
              "      <th>censored</th>\n",
              "      <th>entrance</th>\n",
              "      <th>at_risk</th>\n",
              "    </tr>\n",
              "    <tr>\n",
              "      <th>event_at</th>\n",
              "      <th></th>\n",
              "      <th></th>\n",
              "      <th></th>\n",
              "      <th></th>\n",
              "      <th></th>\n",
              "    </tr>\n",
              "  </thead>\n",
              "  <tbody>\n",
              "    <tr>\n",
              "      <th>0.0</th>\n",
              "      <td>0</td>\n",
              "      <td>0</td>\n",
              "      <td>0</td>\n",
              "      <td>138</td>\n",
              "      <td>138</td>\n",
              "    </tr>\n",
              "    <tr>\n",
              "      <th>11.0</th>\n",
              "      <td>3</td>\n",
              "      <td>3</td>\n",
              "      <td>0</td>\n",
              "      <td>0</td>\n",
              "      <td>138</td>\n",
              "    </tr>\n",
              "    <tr>\n",
              "      <th>12.0</th>\n",
              "      <td>1</td>\n",
              "      <td>1</td>\n",
              "      <td>0</td>\n",
              "      <td>0</td>\n",
              "      <td>135</td>\n",
              "    </tr>\n",
              "    <tr>\n",
              "      <th>13.0</th>\n",
              "      <td>2</td>\n",
              "      <td>2</td>\n",
              "      <td>0</td>\n",
              "      <td>0</td>\n",
              "      <td>134</td>\n",
              "    </tr>\n",
              "    <tr>\n",
              "      <th>15.0</th>\n",
              "      <td>1</td>\n",
              "      <td>1</td>\n",
              "      <td>0</td>\n",
              "      <td>0</td>\n",
              "      <td>132</td>\n",
              "    </tr>\n",
              "    <tr>\n",
              "      <th>...</th>\n",
              "      <td>...</td>\n",
              "      <td>...</td>\n",
              "      <td>...</td>\n",
              "      <td>...</td>\n",
              "      <td>...</td>\n",
              "    </tr>\n",
              "    <tr>\n",
              "      <th>814.0</th>\n",
              "      <td>1</td>\n",
              "      <td>1</td>\n",
              "      <td>0</td>\n",
              "      <td>0</td>\n",
              "      <td>5</td>\n",
              "    </tr>\n",
              "    <tr>\n",
              "      <th>840.0</th>\n",
              "      <td>1</td>\n",
              "      <td>0</td>\n",
              "      <td>1</td>\n",
              "      <td>0</td>\n",
              "      <td>4</td>\n",
              "    </tr>\n",
              "    <tr>\n",
              "      <th>883.0</th>\n",
              "      <td>1</td>\n",
              "      <td>1</td>\n",
              "      <td>0</td>\n",
              "      <td>0</td>\n",
              "      <td>3</td>\n",
              "    </tr>\n",
              "    <tr>\n",
              "      <th>1010.0</th>\n",
              "      <td>1</td>\n",
              "      <td>0</td>\n",
              "      <td>1</td>\n",
              "      <td>0</td>\n",
              "      <td>2</td>\n",
              "    </tr>\n",
              "    <tr>\n",
              "      <th>1022.0</th>\n",
              "      <td>1</td>\n",
              "      <td>0</td>\n",
              "      <td>1</td>\n",
              "      <td>0</td>\n",
              "      <td>1</td>\n",
              "    </tr>\n",
              "  </tbody>\n",
              "</table>\n",
              "<p>120 rows × 5 columns</p>\n",
              "</div>"
            ],
            "text/plain": [
              "          removed  observed  censored  entrance  at_risk\n",
              "event_at                                                \n",
              "0.0             0         0         0       138      138\n",
              "11.0            3         3         0         0      138\n",
              "12.0            1         1         0         0      135\n",
              "13.0            2         2         0         0      134\n",
              "15.0            1         1         0         0      132\n",
              "...           ...       ...       ...       ...      ...\n",
              "814.0           1         1         0         0        5\n",
              "840.0           1         0         1         0        4\n",
              "883.0           1         1         0         0        3\n",
              "1010.0          1         0         1         0        2\n",
              "1022.0          1         0         1         0        1\n",
              "\n",
              "[120 rows x 5 columns]"
            ]
          },
          "metadata": {
            "tags": []
          },
          "execution_count": 47
        }
      ]
    },
    {
      "cell_type": "code",
      "metadata": {
        "id": "8zn6V1tTDOlW",
        "colab": {
          "base_uri": "https://localhost:8080/",
          "height": 446
        },
        "outputId": "b0985929-ddff-447c-d8b3-caa0673ad1d4"
      },
      "source": [
        "#Event table for female group:\n",
        "\n",
        "kmf_f.event_table"
      ],
      "execution_count": null,
      "outputs": [
        {
          "output_type": "execute_result",
          "data": {
            "text/html": [
              "<div>\n",
              "<style scoped>\n",
              "    .dataframe tbody tr th:only-of-type {\n",
              "        vertical-align: middle;\n",
              "    }\n",
              "\n",
              "    .dataframe tbody tr th {\n",
              "        vertical-align: top;\n",
              "    }\n",
              "\n",
              "    .dataframe thead th {\n",
              "        text-align: right;\n",
              "    }\n",
              "</style>\n",
              "<table border=\"1\" class=\"dataframe\">\n",
              "  <thead>\n",
              "    <tr style=\"text-align: right;\">\n",
              "      <th></th>\n",
              "      <th>removed</th>\n",
              "      <th>observed</th>\n",
              "      <th>censored</th>\n",
              "      <th>entrance</th>\n",
              "      <th>at_risk</th>\n",
              "    </tr>\n",
              "    <tr>\n",
              "      <th>event_at</th>\n",
              "      <th></th>\n",
              "      <th></th>\n",
              "      <th></th>\n",
              "      <th></th>\n",
              "      <th></th>\n",
              "    </tr>\n",
              "  </thead>\n",
              "  <tbody>\n",
              "    <tr>\n",
              "      <th>0.0</th>\n",
              "      <td>0</td>\n",
              "      <td>0</td>\n",
              "      <td>0</td>\n",
              "      <td>90</td>\n",
              "      <td>90</td>\n",
              "    </tr>\n",
              "    <tr>\n",
              "      <th>5.0</th>\n",
              "      <td>1</td>\n",
              "      <td>1</td>\n",
              "      <td>0</td>\n",
              "      <td>0</td>\n",
              "      <td>90</td>\n",
              "    </tr>\n",
              "    <tr>\n",
              "      <th>60.0</th>\n",
              "      <td>1</td>\n",
              "      <td>1</td>\n",
              "      <td>0</td>\n",
              "      <td>0</td>\n",
              "      <td>89</td>\n",
              "    </tr>\n",
              "    <tr>\n",
              "      <th>61.0</th>\n",
              "      <td>1</td>\n",
              "      <td>1</td>\n",
              "      <td>0</td>\n",
              "      <td>0</td>\n",
              "      <td>88</td>\n",
              "    </tr>\n",
              "    <tr>\n",
              "      <th>62.0</th>\n",
              "      <td>1</td>\n",
              "      <td>1</td>\n",
              "      <td>0</td>\n",
              "      <td>0</td>\n",
              "      <td>87</td>\n",
              "    </tr>\n",
              "    <tr>\n",
              "      <th>...</th>\n",
              "      <td>...</td>\n",
              "      <td>...</td>\n",
              "      <td>...</td>\n",
              "      <td>...</td>\n",
              "      <td>...</td>\n",
              "    </tr>\n",
              "    <tr>\n",
              "      <th>735.0</th>\n",
              "      <td>1</td>\n",
              "      <td>1</td>\n",
              "      <td>0</td>\n",
              "      <td>0</td>\n",
              "      <td>5</td>\n",
              "    </tr>\n",
              "    <tr>\n",
              "      <th>740.0</th>\n",
              "      <td>1</td>\n",
              "      <td>0</td>\n",
              "      <td>1</td>\n",
              "      <td>0</td>\n",
              "      <td>4</td>\n",
              "    </tr>\n",
              "    <tr>\n",
              "      <th>765.0</th>\n",
              "      <td>1</td>\n",
              "      <td>1</td>\n",
              "      <td>0</td>\n",
              "      <td>0</td>\n",
              "      <td>3</td>\n",
              "    </tr>\n",
              "    <tr>\n",
              "      <th>821.0</th>\n",
              "      <td>1</td>\n",
              "      <td>0</td>\n",
              "      <td>1</td>\n",
              "      <td>0</td>\n",
              "      <td>2</td>\n",
              "    </tr>\n",
              "    <tr>\n",
              "      <th>965.0</th>\n",
              "      <td>1</td>\n",
              "      <td>0</td>\n",
              "      <td>1</td>\n",
              "      <td>0</td>\n",
              "      <td>1</td>\n",
              "    </tr>\n",
              "  </tbody>\n",
              "</table>\n",
              "<p>88 rows × 5 columns</p>\n",
              "</div>"
            ],
            "text/plain": [
              "          removed  observed  censored  entrance  at_risk\n",
              "event_at                                                \n",
              "0.0             0         0         0        90       90\n",
              "5.0             1         1         0         0       90\n",
              "60.0            1         1         0         0       89\n",
              "61.0            1         1         0         0       88\n",
              "62.0            1         1         0         0       87\n",
              "...           ...       ...       ...       ...      ...\n",
              "735.0           1         1         0         0        5\n",
              "740.0           1         0         1         0        4\n",
              "765.0           1         1         0         0        3\n",
              "821.0           1         0         1         0        2\n",
              "965.0           1         0         1         0        1\n",
              "\n",
              "[88 rows x 5 columns]"
            ]
          },
          "metadata": {
            "tags": []
          },
          "execution_count": 48
        }
      ]
    },
    {
      "cell_type": "code",
      "metadata": {
        "id": "VNGwXDlJDRhm",
        "colab": {
          "base_uri": "https://localhost:8080/",
          "height": 35
        },
        "outputId": "d270bd76-b6c5-412a-c0d6-729bafa35a92"
      },
      "source": [
        "#Predict value based on time:\n",
        "\n",
        "kmf_m.predict(11)"
      ],
      "execution_count": null,
      "outputs": [
        {
          "output_type": "execute_result",
          "data": {
            "text/plain": [
              "0.9782608695652172"
            ]
          },
          "metadata": {
            "tags": []
          },
          "execution_count": 49
        }
      ]
    },
    {
      "cell_type": "code",
      "metadata": {
        "id": "lAfeQnE9DSc_",
        "colab": {
          "base_uri": "https://localhost:8080/",
          "height": 35
        },
        "outputId": "b2bf18e4-ea5b-487f-e889-64c5d32a0e14"
      },
      "source": [
        "#Predict value based on time:\n",
        "\n",
        "kmf_f.predict(11)"
      ],
      "execution_count": null,
      "outputs": [
        {
          "output_type": "execute_result",
          "data": {
            "text/plain": [
              "0.9888888888888887"
            ]
          },
          "metadata": {
            "tags": []
          },
          "execution_count": 50
        }
      ]
    },
    {
      "cell_type": "code",
      "metadata": {
        "id": "LIeKKKe6DU7S",
        "colab": {
          "base_uri": "https://localhost:8080/",
          "height": 446
        },
        "outputId": "9fb93e8d-eb14-45b7-bb76-c43a859b67e9"
      },
      "source": [
        "#Get complete data of survival function for male group:\n",
        "\n",
        "kmf_m.survival_function_"
      ],
      "execution_count": null,
      "outputs": [
        {
          "output_type": "execute_result",
          "data": {
            "text/html": [
              "<div>\n",
              "<style scoped>\n",
              "    .dataframe tbody tr th:only-of-type {\n",
              "        vertical-align: middle;\n",
              "    }\n",
              "\n",
              "    .dataframe tbody tr th {\n",
              "        vertical-align: top;\n",
              "    }\n",
              "\n",
              "    .dataframe thead th {\n",
              "        text-align: right;\n",
              "    }\n",
              "</style>\n",
              "<table border=\"1\" class=\"dataframe\">\n",
              "  <thead>\n",
              "    <tr style=\"text-align: right;\">\n",
              "      <th></th>\n",
              "      <th>Male</th>\n",
              "    </tr>\n",
              "    <tr>\n",
              "      <th>timeline</th>\n",
              "      <th></th>\n",
              "    </tr>\n",
              "  </thead>\n",
              "  <tbody>\n",
              "    <tr>\n",
              "      <th>0.0</th>\n",
              "      <td>1.000000</td>\n",
              "    </tr>\n",
              "    <tr>\n",
              "      <th>11.0</th>\n",
              "      <td>0.978261</td>\n",
              "    </tr>\n",
              "    <tr>\n",
              "      <th>12.0</th>\n",
              "      <td>0.971014</td>\n",
              "    </tr>\n",
              "    <tr>\n",
              "      <th>13.0</th>\n",
              "      <td>0.956522</td>\n",
              "    </tr>\n",
              "    <tr>\n",
              "      <th>15.0</th>\n",
              "      <td>0.949275</td>\n",
              "    </tr>\n",
              "    <tr>\n",
              "      <th>...</th>\n",
              "      <td>...</td>\n",
              "    </tr>\n",
              "    <tr>\n",
              "      <th>814.0</th>\n",
              "      <td>0.053571</td>\n",
              "    </tr>\n",
              "    <tr>\n",
              "      <th>840.0</th>\n",
              "      <td>0.053571</td>\n",
              "    </tr>\n",
              "    <tr>\n",
              "      <th>883.0</th>\n",
              "      <td>0.035714</td>\n",
              "    </tr>\n",
              "    <tr>\n",
              "      <th>1010.0</th>\n",
              "      <td>0.035714</td>\n",
              "    </tr>\n",
              "    <tr>\n",
              "      <th>1022.0</th>\n",
              "      <td>0.035714</td>\n",
              "    </tr>\n",
              "  </tbody>\n",
              "</table>\n",
              "<p>120 rows × 1 columns</p>\n",
              "</div>"
            ],
            "text/plain": [
              "              Male\n",
              "timeline          \n",
              "0.0       1.000000\n",
              "11.0      0.978261\n",
              "12.0      0.971014\n",
              "13.0      0.956522\n",
              "15.0      0.949275\n",
              "...            ...\n",
              "814.0     0.053571\n",
              "840.0     0.053571\n",
              "883.0     0.035714\n",
              "1010.0    0.035714\n",
              "1022.0    0.035714\n",
              "\n",
              "[120 rows x 1 columns]"
            ]
          },
          "metadata": {
            "tags": []
          },
          "execution_count": 51
        }
      ]
    },
    {
      "cell_type": "code",
      "metadata": {
        "id": "-Z_7PB8NDW8h",
        "colab": {
          "base_uri": "https://localhost:8080/",
          "height": 446
        },
        "outputId": "8bb32bd4-fe0b-44f5-d953-1c84f8f7e399"
      },
      "source": [
        "#Get complete data of survival function for female group:\n",
        "\n",
        "kmf_f.survival_function_"
      ],
      "execution_count": null,
      "outputs": [
        {
          "output_type": "execute_result",
          "data": {
            "text/html": [
              "<div>\n",
              "<style scoped>\n",
              "    .dataframe tbody tr th:only-of-type {\n",
              "        vertical-align: middle;\n",
              "    }\n",
              "\n",
              "    .dataframe tbody tr th {\n",
              "        vertical-align: top;\n",
              "    }\n",
              "\n",
              "    .dataframe thead th {\n",
              "        text-align: right;\n",
              "    }\n",
              "</style>\n",
              "<table border=\"1\" class=\"dataframe\">\n",
              "  <thead>\n",
              "    <tr style=\"text-align: right;\">\n",
              "      <th></th>\n",
              "      <th>Female</th>\n",
              "    </tr>\n",
              "    <tr>\n",
              "      <th>timeline</th>\n",
              "      <th></th>\n",
              "    </tr>\n",
              "  </thead>\n",
              "  <tbody>\n",
              "    <tr>\n",
              "      <th>0.0</th>\n",
              "      <td>1.000000</td>\n",
              "    </tr>\n",
              "    <tr>\n",
              "      <th>5.0</th>\n",
              "      <td>0.988889</td>\n",
              "    </tr>\n",
              "    <tr>\n",
              "      <th>60.0</th>\n",
              "      <td>0.977778</td>\n",
              "    </tr>\n",
              "    <tr>\n",
              "      <th>61.0</th>\n",
              "      <td>0.966667</td>\n",
              "    </tr>\n",
              "    <tr>\n",
              "      <th>62.0</th>\n",
              "      <td>0.955556</td>\n",
              "    </tr>\n",
              "    <tr>\n",
              "      <th>...</th>\n",
              "      <td>...</td>\n",
              "    </tr>\n",
              "    <tr>\n",
              "      <th>735.0</th>\n",
              "      <td>0.124822</td>\n",
              "    </tr>\n",
              "    <tr>\n",
              "      <th>740.0</th>\n",
              "      <td>0.124822</td>\n",
              "    </tr>\n",
              "    <tr>\n",
              "      <th>765.0</th>\n",
              "      <td>0.083214</td>\n",
              "    </tr>\n",
              "    <tr>\n",
              "      <th>821.0</th>\n",
              "      <td>0.083214</td>\n",
              "    </tr>\n",
              "    <tr>\n",
              "      <th>965.0</th>\n",
              "      <td>0.083214</td>\n",
              "    </tr>\n",
              "  </tbody>\n",
              "</table>\n",
              "<p>88 rows × 1 columns</p>\n",
              "</div>"
            ],
            "text/plain": [
              "            Female\n",
              "timeline          \n",
              "0.0       1.000000\n",
              "5.0       0.988889\n",
              "60.0      0.977778\n",
              "61.0      0.966667\n",
              "62.0      0.955556\n",
              "...            ...\n",
              "735.0     0.124822\n",
              "740.0     0.124822\n",
              "765.0     0.083214\n",
              "821.0     0.083214\n",
              "965.0     0.083214\n",
              "\n",
              "[88 rows x 1 columns]"
            ]
          },
          "metadata": {
            "tags": []
          },
          "execution_count": 52
        }
      ]
    },
    {
      "cell_type": "code",
      "metadata": {
        "id": "Yx9bEbsnDZAP",
        "colab": {
          "base_uri": "https://localhost:8080/",
          "height": 313
        },
        "outputId": "a8843ae1-28e2-42d8-8db0-9fc03f7ae0a0"
      },
      "source": [
        "#Plot the survival_function data:\n",
        "\n",
        "kmf_m.plot()\n",
        "kmf_f.plot()\n",
        "\n",
        "plt.xlabel(\"Days Passed\")\n",
        "plt.ylabel(\"Survival Probability\")\n",
        "plt.title(\"KMF\")"
      ],
      "execution_count": null,
      "outputs": [
        {
          "output_type": "execute_result",
          "data": {
            "text/plain": [
              "Text(0.5, 1.0, 'KMF')"
            ]
          },
          "metadata": {
            "tags": []
          },
          "execution_count": 53
        },
        {
          "output_type": "display_data",
          "data": {
            "image/png": "[encoded data removed]",
            "text/plain": [
              "<Figure size 432x288 with 1 Axes>"
            ]
          },
          "metadata": {
            "tags": [],
            "needs_background": "light"
          }
        }
      ]
    },
    {
      "cell_type": "code",
      "metadata": {
        "id": "2_Ufr4kVDa__",
        "colab": {
          "base_uri": "https://localhost:8080/",
          "height": 446
        },
        "outputId": "24e84a23-1bd2-479e-919e-1f5e83d2311c"
      },
      "source": [
        "#Cumulative density for male group:\n",
        "\n",
        "kmf_m.cumulative_density_"
      ],
      "execution_count": null,
      "outputs": [
        {
          "output_type": "execute_result",
          "data": {
            "text/html": [
              "<div>\n",
              "<style scoped>\n",
              "    .dataframe tbody tr th:only-of-type {\n",
              "        vertical-align: middle;\n",
              "    }\n",
              "\n",
              "    .dataframe tbody tr th {\n",
              "        vertical-align: top;\n",
              "    }\n",
              "\n",
              "    .dataframe thead th {\n",
              "        text-align: right;\n",
              "    }\n",
              "</style>\n",
              "<table border=\"1\" class=\"dataframe\">\n",
              "  <thead>\n",
              "    <tr style=\"text-align: right;\">\n",
              "      <th></th>\n",
              "      <th>Male</th>\n",
              "    </tr>\n",
              "    <tr>\n",
              "      <th>timeline</th>\n",
              "      <th></th>\n",
              "    </tr>\n",
              "  </thead>\n",
              "  <tbody>\n",
              "    <tr>\n",
              "      <th>0.0</th>\n",
              "      <td>0.000000</td>\n",
              "    </tr>\n",
              "    <tr>\n",
              "      <th>11.0</th>\n",
              "      <td>0.021739</td>\n",
              "    </tr>\n",
              "    <tr>\n",
              "      <th>12.0</th>\n",
              "      <td>0.028986</td>\n",
              "    </tr>\n",
              "    <tr>\n",
              "      <th>13.0</th>\n",
              "      <td>0.043478</td>\n",
              "    </tr>\n",
              "    <tr>\n",
              "      <th>15.0</th>\n",
              "      <td>0.050725</td>\n",
              "    </tr>\n",
              "    <tr>\n",
              "      <th>...</th>\n",
              "      <td>...</td>\n",
              "    </tr>\n",
              "    <tr>\n",
              "      <th>814.0</th>\n",
              "      <td>0.946429</td>\n",
              "    </tr>\n",
              "    <tr>\n",
              "      <th>840.0</th>\n",
              "      <td>0.946429</td>\n",
              "    </tr>\n",
              "    <tr>\n",
              "      <th>883.0</th>\n",
              "      <td>0.964286</td>\n",
              "    </tr>\n",
              "    <tr>\n",
              "      <th>1010.0</th>\n",
              "      <td>0.964286</td>\n",
              "    </tr>\n",
              "    <tr>\n",
              "      <th>1022.0</th>\n",
              "      <td>0.964286</td>\n",
              "    </tr>\n",
              "  </tbody>\n",
              "</table>\n",
              "<p>120 rows × 1 columns</p>\n",
              "</div>"
            ],
            "text/plain": [
              "              Male\n",
              "timeline          \n",
              "0.0       0.000000\n",
              "11.0      0.021739\n",
              "12.0      0.028986\n",
              "13.0      0.043478\n",
              "15.0      0.050725\n",
              "...            ...\n",
              "814.0     0.946429\n",
              "840.0     0.946429\n",
              "883.0     0.964286\n",
              "1010.0    0.964286\n",
              "1022.0    0.964286\n",
              "\n",
              "[120 rows x 1 columns]"
            ]
          },
          "metadata": {
            "tags": []
          },
          "execution_count": 54
        }
      ]
    },
    {
      "cell_type": "code",
      "metadata": {
        "id": "RKEzw4FrDdFP",
        "colab": {
          "base_uri": "https://localhost:8080/",
          "height": 446
        },
        "outputId": "2cd7cf30-620f-4860-f7f1-4aee12ce7852"
      },
      "source": [
        "#Cumulative density for female group:\n",
        "\n",
        "kmf_f.cumulative_density_"
      ],
      "execution_count": null,
      "outputs": [
        {
          "output_type": "execute_result",
          "data": {
            "text/html": [
              "<div>\n",
              "<style scoped>\n",
              "    .dataframe tbody tr th:only-of-type {\n",
              "        vertical-align: middle;\n",
              "    }\n",
              "\n",
              "    .dataframe tbody tr th {\n",
              "        vertical-align: top;\n",
              "    }\n",
              "\n",
              "    .dataframe thead th {\n",
              "        text-align: right;\n",
              "    }\n",
              "</style>\n",
              "<table border=\"1\" class=\"dataframe\">\n",
              "  <thead>\n",
              "    <tr style=\"text-align: right;\">\n",
              "      <th></th>\n",
              "      <th>Female</th>\n",
              "    </tr>\n",
              "    <tr>\n",
              "      <th>timeline</th>\n",
              "      <th></th>\n",
              "    </tr>\n",
              "  </thead>\n",
              "  <tbody>\n",
              "    <tr>\n",
              "      <th>0.0</th>\n",
              "      <td>0.000000</td>\n",
              "    </tr>\n",
              "    <tr>\n",
              "      <th>5.0</th>\n",
              "      <td>0.011111</td>\n",
              "    </tr>\n",
              "    <tr>\n",
              "      <th>60.0</th>\n",
              "      <td>0.022222</td>\n",
              "    </tr>\n",
              "    <tr>\n",
              "      <th>61.0</th>\n",
              "      <td>0.033333</td>\n",
              "    </tr>\n",
              "    <tr>\n",
              "      <th>62.0</th>\n",
              "      <td>0.044444</td>\n",
              "    </tr>\n",
              "    <tr>\n",
              "      <th>...</th>\n",
              "      <td>...</td>\n",
              "    </tr>\n",
              "    <tr>\n",
              "      <th>735.0</th>\n",
              "      <td>0.875178</td>\n",
              "    </tr>\n",
              "    <tr>\n",
              "      <th>740.0</th>\n",
              "      <td>0.875178</td>\n",
              "    </tr>\n",
              "    <tr>\n",
              "      <th>765.0</th>\n",
              "      <td>0.916786</td>\n",
              "    </tr>\n",
              "    <tr>\n",
              "      <th>821.0</th>\n",
              "      <td>0.916786</td>\n",
              "    </tr>\n",
              "    <tr>\n",
              "      <th>965.0</th>\n",
              "      <td>0.916786</td>\n",
              "    </tr>\n",
              "  </tbody>\n",
              "</table>\n",
              "<p>88 rows × 1 columns</p>\n",
              "</div>"
            ],
            "text/plain": [
              "            Female\n",
              "timeline          \n",
              "0.0       0.000000\n",
              "5.0       0.011111\n",
              "60.0      0.022222\n",
              "61.0      0.033333\n",
              "62.0      0.044444\n",
              "...            ...\n",
              "735.0     0.875178\n",
              "740.0     0.875178\n",
              "765.0     0.916786\n",
              "821.0     0.916786\n",
              "965.0     0.916786\n",
              "\n",
              "[88 rows x 1 columns]"
            ]
          },
          "metadata": {
            "tags": []
          },
          "execution_count": 55
        }
      ]
    },
    {
      "cell_type": "code",
      "metadata": {
        "id": "q5PKLiCKDewh",
        "colab": {
          "base_uri": "https://localhost:8080/",
          "height": 313
        },
        "outputId": "862b52e3-4065-427b-8322-00b6d7687cc8"
      },
      "source": [
        "#PLot the graph for cumulative density for both groups:\n",
        "\n",
        "kmf_m.plot_cumulative_density()\n",
        "kmf_f.plot_cumulative_density()\n",
        "plt.title(\"Cumulative Density\")\n",
        "plt.xlabel(\"Number of days\")\n",
        "plt.ylabel(\"Probability\")"
      ],
      "execution_count": null,
      "outputs": [
        {
          "output_type": "execute_result",
          "data": {
            "text/plain": [
              "Text(0, 0.5, 'Probability')"
            ]
          },
          "metadata": {
            "tags": []
          },
          "execution_count": 56
        },
        {
          "output_type": "display_data",
          "data": {
            "image/png": "[encoded data removed]",
            "text/plain": [
              "<Figure size 432x288 with 1 Axes>"
            ]
          },
          "metadata": {
            "tags": [],
            "needs_background": "light"
          }
        }
      ]
    },
    {
      "cell_type": "code",
      "metadata": {
        "id": "Mq1dTgmoDhZX"
      },
      "source": [
        "#Hazard Function:\n",
        "\n",
        "from lifelines import NelsonAalenFitter"
      ],
      "execution_count": null,
      "outputs": []
    },
    {
      "cell_type": "code",
      "metadata": {
        "id": "NzfIYSGzDkcM",
        "colab": {
          "base_uri": "https://localhost:8080/",
          "height": 35
        },
        "outputId": "ce68bb2e-13c8-4121-cefc-30f8836b77c6"
      },
      "source": [
        "#Fitting the data into objects:\n",
        "\n",
        "naf_m = NelsonAalenFitter()\n",
        "naf_f = NelsonAalenFitter()\n",
        "\n",
        "naf_m.fit(Male[\"time\"],event_observed = Male[\"dead\"])\n",
        "naf_f.fit(Female[\"time\"],event_observed = Female[\"dead\"])"
      ],
      "execution_count": null,
      "outputs": [
        {
          "output_type": "execute_result",
          "data": {
            "text/plain": [
              "<lifelines.NelsonAalenFitter:\"NA_estimate\", fitted with 90 total observations, 37 right-censored observations>"
            ]
          },
          "metadata": {
            "tags": []
          },
          "execution_count": 60
        }
      ]
    },
    {
      "cell_type": "code",
      "metadata": {
        "id": "Fy1Knn7ADmx5",
        "colab": {
          "base_uri": "https://localhost:8080/",
          "height": 446
        },
        "outputId": "71aaf0c7-933b-4439-bb89-bd2f47162300"
      },
      "source": [
        "#Cumulative hazard for male group:\n",
        "\n",
        "naf_m.cumulative_hazard_"
      ],
      "execution_count": null,
      "outputs": [
        {
          "output_type": "execute_result",
          "data": {
            "text/html": [
              "<div>\n",
              "<style scoped>\n",
              "    .dataframe tbody tr th:only-of-type {\n",
              "        vertical-align: middle;\n",
              "    }\n",
              "\n",
              "    .dataframe tbody tr th {\n",
              "        vertical-align: top;\n",
              "    }\n",
              "\n",
              "    .dataframe thead th {\n",
              "        text-align: right;\n",
              "    }\n",
              "</style>\n",
              "<table border=\"1\" class=\"dataframe\">\n",
              "  <thead>\n",
              "    <tr style=\"text-align: right;\">\n",
              "      <th></th>\n",
              "      <th>NA_estimate</th>\n",
              "    </tr>\n",
              "    <tr>\n",
              "      <th>timeline</th>\n",
              "      <th></th>\n",
              "    </tr>\n",
              "  </thead>\n",
              "  <tbody>\n",
              "    <tr>\n",
              "      <th>0.0</th>\n",
              "      <td>0.000000</td>\n",
              "    </tr>\n",
              "    <tr>\n",
              "      <th>11.0</th>\n",
              "      <td>0.021899</td>\n",
              "    </tr>\n",
              "    <tr>\n",
              "      <th>12.0</th>\n",
              "      <td>0.029306</td>\n",
              "    </tr>\n",
              "    <tr>\n",
              "      <th>13.0</th>\n",
              "      <td>0.044287</td>\n",
              "    </tr>\n",
              "    <tr>\n",
              "      <th>15.0</th>\n",
              "      <td>0.051863</td>\n",
              "    </tr>\n",
              "    <tr>\n",
              "      <th>...</th>\n",
              "      <td>...</td>\n",
              "    </tr>\n",
              "    <tr>\n",
              "      <th>814.0</th>\n",
              "      <td>2.831337</td>\n",
              "    </tr>\n",
              "    <tr>\n",
              "      <th>840.0</th>\n",
              "      <td>2.831337</td>\n",
              "    </tr>\n",
              "    <tr>\n",
              "      <th>883.0</th>\n",
              "      <td>3.164670</td>\n",
              "    </tr>\n",
              "    <tr>\n",
              "      <th>1010.0</th>\n",
              "      <td>3.164670</td>\n",
              "    </tr>\n",
              "    <tr>\n",
              "      <th>1022.0</th>\n",
              "      <td>3.164670</td>\n",
              "    </tr>\n",
              "  </tbody>\n",
              "</table>\n",
              "<p>120 rows × 1 columns</p>\n",
              "</div>"
            ],
            "text/plain": [
              "          NA_estimate\n",
              "timeline             \n",
              "0.0          0.000000\n",
              "11.0         0.021899\n",
              "12.0         0.029306\n",
              "13.0         0.044287\n",
              "15.0         0.051863\n",
              "...               ...\n",
              "814.0        2.831337\n",
              "840.0        2.831337\n",
              "883.0        3.164670\n",
              "1010.0       3.164670\n",
              "1022.0       3.164670\n",
              "\n",
              "[120 rows x 1 columns]"
            ]
          },
          "metadata": {
            "tags": []
          },
          "execution_count": 61
        }
      ]
    },
    {
      "cell_type": "code",
      "metadata": {
        "id": "nMtdlyzIDoev",
        "colab": {
          "base_uri": "https://localhost:8080/",
          "height": 446
        },
        "outputId": "ffe8191e-79f4-4202-d548-770f80e95e32"
      },
      "source": [
        "#Cumulative hazard for female group:\n",
        "\n",
        "naf_f.cumulative_hazard_"
      ],
      "execution_count": null,
      "outputs": [
        {
          "output_type": "execute_result",
          "data": {
            "text/html": [
              "<div>\n",
              "<style scoped>\n",
              "    .dataframe tbody tr th:only-of-type {\n",
              "        vertical-align: middle;\n",
              "    }\n",
              "\n",
              "    .dataframe tbody tr th {\n",
              "        vertical-align: top;\n",
              "    }\n",
              "\n",
              "    .dataframe thead th {\n",
              "        text-align: right;\n",
              "    }\n",
              "</style>\n",
              "<table border=\"1\" class=\"dataframe\">\n",
              "  <thead>\n",
              "    <tr style=\"text-align: right;\">\n",
              "      <th></th>\n",
              "      <th>NA_estimate</th>\n",
              "    </tr>\n",
              "    <tr>\n",
              "      <th>timeline</th>\n",
              "      <th></th>\n",
              "    </tr>\n",
              "  </thead>\n",
              "  <tbody>\n",
              "    <tr>\n",
              "      <th>0.0</th>\n",
              "      <td>0.000000</td>\n",
              "    </tr>\n",
              "    <tr>\n",
              "      <th>5.0</th>\n",
              "      <td>0.011111</td>\n",
              "    </tr>\n",
              "    <tr>\n",
              "      <th>60.0</th>\n",
              "      <td>0.022347</td>\n",
              "    </tr>\n",
              "    <tr>\n",
              "      <th>61.0</th>\n",
              "      <td>0.033711</td>\n",
              "    </tr>\n",
              "    <tr>\n",
              "      <th>62.0</th>\n",
              "      <td>0.045205</td>\n",
              "    </tr>\n",
              "    <tr>\n",
              "      <th>...</th>\n",
              "      <td>...</td>\n",
              "    </tr>\n",
              "    <tr>\n",
              "      <th>735.0</th>\n",
              "      <td>1.988977</td>\n",
              "    </tr>\n",
              "    <tr>\n",
              "      <th>740.0</th>\n",
              "      <td>1.988977</td>\n",
              "    </tr>\n",
              "    <tr>\n",
              "      <th>765.0</th>\n",
              "      <td>2.322310</td>\n",
              "    </tr>\n",
              "    <tr>\n",
              "      <th>821.0</th>\n",
              "      <td>2.322310</td>\n",
              "    </tr>\n",
              "    <tr>\n",
              "      <th>965.0</th>\n",
              "      <td>2.322310</td>\n",
              "    </tr>\n",
              "  </tbody>\n",
              "</table>\n",
              "<p>88 rows × 1 columns</p>\n",
              "</div>"
            ],
            "text/plain": [
              "          NA_estimate\n",
              "timeline             \n",
              "0.0          0.000000\n",
              "5.0          0.011111\n",
              "60.0         0.022347\n",
              "61.0         0.033711\n",
              "62.0         0.045205\n",
              "...               ...\n",
              "735.0        1.988977\n",
              "740.0        1.988977\n",
              "765.0        2.322310\n",
              "821.0        2.322310\n",
              "965.0        2.322310\n",
              "\n",
              "[88 rows x 1 columns]"
            ]
          },
          "metadata": {
            "tags": []
          },
          "execution_count": 62
        }
      ]
    },
    {
      "cell_type": "code",
      "metadata": {
        "id": "uU89S5VxDtLd",
        "colab": {
          "base_uri": "https://localhost:8080/",
          "height": 313
        },
        "outputId": "d785b937-a1fd-4786-abf9-b4cee9da7ff0"
      },
      "source": [
        "#Plot the graph for cumulative hazard:\n",
        "\n",
        "naf_m.plot_cumulative_hazard(label=\"Male\")\n",
        "naf_f.plot_cumulative_hazard(label=\"Female\")\n",
        "plt.title(\"Cumulative Hazard Plot\")\n",
        "plt.xlabel(\"Number of Days\")\n",
        "plt.ylabel(\"Cumulative Hazard\")"
      ],
      "execution_count": null,
      "outputs": [
        {
          "output_type": "execute_result",
          "data": {
            "text/plain": [
              "Text(0, 0.5, 'Cumulative Hazard')"
            ]
          },
          "metadata": {
            "tags": []
          },
          "execution_count": 63
        },
        {
          "output_type": "display_data",
          "data": {
            "image/png": "[encoded data removed]",
            "text/plain": [
              "<Figure size 432x288 with 1 Axes>"
            ]
          },
          "metadata": {
            "tags": [],
            "needs_background": "light"
          }
        }
      ]
    },
    {
      "cell_type": "code",
      "metadata": {
        "id": "onRuSk0-DufA",
        "colab": {
          "base_uri": "https://localhost:8080/",
          "height": 446
        },
        "outputId": "b6d56814-d6f3-49db-b920-b932a49d0ac4"
      },
      "source": [
        "#Conditional median time to event of interest:\n",
        "\n",
        "kmf_m.conditional_time_to_event_"
      ],
      "execution_count": null,
      "outputs": [
        {
          "output_type": "execute_result",
          "data": {
            "text/html": [
              "<div>\n",
              "<style scoped>\n",
              "    .dataframe tbody tr th:only-of-type {\n",
              "        vertical-align: middle;\n",
              "    }\n",
              "\n",
              "    .dataframe tbody tr th {\n",
              "        vertical-align: top;\n",
              "    }\n",
              "\n",
              "    .dataframe thead th {\n",
              "        text-align: right;\n",
              "    }\n",
              "</style>\n",
              "<table border=\"1\" class=\"dataframe\">\n",
              "  <thead>\n",
              "    <tr style=\"text-align: right;\">\n",
              "      <th></th>\n",
              "      <th>Male - Conditional median duration remaining to event</th>\n",
              "    </tr>\n",
              "    <tr>\n",
              "      <th>timeline</th>\n",
              "      <th></th>\n",
              "    </tr>\n",
              "  </thead>\n",
              "  <tbody>\n",
              "    <tr>\n",
              "      <th>0.0</th>\n",
              "      <td>270.0</td>\n",
              "    </tr>\n",
              "    <tr>\n",
              "      <th>11.0</th>\n",
              "      <td>272.0</td>\n",
              "    </tr>\n",
              "    <tr>\n",
              "      <th>12.0</th>\n",
              "      <td>271.0</td>\n",
              "    </tr>\n",
              "    <tr>\n",
              "      <th>13.0</th>\n",
              "      <td>271.0</td>\n",
              "    </tr>\n",
              "    <tr>\n",
              "      <th>15.0</th>\n",
              "      <td>270.0</td>\n",
              "    </tr>\n",
              "    <tr>\n",
              "      <th>...</th>\n",
              "      <td>...</td>\n",
              "    </tr>\n",
              "    <tr>\n",
              "      <th>814.0</th>\n",
              "      <td>inf</td>\n",
              "    </tr>\n",
              "    <tr>\n",
              "      <th>840.0</th>\n",
              "      <td>inf</td>\n",
              "    </tr>\n",
              "    <tr>\n",
              "      <th>883.0</th>\n",
              "      <td>inf</td>\n",
              "    </tr>\n",
              "    <tr>\n",
              "      <th>1010.0</th>\n",
              "      <td>inf</td>\n",
              "    </tr>\n",
              "    <tr>\n",
              "      <th>1022.0</th>\n",
              "      <td>inf</td>\n",
              "    </tr>\n",
              "  </tbody>\n",
              "</table>\n",
              "<p>120 rows × 1 columns</p>\n",
              "</div>"
            ],
            "text/plain": [
              "          Male - Conditional median duration remaining to event\n",
              "timeline                                                       \n",
              "0.0                                                   270.0    \n",
              "11.0                                                  272.0    \n",
              "12.0                                                  271.0    \n",
              "13.0                                                  271.0    \n",
              "15.0                                                  270.0    \n",
              "...                                                     ...    \n",
              "814.0                                                   inf    \n",
              "840.0                                                   inf    \n",
              "883.0                                                   inf    \n",
              "1010.0                                                  inf    \n",
              "1022.0                                                  inf    \n",
              "\n",
              "[120 rows x 1 columns]"
            ]
          },
          "metadata": {
            "tags": []
          },
          "execution_count": 64
        }
      ]
    },
    {
      "cell_type": "code",
      "metadata": {
        "id": "4-4N9afCDvwS",
        "colab": {
          "base_uri": "https://localhost:8080/",
          "height": 313
        },
        "outputId": "94704373-77a8-476a-8c03-c2afca4c715f"
      },
      "source": [
        "#Conditional median time left for event for male group:\n",
        "\n",
        "median_time_to_event = kmf_m.conditional_time_to_event_\n",
        "plt.plot(median_time_to_event,label=\"Median Time left\")\n",
        "plt.title(\"Medain time to event\")\n",
        "plt.xlabel(\"Total days\")\n",
        "plt.ylabel(\"Conditional median time to event\")\n",
        "plt.legend()"
      ],
      "execution_count": null,
      "outputs": [
        {
          "output_type": "execute_result",
          "data": {
            "text/plain": [
              "<matplotlib.legend.Legend at 0x7f2f209bdfd0>"
            ]
          },
          "metadata": {
            "tags": []
          },
          "execution_count": 66
        },
        {
          "output_type": "display_data",
          "data": {
            "image/png": "[encoded data removed]",
            "text/plain": [
              "<Figure size 432x288 with 1 Axes>"
            ]
          },
          "metadata": {
            "tags": [],
            "needs_background": "light"
          }
        }
      ]
    },
    {
      "cell_type": "code",
      "metadata": {
        "id": "iZmmw12aDzDp",
        "colab": {
          "base_uri": "https://localhost:8080/",
          "height": 446
        },
        "outputId": "7016e6dc-81eb-41b8-b8a2-f1811c69b9d6"
      },
      "source": [
        "#Conditional median time to event of interest for female group:\n",
        "\n",
        "kmf_f.conditional_time_to_event_"
      ],
      "execution_count": null,
      "outputs": [
        {
          "output_type": "execute_result",
          "data": {
            "text/html": [
              "<div>\n",
              "<style scoped>\n",
              "    .dataframe tbody tr th:only-of-type {\n",
              "        vertical-align: middle;\n",
              "    }\n",
              "\n",
              "    .dataframe tbody tr th {\n",
              "        vertical-align: top;\n",
              "    }\n",
              "\n",
              "    .dataframe thead th {\n",
              "        text-align: right;\n",
              "    }\n",
              "</style>\n",
              "<table border=\"1\" class=\"dataframe\">\n",
              "  <thead>\n",
              "    <tr style=\"text-align: right;\">\n",
              "      <th></th>\n",
              "      <th>Female - Conditional median duration remaining to event</th>\n",
              "    </tr>\n",
              "    <tr>\n",
              "      <th>timeline</th>\n",
              "      <th></th>\n",
              "    </tr>\n",
              "  </thead>\n",
              "  <tbody>\n",
              "    <tr>\n",
              "      <th>0.0</th>\n",
              "      <td>426.0</td>\n",
              "    </tr>\n",
              "    <tr>\n",
              "      <th>5.0</th>\n",
              "      <td>421.0</td>\n",
              "    </tr>\n",
              "    <tr>\n",
              "      <th>60.0</th>\n",
              "      <td>373.0</td>\n",
              "    </tr>\n",
              "    <tr>\n",
              "      <th>61.0</th>\n",
              "      <td>372.0</td>\n",
              "    </tr>\n",
              "    <tr>\n",
              "      <th>62.0</th>\n",
              "      <td>371.0</td>\n",
              "    </tr>\n",
              "    <tr>\n",
              "      <th>...</th>\n",
              "      <td>...</td>\n",
              "    </tr>\n",
              "    <tr>\n",
              "      <th>735.0</th>\n",
              "      <td>inf</td>\n",
              "    </tr>\n",
              "    <tr>\n",
              "      <th>740.0</th>\n",
              "      <td>inf</td>\n",
              "    </tr>\n",
              "    <tr>\n",
              "      <th>765.0</th>\n",
              "      <td>inf</td>\n",
              "    </tr>\n",
              "    <tr>\n",
              "      <th>821.0</th>\n",
              "      <td>inf</td>\n",
              "    </tr>\n",
              "    <tr>\n",
              "      <th>965.0</th>\n",
              "      <td>inf</td>\n",
              "    </tr>\n",
              "  </tbody>\n",
              "</table>\n",
              "<p>88 rows × 1 columns</p>\n",
              "</div>"
            ],
            "text/plain": [
              "          Female - Conditional median duration remaining to event\n",
              "timeline                                                         \n",
              "0.0                                                   426.0      \n",
              "5.0                                                   421.0      \n",
              "60.0                                                  373.0      \n",
              "61.0                                                  372.0      \n",
              "62.0                                                  371.0      \n",
              "...                                                     ...      \n",
              "735.0                                                   inf      \n",
              "740.0                                                   inf      \n",
              "765.0                                                   inf      \n",
              "821.0                                                   inf      \n",
              "965.0                                                   inf      \n",
              "\n",
              "[88 rows x 1 columns]"
            ]
          },
          "metadata": {
            "tags": []
          },
          "execution_count": 67
        }
      ]
    },
    {
      "cell_type": "code",
      "metadata": {
        "id": "VTcZJPPdD1Ul",
        "colab": {
          "base_uri": "https://localhost:8080/",
          "height": 313
        },
        "outputId": "06458327-96b4-4fe6-e2ae-24f3031a72b1"
      },
      "source": [
        "#Conditional median time left for event for female group:\n",
        "\n",
        "median_time_to_event = kmf_f.conditional_time_to_event_\n",
        "plt.plot(median_time_to_event,label=\"Median Time left\")\n",
        "plt.title(\"Medain time to event\")\n",
        "plt.xlabel(\"Total days\")\n",
        "plt.ylabel(\"Conditional median time to event\")\n",
        "plt.legend()"
      ],
      "execution_count": null,
      "outputs": [
        {
          "output_type": "execute_result",
          "data": {
            "text/plain": [
              "<matplotlib.legend.Legend at 0x7f2f20919ac8>"
            ]
          },
          "metadata": {
            "tags": []
          },
          "execution_count": 68
        },
        {
          "output_type": "display_data",
          "data": {
            "image/png": "[encoded data removed]",
            "text/plain": [
              "<Figure size 432x288 with 1 Axes>"
            ]
          },
          "metadata": {
            "tags": [],
            "needs_background": "light"
          }
        }
      ]
    },
    {
      "cell_type": "code",
      "metadata": {
        "id": "xQzhVxgFD2iZ",
        "colab": {
          "base_uri": "https://localhost:8080/",
          "height": 415
        },
        "outputId": "31a1a0c0-319c-4312-fec6-18fcc71427f9"
      },
      "source": [
        "#Survival probability with confidence interval for male group:\n",
        "\n",
        "kmf_m.confidence_interval_survival_function_"
      ],
      "execution_count": null,
      "outputs": [
        {
          "output_type": "execute_result",
          "data": {
            "text/html": [
              "<div>\n",
              "<style scoped>\n",
              "    .dataframe tbody tr th:only-of-type {\n",
              "        vertical-align: middle;\n",
              "    }\n",
              "\n",
              "    .dataframe tbody tr th {\n",
              "        vertical-align: top;\n",
              "    }\n",
              "\n",
              "    .dataframe thead th {\n",
              "        text-align: right;\n",
              "    }\n",
              "</style>\n",
              "<table border=\"1\" class=\"dataframe\">\n",
              "  <thead>\n",
              "    <tr style=\"text-align: right;\">\n",
              "      <th></th>\n",
              "      <th>Male_lower_0.95</th>\n",
              "      <th>Male_upper_0.95</th>\n",
              "    </tr>\n",
              "  </thead>\n",
              "  <tbody>\n",
              "    <tr>\n",
              "      <th>0.0</th>\n",
              "      <td>1.000000</td>\n",
              "      <td>1.000000</td>\n",
              "    </tr>\n",
              "    <tr>\n",
              "      <th>11.0</th>\n",
              "      <td>0.934122</td>\n",
              "      <td>0.992937</td>\n",
              "    </tr>\n",
              "    <tr>\n",
              "      <th>12.0</th>\n",
              "      <td>0.924619</td>\n",
              "      <td>0.989022</td>\n",
              "    </tr>\n",
              "    <tr>\n",
              "      <th>13.0</th>\n",
              "      <td>0.905787</td>\n",
              "      <td>0.980229</td>\n",
              "    </tr>\n",
              "    <tr>\n",
              "      <th>15.0</th>\n",
              "      <td>0.896549</td>\n",
              "      <td>0.975490</td>\n",
              "    </tr>\n",
              "    <tr>\n",
              "      <th>...</th>\n",
              "      <td>...</td>\n",
              "      <td>...</td>\n",
              "    </tr>\n",
              "    <tr>\n",
              "      <th>814.0</th>\n",
              "      <td>0.019335</td>\n",
              "      <td>0.114081</td>\n",
              "    </tr>\n",
              "    <tr>\n",
              "      <th>840.0</th>\n",
              "      <td>0.019335</td>\n",
              "      <td>0.114081</td>\n",
              "    </tr>\n",
              "    <tr>\n",
              "      <th>883.0</th>\n",
              "      <td>0.008603</td>\n",
              "      <td>0.096828</td>\n",
              "    </tr>\n",
              "    <tr>\n",
              "      <th>1010.0</th>\n",
              "      <td>0.008603</td>\n",
              "      <td>0.096828</td>\n",
              "    </tr>\n",
              "    <tr>\n",
              "      <th>1022.0</th>\n",
              "      <td>0.008603</td>\n",
              "      <td>0.096828</td>\n",
              "    </tr>\n",
              "  </tbody>\n",
              "</table>\n",
              "<p>120 rows × 2 columns</p>\n",
              "</div>"
            ],
            "text/plain": [
              "        Male_lower_0.95  Male_upper_0.95\n",
              "0.0            1.000000         1.000000\n",
              "11.0           0.934122         0.992937\n",
              "12.0           0.924619         0.989022\n",
              "13.0           0.905787         0.980229\n",
              "15.0           0.896549         0.975490\n",
              "...                 ...              ...\n",
              "814.0          0.019335         0.114081\n",
              "840.0          0.019335         0.114081\n",
              "883.0          0.008603         0.096828\n",
              "1010.0         0.008603         0.096828\n",
              "1022.0         0.008603         0.096828\n",
              "\n",
              "[120 rows x 2 columns]"
            ]
          },
          "metadata": {
            "tags": []
          },
          "execution_count": 69
        }
      ]
    },
    {
      "cell_type": "code",
      "metadata": {
        "id": "hz2bQVaRD4xx",
        "colab": {
          "base_uri": "https://localhost:8080/",
          "height": 313
        },
        "outputId": "2bd9d3e0-c3a4-4116-d179-6958315c0f80"
      },
      "source": [
        "#Plot survival function with confidence interval for male group:\n",
        "\n",
        "confidence_surv_func = kmf_m.confidence_interval_survival_function_\n",
        "\n",
        "plt.plot(confidence_surv_func[\"Male_lower_0.95\"],label=\"Lower\")\n",
        "plt.plot(confidence_surv_func[\"Male_upper_0.95\"],label=\"Upper\")\n",
        "plt.title(\"Survival Function With Confidence Interval\")\n",
        "plt.xlabel(\"Number of days\")\n",
        "plt.ylabel(\"Survival Probability\")\n",
        "plt.legend()"
      ],
      "execution_count": null,
      "outputs": [
        {
          "output_type": "execute_result",
          "data": {
            "text/plain": [
              "<matplotlib.legend.Legend at 0x7f2f2088b7b8>"
            ]
          },
          "metadata": {
            "tags": []
          },
          "execution_count": 70
        },
        {
          "output_type": "display_data",
          "data": {
            "image/png": "[encoded data removed]",
            "text/plain": [
              "<Figure size 432x288 with 1 Axes>"
            ]
          },
          "metadata": {
            "tags": [],
            "needs_background": "light"
          }
        }
      ]
    },
    {
      "cell_type": "code",
      "metadata": {
        "id": "Zo9Wv1XKD7an",
        "colab": {
          "base_uri": "https://localhost:8080/",
          "height": 415
        },
        "outputId": "dcef125a-bcc2-470b-c7a6-908ff243b8e0"
      },
      "source": [
        "#Survival probability with confidence interval for female group:\n",
        "\n",
        "kmf_f.confidence_interval_survival_function_"
      ],
      "execution_count": null,
      "outputs": [
        {
          "output_type": "execute_result",
          "data": {
            "text/html": [
              "<div>\n",
              "<style scoped>\n",
              "    .dataframe tbody tr th:only-of-type {\n",
              "        vertical-align: middle;\n",
              "    }\n",
              "\n",
              "    .dataframe tbody tr th {\n",
              "        vertical-align: top;\n",
              "    }\n",
              "\n",
              "    .dataframe thead th {\n",
              "        text-align: right;\n",
              "    }\n",
              "</style>\n",
              "<table border=\"1\" class=\"dataframe\">\n",
              "  <thead>\n",
              "    <tr style=\"text-align: right;\">\n",
              "      <th></th>\n",
              "      <th>Female_lower_0.95</th>\n",
              "      <th>Female_upper_0.95</th>\n",
              "    </tr>\n",
              "  </thead>\n",
              "  <tbody>\n",
              "    <tr>\n",
              "      <th>0.0</th>\n",
              "      <td>1.000000</td>\n",
              "      <td>1.000000</td>\n",
              "    </tr>\n",
              "    <tr>\n",
              "      <th>5.0</th>\n",
              "      <td>0.923743</td>\n",
              "      <td>0.998427</td>\n",
              "    </tr>\n",
              "    <tr>\n",
              "      <th>60.0</th>\n",
              "      <td>0.914060</td>\n",
              "      <td>0.994396</td>\n",
              "    </tr>\n",
              "    <tr>\n",
              "      <th>61.0</th>\n",
              "      <td>0.900217</td>\n",
              "      <td>0.989126</td>\n",
              "    </tr>\n",
              "    <tr>\n",
              "      <th>62.0</th>\n",
              "      <td>0.885909</td>\n",
              "      <td>0.983083</td>\n",
              "    </tr>\n",
              "    <tr>\n",
              "      <th>...</th>\n",
              "      <td>...</td>\n",
              "      <td>...</td>\n",
              "    </tr>\n",
              "    <tr>\n",
              "      <th>735.0</th>\n",
              "      <td>0.042931</td>\n",
              "      <td>0.252736</td>\n",
              "    </tr>\n",
              "    <tr>\n",
              "      <th>740.0</th>\n",
              "      <td>0.042931</td>\n",
              "      <td>0.252736</td>\n",
              "    </tr>\n",
              "    <tr>\n",
              "      <th>765.0</th>\n",
              "      <td>0.018505</td>\n",
              "      <td>0.212364</td>\n",
              "    </tr>\n",
              "    <tr>\n",
              "      <th>821.0</th>\n",
              "      <td>0.018505</td>\n",
              "      <td>0.212364</td>\n",
              "    </tr>\n",
              "    <tr>\n",
              "      <th>965.0</th>\n",
              "      <td>0.018505</td>\n",
              "      <td>0.212364</td>\n",
              "    </tr>\n",
              "  </tbody>\n",
              "</table>\n",
              "<p>88 rows × 2 columns</p>\n",
              "</div>"
            ],
            "text/plain": [
              "       Female_lower_0.95  Female_upper_0.95\n",
              "0.0             1.000000           1.000000\n",
              "5.0             0.923743           0.998427\n",
              "60.0            0.914060           0.994396\n",
              "61.0            0.900217           0.989126\n",
              "62.0            0.885909           0.983083\n",
              "...                  ...                ...\n",
              "735.0           0.042931           0.252736\n",
              "740.0           0.042931           0.252736\n",
              "765.0           0.018505           0.212364\n",
              "821.0           0.018505           0.212364\n",
              "965.0           0.018505           0.212364\n",
              "\n",
              "[88 rows x 2 columns]"
            ]
          },
          "metadata": {
            "tags": []
          },
          "execution_count": 71
        }
      ]
    },
    {
      "cell_type": "code",
      "metadata": {
        "id": "vhV6wS9YD92m",
        "colab": {
          "base_uri": "https://localhost:8080/",
          "height": 313
        },
        "outputId": "c07efc6c-4cba-417a-804d-743e36eb78f7"
      },
      "source": [
        "#Plot survival function with confidence interval for female group:\n",
        "\n",
        "confidence_surv_func = kmf_f.confidence_interval_survival_function_\n",
        "\n",
        "plt.plot(confidence_surv_func[\"Female_lower_0.95\"],label=\"Lower\")\n",
        "plt.plot(confidence_surv_func[\"Female_upper_0.95\"],label=\"Upper\")\n",
        "plt.title(\"Survival Function With Confidence Interval\")\n",
        "plt.xlabel(\"Number of days\")\n",
        "plt.ylabel(\"Survival Probability\")\n",
        "plt.legend()"
      ],
      "execution_count": null,
      "outputs": [
        {
          "output_type": "execute_result",
          "data": {
            "text/plain": [
              "<matplotlib.legend.Legend at 0x7f2f20872a20>"
            ]
          },
          "metadata": {
            "tags": []
          },
          "execution_count": 72
        },
        {
          "output_type": "display_data",
          "data": {
            "image/png": "[encoded data removed]",
            "text/plain": [
              "<Figure size 432x288 with 1 Axes>"
            ]
          },
          "metadata": {
            "tags": [],
            "needs_background": "light"
          }
        }
      ]
    },
    {
      "cell_type": "code",
      "metadata": {
        "id": "R069-mQ9EBpW",
        "colab": {
          "base_uri": "https://localhost:8080/",
          "height": 297
        },
        "outputId": "4d465ec5-c132-42af-8ca7-e5521bef96d5"
      },
      "source": [
        "#Plot the cumulative_hazard and cumulative density:\n",
        "\n",
        "kmf_m.plot_cumulative_density(label=\"Male Density\")\n",
        "naf_m.plot_cumulative_hazard(label=\"Male Hazard\")\n",
        "plt.xlabel(\"Number of Days\")"
      ],
      "execution_count": null,
      "outputs": [
        {
          "output_type": "execute_result",
          "data": {
            "text/plain": [
              "Text(0.5, 0, 'Number of Days')"
            ]
          },
          "metadata": {
            "tags": []
          },
          "execution_count": 73
        },
        {
          "output_type": "display_data",
          "data": {
            "image/png": "[encoded data removed]",
            "text/plain": [
              "<Figure size 432x288 with 1 Axes>"
            ]
          },
          "metadata": {
            "tags": [],
            "needs_background": "light"
          }
        }
      ]
    },
    {
      "cell_type": "code",
      "metadata": {
        "id": "6cLShB_8EEED",
        "colab": {
          "base_uri": "https://localhost:8080/",
          "height": 297
        },
        "outputId": "56b79d98-85b0-4c98-e53c-49810a99c9f7"
      },
      "source": [
        "#Plot the cumulative_hazard and cumulative density:\n",
        "\n",
        "kmf_f.plot_cumulative_density(label=\"Female Density\")\n",
        "naf_f.plot_cumulative_hazard(label=\"Female Hazard\")\n",
        "plt.xlabel(\"Number of Days\")"
      ],
      "execution_count": null,
      "outputs": [
        {
          "output_type": "execute_result",
          "data": {
            "text/plain": [
              "Text(0.5, 0, 'Number of Days')"
            ]
          },
          "metadata": {
            "tags": []
          },
          "execution_count": 74
        },
        {
          "output_type": "display_data",
          "data": {
            "image/png": "[encoded data removed]",
            "text/plain": [
              "<Figure size 432x288 with 1 Axes>"
            ]
          },
          "metadata": {
            "tags": [],
            "needs_background": "light"
          }
        }
      ]
    },
    {
      "cell_type": "markdown",
      "metadata": {
        "id": "DVMAzdobEFRn"
      },
      "source": [
        "##5. Log-rank Test"
      ]
    },
    {
      "cell_type": "code",
      "metadata": {
        "id": "he-eHJHkEM68"
      },
      "source": [
        "#Define variables for log-rank test:\n",
        "\n",
        "Time_A = Male['time']\n",
        "Event_A = Male['dead']\n",
        "\n",
        "Time_B = Female['time']\n",
        "Event_B = Female['dead']"
      ],
      "execution_count": null,
      "outputs": []
    },
    {
      "cell_type": "code",
      "metadata": {
        "id": "WPbqOGVwEP0U",
        "colab": {
          "base_uri": "https://localhost:8080/",
          "height": 202
        },
        "outputId": "d6c325bd-24db-48db-abe8-b3d339896d7b"
      },
      "source": [
        "#Performing the Log-Rank test:\n",
        "\n",
        "from lifelines.statistics import logrank_test\n",
        "\n",
        "results = logrank_test(Time_A, Time_B, event_observed_A=Event_A, event_observed_B=Event_B)\n",
        "results.print_summary()"
      ],
      "execution_count": null,
      "outputs": [
        {
          "output_type": "display_data",
          "data": {
            "text/latex": "\\begin{tabular}{lrrr}\n\\toprule\n{} &  test\\_statistic &         p &  -log2(p) \\\\\n\\midrule\n0 &       10.326742 &  0.001311 &  9.574936 \\\\\n\\bottomrule\n\\end{tabular}\n",
            "text/html": [
              "<div>\n",
              "<style scoped>\n",
              "    .dataframe tbody tr th:only-of-type {\n",
              "        vertical-align: middle;\n",
              "    }\n",
              "\n",
              "    .dataframe tbody tr th {\n",
              "        vertical-align: top;\n",
              "    }\n",
              "\n",
              "    .dataframe thead th {\n",
              "        text-align: right;\n",
              "    }\n",
              "</style>\n",
              "<table border=\"1\" class=\"dataframe\">\n",
              "  <tbody>\n",
              "    <tr>\n",
              "      <th>t_0</th>\n",
              "      <td>-1</td>\n",
              "    </tr>\n",
              "    <tr>\n",
              "      <th>null_distribution</th>\n",
              "      <td>chi squared</td>\n",
              "    </tr>\n",
              "    <tr>\n",
              "      <th>degrees_of_freedom</th>\n",
              "      <td>1</td>\n",
              "    </tr>\n",
              "    <tr>\n",
              "      <th>test_name</th>\n",
              "      <td>logrank_test</td>\n",
              "    </tr>\n",
              "  </tbody>\n",
              "</table>\n",
              "</div><table border=\"1\" class=\"dataframe\">\n",
              "  <thead>\n",
              "    <tr style=\"text-align: right;\">\n",
              "      <th></th>\n",
              "      <th>test_statistic</th>\n",
              "      <th>p</th>\n",
              "      <th>-log2(p)</th>\n",
              "    </tr>\n",
              "  </thead>\n",
              "  <tbody>\n",
              "    <tr>\n",
              "      <th>0</th>\n",
              "      <td>10.33</td>\n",
              "      <td>&lt;0.005</td>\n",
              "      <td>9.57</td>\n",
              "    </tr>\n",
              "  </tbody>\n",
              "</table>"
            ],
            "text/plain": [
              "<lifelines.StatisticalResult: logrank_test>\n",
              "               t_0 = -1\n",
              " null_distribution = chi squared\n",
              "degrees_of_freedom = 1\n",
              "         test_name = logrank_test\n",
              "\n",
              "---\n",
              " test_statistic      p  -log2(p)\n",
              "          10.33 <0.005      9.57"
            ]
          },
          "metadata": {
            "tags": []
          }
        }
      ]
    },
    {
      "cell_type": "code",
      "metadata": {
        "id": "AFsDUASpEQ4r",
        "colab": {
          "base_uri": "https://localhost:8080/",
          "height": 35
        },
        "outputId": "2276ead9-bffd-4ce1-fa15-64852b636efb"
      },
      "source": [
        "#Print the P-value:\n",
        "\n",
        "print(\"P-value :\",results.p_value)"
      ],
      "execution_count": null,
      "outputs": [
        {
          "output_type": "stream",
          "text": [
            "P-value : 0.001311164520355457\n"
          ],
          "name": "stdout"
        }
      ]
    },
    {
      "cell_type": "markdown",
      "metadata": {
        "id": "TwwXxjfTEWMo"
      },
      "source": [
        "##6. Cox-regression"
      ]
    },
    {
      "cell_type": "code",
      "metadata": {
        "id": "lENAdHW2EZPX"
      },
      "source": [
        "#Import required libraries:\n",
        "\n",
        "import pandas as pd\n",
        "import numpy as np\n",
        "import matplotlib.pyplot as plt\n",
        "from lifelines import KaplanMeierFitter\n",
        "from lifelines import CoxPHFitter"
      ],
      "execution_count": null,
      "outputs": []
    },
    {
      "cell_type": "code",
      "metadata": {
        "id": "UB4jfO64EdAv",
        "colab": {
          "base_uri": "https://localhost:8080/",
          "height": 202
        },
        "outputId": "ee1d92a3-aed3-4ca2-8c27-b12b80b574b1"
      },
      "source": [
        "#Read the data file:\n",
        "\n",
        "data = pd.read_csv(\"lung.csv\")\n",
        "data =  data.drop([\"Unnamed: 0\"],axis=1)\n",
        "data.head()"
      ],
      "execution_count": null,
      "outputs": [
        {
          "output_type": "execute_result",
          "data": {
            "text/html": [
              "<div>\n",
              "<style scoped>\n",
              "    .dataframe tbody tr th:only-of-type {\n",
              "        vertical-align: middle;\n",
              "    }\n",
              "\n",
              "    .dataframe tbody tr th {\n",
              "        vertical-align: top;\n",
              "    }\n",
              "\n",
              "    .dataframe thead th {\n",
              "        text-align: right;\n",
              "    }\n",
              "</style>\n",
              "<table border=\"1\" class=\"dataframe\">\n",
              "  <thead>\n",
              "    <tr style=\"text-align: right;\">\n",
              "      <th></th>\n",
              "      <th>inst</th>\n",
              "      <th>time</th>\n",
              "      <th>status</th>\n",
              "      <th>age</th>\n",
              "      <th>sex</th>\n",
              "      <th>ph.ecog</th>\n",
              "      <th>ph.karno</th>\n",
              "      <th>pat.karno</th>\n",
              "      <th>meal.cal</th>\n",
              "      <th>wt.loss</th>\n",
              "    </tr>\n",
              "  </thead>\n",
              "  <tbody>\n",
              "    <tr>\n",
              "      <th>0</th>\n",
              "      <td>3.0</td>\n",
              "      <td>306</td>\n",
              "      <td>2</td>\n",
              "      <td>74</td>\n",
              "      <td>1</td>\n",
              "      <td>1.0</td>\n",
              "      <td>90.0</td>\n",
              "      <td>100.0</td>\n",
              "      <td>1175.0</td>\n",
              "      <td>NaN</td>\n",
              "    </tr>\n",
              "    <tr>\n",
              "      <th>1</th>\n",
              "      <td>3.0</td>\n",
              "      <td>455</td>\n",
              "      <td>2</td>\n",
              "      <td>68</td>\n",
              "      <td>1</td>\n",
              "      <td>0.0</td>\n",
              "      <td>90.0</td>\n",
              "      <td>90.0</td>\n",
              "      <td>1225.0</td>\n",
              "      <td>15.0</td>\n",
              "    </tr>\n",
              "    <tr>\n",
              "      <th>2</th>\n",
              "      <td>3.0</td>\n",
              "      <td>1010</td>\n",
              "      <td>1</td>\n",
              "      <td>56</td>\n",
              "      <td>1</td>\n",
              "      <td>0.0</td>\n",
              "      <td>90.0</td>\n",
              "      <td>90.0</td>\n",
              "      <td>NaN</td>\n",
              "      <td>15.0</td>\n",
              "    </tr>\n",
              "    <tr>\n",
              "      <th>3</th>\n",
              "      <td>5.0</td>\n",
              "      <td>210</td>\n",
              "      <td>2</td>\n",
              "      <td>57</td>\n",
              "      <td>1</td>\n",
              "      <td>1.0</td>\n",
              "      <td>90.0</td>\n",
              "      <td>60.0</td>\n",
              "      <td>1150.0</td>\n",
              "      <td>11.0</td>\n",
              "    </tr>\n",
              "    <tr>\n",
              "      <th>4</th>\n",
              "      <td>1.0</td>\n",
              "      <td>883</td>\n",
              "      <td>2</td>\n",
              "      <td>60</td>\n",
              "      <td>1</td>\n",
              "      <td>0.0</td>\n",
              "      <td>100.0</td>\n",
              "      <td>90.0</td>\n",
              "      <td>NaN</td>\n",
              "      <td>0.0</td>\n",
              "    </tr>\n",
              "  </tbody>\n",
              "</table>\n",
              "</div>"
            ],
            "text/plain": [
              "   inst  time  status  age  ...  ph.karno  pat.karno  meal.cal  wt.loss\n",
              "0   3.0   306       2   74  ...      90.0      100.0    1175.0      NaN\n",
              "1   3.0   455       2   68  ...      90.0       90.0    1225.0     15.0\n",
              "2   3.0  1010       1   56  ...      90.0       90.0       NaN     15.0\n",
              "3   5.0   210       2   57  ...      90.0       60.0    1150.0     11.0\n",
              "4   1.0   883       2   60  ...     100.0       90.0       NaN      0.0\n",
              "\n",
              "[5 rows x 10 columns]"
            ]
          },
          "metadata": {
            "tags": []
          },
          "execution_count": 81
        }
      ]
    },
    {
      "cell_type": "code",
      "metadata": {
        "id": "orqA3PPXEfXP",
        "colab": {
          "base_uri": "https://localhost:8080/",
          "height": 69
        },
        "outputId": "749faf3d-dc88-4684-e2ed-46d502a6bf2e"
      },
      "source": [
        "#Columns of dataset:\n",
        "\n",
        "data.columns"
      ],
      "execution_count": null,
      "outputs": [
        {
          "output_type": "execute_result",
          "data": {
            "text/plain": [
              "Index(['inst', 'time', 'status', 'age', 'sex', 'ph.ecog', 'ph.karno',\n",
              "       'pat.karno', 'meal.cal', 'wt.loss'],\n",
              "      dtype='object')"
            ]
          },
          "metadata": {
            "tags": []
          },
          "execution_count": 82
        }
      ]
    },
    {
      "cell_type": "code",
      "metadata": {
        "id": "GpxV3Uf-EhHx",
        "colab": {
          "base_uri": "https://localhost:8080/",
          "height": 202
        },
        "outputId": "d2ae8bcb-0c59-444c-bac4-ab6f6175c9f5"
      },
      "source": [
        "#Drop rows with null values:\n",
        "\n",
        "data= data.dropna(subset=['inst', 'time', 'status', 'age', 'sex', \n",
        "                          'ph.ecog','ph.karno', 'pat.karno', 'meal.cal', 'wt.loss'])\n",
        "data.head()"
      ],
      "execution_count": null,
      "outputs": [
        {
          "output_type": "execute_result",
          "data": {
            "text/html": [
              "<div>\n",
              "<style scoped>\n",
              "    .dataframe tbody tr th:only-of-type {\n",
              "        vertical-align: middle;\n",
              "    }\n",
              "\n",
              "    .dataframe tbody tr th {\n",
              "        vertical-align: top;\n",
              "    }\n",
              "\n",
              "    .dataframe thead th {\n",
              "        text-align: right;\n",
              "    }\n",
              "</style>\n",
              "<table border=\"1\" class=\"dataframe\">\n",
              "  <thead>\n",
              "    <tr style=\"text-align: right;\">\n",
              "      <th></th>\n",
              "      <th>inst</th>\n",
              "      <th>time</th>\n",
              "      <th>status</th>\n",
              "      <th>age</th>\n",
              "      <th>sex</th>\n",
              "      <th>ph.ecog</th>\n",
              "      <th>ph.karno</th>\n",
              "      <th>pat.karno</th>\n",
              "      <th>meal.cal</th>\n",
              "      <th>wt.loss</th>\n",
              "    </tr>\n",
              "  </thead>\n",
              "  <tbody>\n",
              "    <tr>\n",
              "      <th>1</th>\n",
              "      <td>3.0</td>\n",
              "      <td>455</td>\n",
              "      <td>2</td>\n",
              "      <td>68</td>\n",
              "      <td>1</td>\n",
              "      <td>0.0</td>\n",
              "      <td>90.0</td>\n",
              "      <td>90.0</td>\n",
              "      <td>1225.0</td>\n",
              "      <td>15.0</td>\n",
              "    </tr>\n",
              "    <tr>\n",
              "      <th>3</th>\n",
              "      <td>5.0</td>\n",
              "      <td>210</td>\n",
              "      <td>2</td>\n",
              "      <td>57</td>\n",
              "      <td>1</td>\n",
              "      <td>1.0</td>\n",
              "      <td>90.0</td>\n",
              "      <td>60.0</td>\n",
              "      <td>1150.0</td>\n",
              "      <td>11.0</td>\n",
              "    </tr>\n",
              "    <tr>\n",
              "      <th>5</th>\n",
              "      <td>12.0</td>\n",
              "      <td>1022</td>\n",
              "      <td>1</td>\n",
              "      <td>74</td>\n",
              "      <td>1</td>\n",
              "      <td>1.0</td>\n",
              "      <td>50.0</td>\n",
              "      <td>80.0</td>\n",
              "      <td>513.0</td>\n",
              "      <td>0.0</td>\n",
              "    </tr>\n",
              "    <tr>\n",
              "      <th>6</th>\n",
              "      <td>7.0</td>\n",
              "      <td>310</td>\n",
              "      <td>2</td>\n",
              "      <td>68</td>\n",
              "      <td>2</td>\n",
              "      <td>2.0</td>\n",
              "      <td>70.0</td>\n",
              "      <td>60.0</td>\n",
              "      <td>384.0</td>\n",
              "      <td>10.0</td>\n",
              "    </tr>\n",
              "    <tr>\n",
              "      <th>7</th>\n",
              "      <td>11.0</td>\n",
              "      <td>361</td>\n",
              "      <td>2</td>\n",
              "      <td>71</td>\n",
              "      <td>2</td>\n",
              "      <td>2.0</td>\n",
              "      <td>60.0</td>\n",
              "      <td>80.0</td>\n",
              "      <td>538.0</td>\n",
              "      <td>1.0</td>\n",
              "    </tr>\n",
              "  </tbody>\n",
              "</table>\n",
              "</div>"
            ],
            "text/plain": [
              "   inst  time  status  age  ...  ph.karno  pat.karno  meal.cal  wt.loss\n",
              "1   3.0   455       2   68  ...      90.0       90.0    1225.0     15.0\n",
              "3   5.0   210       2   57  ...      90.0       60.0    1150.0     11.0\n",
              "5  12.0  1022       1   74  ...      50.0       80.0     513.0      0.0\n",
              "6   7.0   310       2   68  ...      70.0       60.0     384.0     10.0\n",
              "7  11.0   361       2   71  ...      60.0       80.0     538.0      1.0\n",
              "\n",
              "[5 rows x 10 columns]"
            ]
          },
          "metadata": {
            "tags": []
          },
          "execution_count": 83
        }
      ]
    },
    {
      "cell_type": "code",
      "metadata": {
        "id": "U6_uevhsEiWM"
      },
      "source": [
        "#Create an object:\n",
        "\n",
        "kmf = KaplanMeierFitter() "
      ],
      "execution_count": null,
      "outputs": []
    },
    {
      "cell_type": "code",
      "metadata": {
        "id": "rZyJR68XEjwl",
        "colab": {
          "base_uri": "https://localhost:8080/",
          "height": 202
        },
        "outputId": "d62ef542-e6b9-4c3b-a285-049e6d328265"
      },
      "source": [
        "#Organize the data:\n",
        "\n",
        "data.loc[data.status == 1, 'dead'] = 0\n",
        "data.loc[data.status == 2, 'dead'] = 1\n",
        "data.head()"
      ],
      "execution_count": null,
      "outputs": [
        {
          "output_type": "execute_result",
          "data": {
            "text/html": [
              "<div>\n",
              "<style scoped>\n",
              "    .dataframe tbody tr th:only-of-type {\n",
              "        vertical-align: middle;\n",
              "    }\n",
              "\n",
              "    .dataframe tbody tr th {\n",
              "        vertical-align: top;\n",
              "    }\n",
              "\n",
              "    .dataframe thead th {\n",
              "        text-align: right;\n",
              "    }\n",
              "</style>\n",
              "<table border=\"1\" class=\"dataframe\">\n",
              "  <thead>\n",
              "    <tr style=\"text-align: right;\">\n",
              "      <th></th>\n",
              "      <th>inst</th>\n",
              "      <th>time</th>\n",
              "      <th>status</th>\n",
              "      <th>age</th>\n",
              "      <th>sex</th>\n",
              "      <th>ph.ecog</th>\n",
              "      <th>ph.karno</th>\n",
              "      <th>pat.karno</th>\n",
              "      <th>meal.cal</th>\n",
              "      <th>wt.loss</th>\n",
              "      <th>dead</th>\n",
              "    </tr>\n",
              "  </thead>\n",
              "  <tbody>\n",
              "    <tr>\n",
              "      <th>1</th>\n",
              "      <td>3.0</td>\n",
              "      <td>455</td>\n",
              "      <td>2</td>\n",
              "      <td>68</td>\n",
              "      <td>1</td>\n",
              "      <td>0.0</td>\n",
              "      <td>90.0</td>\n",
              "      <td>90.0</td>\n",
              "      <td>1225.0</td>\n",
              "      <td>15.0</td>\n",
              "      <td>1.0</td>\n",
              "    </tr>\n",
              "    <tr>\n",
              "      <th>3</th>\n",
              "      <td>5.0</td>\n",
              "      <td>210</td>\n",
              "      <td>2</td>\n",
              "      <td>57</td>\n",
              "      <td>1</td>\n",
              "      <td>1.0</td>\n",
              "      <td>90.0</td>\n",
              "      <td>60.0</td>\n",
              "      <td>1150.0</td>\n",
              "      <td>11.0</td>\n",
              "      <td>1.0</td>\n",
              "    </tr>\n",
              "    <tr>\n",
              "      <th>5</th>\n",
              "      <td>12.0</td>\n",
              "      <td>1022</td>\n",
              "      <td>1</td>\n",
              "      <td>74</td>\n",
              "      <td>1</td>\n",
              "      <td>1.0</td>\n",
              "      <td>50.0</td>\n",
              "      <td>80.0</td>\n",
              "      <td>513.0</td>\n",
              "      <td>0.0</td>\n",
              "      <td>0.0</td>\n",
              "    </tr>\n",
              "    <tr>\n",
              "      <th>6</th>\n",
              "      <td>7.0</td>\n",
              "      <td>310</td>\n",
              "      <td>2</td>\n",
              "      <td>68</td>\n",
              "      <td>2</td>\n",
              "      <td>2.0</td>\n",
              "      <td>70.0</td>\n",
              "      <td>60.0</td>\n",
              "      <td>384.0</td>\n",
              "      <td>10.0</td>\n",
              "      <td>1.0</td>\n",
              "    </tr>\n",
              "    <tr>\n",
              "      <th>7</th>\n",
              "      <td>11.0</td>\n",
              "      <td>361</td>\n",
              "      <td>2</td>\n",
              "      <td>71</td>\n",
              "      <td>2</td>\n",
              "      <td>2.0</td>\n",
              "      <td>60.0</td>\n",
              "      <td>80.0</td>\n",
              "      <td>538.0</td>\n",
              "      <td>1.0</td>\n",
              "      <td>1.0</td>\n",
              "    </tr>\n",
              "  </tbody>\n",
              "</table>\n",
              "</div>"
            ],
            "text/plain": [
              "   inst  time  status  age  sex  ...  ph.karno  pat.karno  meal.cal  wt.loss  dead\n",
              "1   3.0   455       2   68    1  ...      90.0       90.0    1225.0     15.0   1.0\n",
              "3   5.0   210       2   57    1  ...      90.0       60.0    1150.0     11.0   1.0\n",
              "5  12.0  1022       1   74    1  ...      50.0       80.0     513.0      0.0   0.0\n",
              "6   7.0   310       2   68    2  ...      70.0       60.0     384.0     10.0   1.0\n",
              "7  11.0   361       2   71    2  ...      60.0       80.0     538.0      1.0   1.0\n",
              "\n",
              "[5 rows x 11 columns]"
            ]
          },
          "metadata": {
            "tags": []
          },
          "execution_count": 85
        }
      ]
    },
    {
      "cell_type": "code",
      "metadata": {
        "id": "oQXBBBcDElCF",
        "colab": {
          "base_uri": "https://localhost:8080/",
          "height": 35
        },
        "outputId": "768ad782-612b-4da8-f158-369c5138a943"
      },
      "source": [
        "#Fit data into our object:\n",
        "\n",
        "kmf.fit(durations =  data[\"time\"], event_observed = data[\"dead\"])"
      ],
      "execution_count": null,
      "outputs": [
        {
          "output_type": "execute_result",
          "data": {
            "text/plain": [
              "<lifelines.KaplanMeierFitter:\"KM_estimate\", fitted with 167 total observations, 47 right-censored observations>"
            ]
          },
          "metadata": {
            "tags": []
          },
          "execution_count": 86
        }
      ]
    },
    {
      "cell_type": "code",
      "metadata": {
        "id": "GrYFDtOOEmh5",
        "colab": {
          "base_uri": "https://localhost:8080/",
          "height": 446
        },
        "outputId": "a29a0bfd-017d-42bb-c658-a52f659959e5"
      },
      "source": [
        "#Get the event table:\n",
        "\n",
        "kmf.event_table"
      ],
      "execution_count": null,
      "outputs": [
        {
          "output_type": "execute_result",
          "data": {
            "text/html": [
              "<div>\n",
              "<style scoped>\n",
              "    .dataframe tbody tr th:only-of-type {\n",
              "        vertical-align: middle;\n",
              "    }\n",
              "\n",
              "    .dataframe tbody tr th {\n",
              "        vertical-align: top;\n",
              "    }\n",
              "\n",
              "    .dataframe thead th {\n",
              "        text-align: right;\n",
              "    }\n",
              "</style>\n",
              "<table border=\"1\" class=\"dataframe\">\n",
              "  <thead>\n",
              "    <tr style=\"text-align: right;\">\n",
              "      <th></th>\n",
              "      <th>removed</th>\n",
              "      <th>observed</th>\n",
              "      <th>censored</th>\n",
              "      <th>entrance</th>\n",
              "      <th>at_risk</th>\n",
              "    </tr>\n",
              "    <tr>\n",
              "      <th>event_at</th>\n",
              "      <th></th>\n",
              "      <th></th>\n",
              "      <th></th>\n",
              "      <th></th>\n",
              "      <th></th>\n",
              "    </tr>\n",
              "  </thead>\n",
              "  <tbody>\n",
              "    <tr>\n",
              "      <th>0.0</th>\n",
              "      <td>0</td>\n",
              "      <td>0</td>\n",
              "      <td>0</td>\n",
              "      <td>167</td>\n",
              "      <td>167</td>\n",
              "    </tr>\n",
              "    <tr>\n",
              "      <th>5.0</th>\n",
              "      <td>1</td>\n",
              "      <td>1</td>\n",
              "      <td>0</td>\n",
              "      <td>0</td>\n",
              "      <td>167</td>\n",
              "    </tr>\n",
              "    <tr>\n",
              "      <th>11.0</th>\n",
              "      <td>1</td>\n",
              "      <td>1</td>\n",
              "      <td>0</td>\n",
              "      <td>0</td>\n",
              "      <td>166</td>\n",
              "    </tr>\n",
              "    <tr>\n",
              "      <th>12.0</th>\n",
              "      <td>1</td>\n",
              "      <td>1</td>\n",
              "      <td>0</td>\n",
              "      <td>0</td>\n",
              "      <td>165</td>\n",
              "    </tr>\n",
              "    <tr>\n",
              "      <th>13.0</th>\n",
              "      <td>1</td>\n",
              "      <td>1</td>\n",
              "      <td>0</td>\n",
              "      <td>0</td>\n",
              "      <td>164</td>\n",
              "    </tr>\n",
              "    <tr>\n",
              "      <th>...</th>\n",
              "      <td>...</td>\n",
              "      <td>...</td>\n",
              "      <td>...</td>\n",
              "      <td>...</td>\n",
              "      <td>...</td>\n",
              "    </tr>\n",
              "    <tr>\n",
              "      <th>814.0</th>\n",
              "      <td>1</td>\n",
              "      <td>1</td>\n",
              "      <td>0</td>\n",
              "      <td>0</td>\n",
              "      <td>5</td>\n",
              "    </tr>\n",
              "    <tr>\n",
              "      <th>821.0</th>\n",
              "      <td>1</td>\n",
              "      <td>0</td>\n",
              "      <td>1</td>\n",
              "      <td>0</td>\n",
              "      <td>4</td>\n",
              "    </tr>\n",
              "    <tr>\n",
              "      <th>840.0</th>\n",
              "      <td>1</td>\n",
              "      <td>0</td>\n",
              "      <td>1</td>\n",
              "      <td>0</td>\n",
              "      <td>3</td>\n",
              "    </tr>\n",
              "    <tr>\n",
              "      <th>965.0</th>\n",
              "      <td>1</td>\n",
              "      <td>0</td>\n",
              "      <td>1</td>\n",
              "      <td>0</td>\n",
              "      <td>2</td>\n",
              "    </tr>\n",
              "    <tr>\n",
              "      <th>1022.0</th>\n",
              "      <td>1</td>\n",
              "      <td>0</td>\n",
              "      <td>1</td>\n",
              "      <td>0</td>\n",
              "      <td>1</td>\n",
              "    </tr>\n",
              "  </tbody>\n",
              "</table>\n",
              "<p>150 rows × 5 columns</p>\n",
              "</div>"
            ],
            "text/plain": [
              "          removed  observed  censored  entrance  at_risk\n",
              "event_at                                                \n",
              "0.0             0         0         0       167      167\n",
              "5.0             1         1         0         0      167\n",
              "11.0            1         1         0         0      166\n",
              "12.0            1         1         0         0      165\n",
              "13.0            1         1         0         0      164\n",
              "...           ...       ...       ...       ...      ...\n",
              "814.0           1         1         0         0        5\n",
              "821.0           1         0         1         0        4\n",
              "840.0           1         0         1         0        3\n",
              "965.0           1         0         1         0        2\n",
              "1022.0          1         0         1         0        1\n",
              "\n",
              "[150 rows x 5 columns]"
            ]
          },
          "metadata": {
            "tags": []
          },
          "execution_count": 87
        }
      ]
    },
    {
      "cell_type": "code",
      "metadata": {
        "id": "y_BK2IiyEoB1"
      },
      "source": [
        "#Get required columns from the data:\n",
        "\n",
        "data = data[[ 'time', 'age', 'sex', 'ph.ecog','ph.karno',\n",
        "             'pat.karno', 'meal.cal', 'wt.loss', 'dead']]"
      ],
      "execution_count": null,
      "outputs": []
    },
    {
      "cell_type": "code",
      "metadata": {
        "id": "hbxL2cLoEpYd",
        "colab": {
          "base_uri": "https://localhost:8080/",
          "height": 649
        },
        "outputId": "6af6fe31-1254-4328-a8e7-c5f41a8ce5cc"
      },
      "source": [
        "#Get the summary using CoxPHFitter:\n",
        "\n",
        "cph = CoxPHFitter()\n",
        "cph.fit(data,\"time\",event_col=\"dead\")\n",
        "cph.print_summary()"
      ],
      "execution_count": null,
      "outputs": [
        {
          "output_type": "display_data",
          "data": {
            "text/latex": "\\begin{tabular}{lrrrrrrrrrr}\n\\toprule\n{} &  coef &  exp(coef) &  se(coef) &  coef lower 95\\% &  coef upper 95\\% &  exp(coef) lower 95\\% &  exp(coef) upper 95\\% &     z &    p &  -log2(p) \\\\\ncovariate &       &            &           &                 &                 &                      &                      &       &      &           \\\\\n\\midrule\nage       &  0.01 &       1.01 &      0.01 &           -0.01 &            0.03 &                 0.99 &                 1.03 &  0.93 & 0.35 &      1.51 \\\\\nsex       & -0.55 &       0.57 &      0.20 &           -0.95 &           -0.16 &                 0.39 &                 0.85 & -2.75 & 0.01 &      7.37 \\\\\nph.ecog   &  0.74 &       2.09 &      0.22 &            0.30 &            1.18 &                 1.35 &                 3.26 &  3.29 & 0.00 &      9.95 \\\\\nph.karno  &  0.02 &       1.02 &      0.01 &            0.00 &            0.04 &                 1.00 &                 1.05 &  2.00 & 0.05 &      4.45 \\\\\npat.karno & -0.01 &       0.99 &      0.01 &           -0.03 &            0.00 &                 0.97 &                 1.00 & -1.49 & 0.14 &      2.87 \\\\\nmeal.cal  &  0.00 &       1.00 &      0.00 &           -0.00 &            0.00 &                 1.00 &                 1.00 &  0.11 & 0.91 &      0.13 \\\\\nwt.loss   & -0.01 &       0.99 &      0.01 &           -0.03 &            0.00 &                 0.97 &                 1.00 & -1.83 & 0.07 &      3.89 \\\\\n\\bottomrule\n\\end{tabular}\n",
            "text/html": [
              "<div>\n",
              "<style scoped>\n",
              "    .dataframe tbody tr th:only-of-type {\n",
              "        vertical-align: middle;\n",
              "    }\n",
              "\n",
              "    .dataframe tbody tr th {\n",
              "        vertical-align: top;\n",
              "    }\n",
              "\n",
              "    .dataframe thead th {\n",
              "        text-align: right;\n",
              "    }\n",
              "</style>\n",
              "<table border=\"1\" class=\"dataframe\">\n",
              "  <tbody>\n",
              "    <tr>\n",
              "      <th>model</th>\n",
              "      <td>lifelines.CoxPHFitter</td>\n",
              "    </tr>\n",
              "    <tr>\n",
              "      <th>duration col</th>\n",
              "      <td>'time'</td>\n",
              "    </tr>\n",
              "    <tr>\n",
              "      <th>event col</th>\n",
              "      <td>'dead'</td>\n",
              "    </tr>\n",
              "    <tr>\n",
              "      <th>baseline estimation</th>\n",
              "      <td>breslow</td>\n",
              "    </tr>\n",
              "    <tr>\n",
              "      <th>number of observations</th>\n",
              "      <td>167</td>\n",
              "    </tr>\n",
              "    <tr>\n",
              "      <th>number of events observed</th>\n",
              "      <td>120</td>\n",
              "    </tr>\n",
              "    <tr>\n",
              "      <th>partial log-likelihood</th>\n",
              "      <td>-494.03</td>\n",
              "    </tr>\n",
              "    <tr>\n",
              "      <th>time fit was run</th>\n",
              "      <td>2020-09-11 21:29:24 UTC</td>\n",
              "    </tr>\n",
              "  </tbody>\n",
              "</table>\n",
              "</div><table border=\"1\" class=\"dataframe\">\n",
              "  <thead>\n",
              "    <tr style=\"text-align: right;\">\n",
              "      <th style=\"min-width: 12px;\"></th>\n",
              "      <th style=\"min-width: 12px;\">coef</th>\n",
              "      <th style=\"min-width: 12px;\">exp(coef)</th>\n",
              "      <th style=\"min-width: 12px;\">se(coef)</th>\n",
              "      <th style=\"min-width: 12px;\">coef lower 95%</th>\n",
              "      <th style=\"min-width: 12px;\">coef upper 95%</th>\n",
              "      <th style=\"min-width: 12px;\">exp(coef) lower 95%</th>\n",
              "      <th style=\"min-width: 12px;\">exp(coef) upper 95%</th>\n",
              "      <th style=\"min-width: 12px;\">z</th>\n",
              "      <th style=\"min-width: 12px;\">p</th>\n",
              "      <th style=\"min-width: 12px;\">-log2(p)</th>\n",
              "    </tr>\n",
              "  </thead>\n",
              "  <tbody>\n",
              "    <tr>\n",
              "      <th>age</th>\n",
              "      <td>0.01</td>\n",
              "      <td>1.01</td>\n",
              "      <td>0.01</td>\n",
              "      <td>-0.01</td>\n",
              "      <td>0.03</td>\n",
              "      <td>0.99</td>\n",
              "      <td>1.03</td>\n",
              "      <td>0.93</td>\n",
              "      <td>0.35</td>\n",
              "      <td>1.51</td>\n",
              "    </tr>\n",
              "    <tr>\n",
              "      <th>sex</th>\n",
              "      <td>-0.55</td>\n",
              "      <td>0.57</td>\n",
              "      <td>0.20</td>\n",
              "      <td>-0.95</td>\n",
              "      <td>-0.16</td>\n",
              "      <td>0.39</td>\n",
              "      <td>0.85</td>\n",
              "      <td>-2.75</td>\n",
              "      <td>0.01</td>\n",
              "      <td>7.37</td>\n",
              "    </tr>\n",
              "    <tr>\n",
              "      <th>ph.ecog</th>\n",
              "      <td>0.74</td>\n",
              "      <td>2.09</td>\n",
              "      <td>0.22</td>\n",
              "      <td>0.30</td>\n",
              "      <td>1.18</td>\n",
              "      <td>1.35</td>\n",
              "      <td>3.26</td>\n",
              "      <td>3.29</td>\n",
              "      <td>&lt;0.005</td>\n",
              "      <td>9.95</td>\n",
              "    </tr>\n",
              "    <tr>\n",
              "      <th>ph.karno</th>\n",
              "      <td>0.02</td>\n",
              "      <td>1.02</td>\n",
              "      <td>0.01</td>\n",
              "      <td>0.00</td>\n",
              "      <td>0.04</td>\n",
              "      <td>1.00</td>\n",
              "      <td>1.05</td>\n",
              "      <td>2.00</td>\n",
              "      <td>0.05</td>\n",
              "      <td>4.45</td>\n",
              "    </tr>\n",
              "    <tr>\n",
              "      <th>pat.karno</th>\n",
              "      <td>-0.01</td>\n",
              "      <td>0.99</td>\n",
              "      <td>0.01</td>\n",
              "      <td>-0.03</td>\n",
              "      <td>0.00</td>\n",
              "      <td>0.97</td>\n",
              "      <td>1.00</td>\n",
              "      <td>-1.49</td>\n",
              "      <td>0.14</td>\n",
              "      <td>2.87</td>\n",
              "    </tr>\n",
              "    <tr>\n",
              "      <th>meal.cal</th>\n",
              "      <td>0.00</td>\n",
              "      <td>1.00</td>\n",
              "      <td>0.00</td>\n",
              "      <td>-0.00</td>\n",
              "      <td>0.00</td>\n",
              "      <td>1.00</td>\n",
              "      <td>1.00</td>\n",
              "      <td>0.11</td>\n",
              "      <td>0.91</td>\n",
              "      <td>0.13</td>\n",
              "    </tr>\n",
              "    <tr>\n",
              "      <th>wt.loss</th>\n",
              "      <td>-0.01</td>\n",
              "      <td>0.99</td>\n",
              "      <td>0.01</td>\n",
              "      <td>-0.03</td>\n",
              "      <td>0.00</td>\n",
              "      <td>0.97</td>\n",
              "      <td>1.00</td>\n",
              "      <td>-1.83</td>\n",
              "      <td>0.07</td>\n",
              "      <td>3.89</td>\n",
              "    </tr>\n",
              "  </tbody>\n",
              "</table><br><div>\n",
              "<style scoped>\n",
              "    .dataframe tbody tr th:only-of-type {\n",
              "        vertical-align: middle;\n",
              "    }\n",
              "\n",
              "    .dataframe tbody tr th {\n",
              "        vertical-align: top;\n",
              "    }\n",
              "\n",
              "    .dataframe thead th {\n",
              "        text-align: right;\n",
              "    }\n",
              "</style>\n",
              "<table border=\"1\" class=\"dataframe\">\n",
              "  <tbody>\n",
              "    <tr>\n",
              "      <th>Concordance</th>\n",
              "      <td>0.65</td>\n",
              "    </tr>\n",
              "    <tr>\n",
              "      <th>Partial AIC</th>\n",
              "      <td>1002.07</td>\n",
              "    </tr>\n",
              "    <tr>\n",
              "      <th>log-likelihood ratio test</th>\n",
              "      <td>28.16 on 7 df</td>\n",
              "    </tr>\n",
              "    <tr>\n",
              "      <th>-log2(p) of ll-ratio test</th>\n",
              "      <td>12.25</td>\n",
              "    </tr>\n",
              "  </tbody>\n",
              "</table>\n",
              "</div>"
            ],
            "text/plain": [
              "<lifelines.CoxPHFitter: fitted with 167 total observations, 47 right-censored observations>\n",
              "             duration col = 'time'\n",
              "                event col = 'dead'\n",
              "      baseline estimation = breslow\n",
              "   number of observations = 167\n",
              "number of events observed = 120\n",
              "   partial log-likelihood = -494.03\n",
              "         time fit was run = 2020-09-11 21:29:24 UTC\n",
              "\n",
              "---\n",
              "            coef  exp(coef)   se(coef)   coef lower 95%   coef upper 95%  exp(coef) lower 95%  exp(coef) upper 95%\n",
              "covariate                                                                                                         \n",
              "age         0.01       1.01       0.01            -0.01             0.03                 0.99                 1.03\n",
              "sex        -0.55       0.57       0.20            -0.95            -0.16                 0.39                 0.85\n",
              "ph.ecog     0.74       2.09       0.22             0.30             1.18                 1.35                 3.26\n",
              "ph.karno    0.02       1.02       0.01             0.00             0.04                 1.00                 1.05\n",
              "pat.karno  -0.01       0.99       0.01            -0.03             0.00                 0.97                 1.00\n",
              "meal.cal    0.00       1.00       0.00            -0.00             0.00                 1.00                 1.00\n",
              "wt.loss    -0.01       0.99       0.01            -0.03             0.00                 0.97                 1.00\n",
              "\n",
              "              z      p   -log2(p)\n",
              "covariate                        \n",
              "age        0.93   0.35       1.51\n",
              "sex       -2.75   0.01       7.37\n",
              "ph.ecog    3.29 <0.005       9.95\n",
              "ph.karno   2.00   0.05       4.45\n",
              "pat.karno -1.49   0.14       2.87\n",
              "meal.cal   0.11   0.91       0.13\n",
              "wt.loss   -1.83   0.07       3.89\n",
              "---\n",
              "Concordance = 0.65\n",
              "Partial AIC = 1002.07\n",
              "log-likelihood ratio test = 28.16 on 7 df\n",
              "-log2(p) of ll-ratio test = 12.25"
            ]
          },
          "metadata": {
            "tags": []
          }
        }
      ]
    },
    {
      "cell_type": "code",
      "metadata": {
        "id": "Xjy29txpEqtM",
        "colab": {
          "base_uri": "https://localhost:8080/",
          "height": 297
        },
        "outputId": "eb5b2a43-feee-483b-b456-1c9e97b29576"
      },
      "source": [
        "#Plot the result on graph:\n",
        "\n",
        "cph.plot()"
      ],
      "execution_count": null,
      "outputs": [
        {
          "output_type": "execute_result",
          "data": {
            "text/plain": [
              "<matplotlib.axes._subplots.AxesSubplot at 0x7f2f20c49e10>"
            ]
          },
          "metadata": {
            "tags": []
          },
          "execution_count": 90
        },
        {
          "output_type": "display_data",
          "data": {
            "image/png": "[encoded data removed]",
            "text/plain": [
              "<Figure size 432x288 with 1 Axes>"
            ]
          },
          "metadata": {
            "tags": [],
            "needs_background": "light"
          }
        }
      ]
    },
    {
      "cell_type": "code",
      "metadata": {
        "id": "5QB3_Aa7Er_Y",
        "colab": {
          "base_uri": "https://localhost:8080/",
          "height": 202
        },
        "outputId": "ae4e5193-f3d4-40df-8f65-9fee1fa841e5"
      },
      "source": [
        "data.iloc[10:15,:]"
      ],
      "execution_count": null,
      "outputs": [
        {
          "output_type": "execute_result",
          "data": {
            "text/html": [
              "<div>\n",
              "<style scoped>\n",
              "    .dataframe tbody tr th:only-of-type {\n",
              "        vertical-align: middle;\n",
              "    }\n",
              "\n",
              "    .dataframe tbody tr th {\n",
              "        vertical-align: top;\n",
              "    }\n",
              "\n",
              "    .dataframe thead th {\n",
              "        text-align: right;\n",
              "    }\n",
              "</style>\n",
              "<table border=\"1\" class=\"dataframe\">\n",
              "  <thead>\n",
              "    <tr style=\"text-align: right;\">\n",
              "      <th></th>\n",
              "      <th>time</th>\n",
              "      <th>age</th>\n",
              "      <th>sex</th>\n",
              "      <th>ph.ecog</th>\n",
              "      <th>ph.karno</th>\n",
              "      <th>pat.karno</th>\n",
              "      <th>meal.cal</th>\n",
              "      <th>wt.loss</th>\n",
              "      <th>dead</th>\n",
              "    </tr>\n",
              "  </thead>\n",
              "  <tbody>\n",
              "    <tr>\n",
              "      <th>17</th>\n",
              "      <td>707</td>\n",
              "      <td>63</td>\n",
              "      <td>1</td>\n",
              "      <td>2.0</td>\n",
              "      <td>50.0</td>\n",
              "      <td>70.0</td>\n",
              "      <td>1025.0</td>\n",
              "      <td>22.0</td>\n",
              "      <td>1.0</td>\n",
              "    </tr>\n",
              "    <tr>\n",
              "      <th>18</th>\n",
              "      <td>61</td>\n",
              "      <td>56</td>\n",
              "      <td>2</td>\n",
              "      <td>2.0</td>\n",
              "      <td>60.0</td>\n",
              "      <td>60.0</td>\n",
              "      <td>238.0</td>\n",
              "      <td>10.0</td>\n",
              "      <td>1.0</td>\n",
              "    </tr>\n",
              "    <tr>\n",
              "      <th>20</th>\n",
              "      <td>301</td>\n",
              "      <td>67</td>\n",
              "      <td>1</td>\n",
              "      <td>1.0</td>\n",
              "      <td>80.0</td>\n",
              "      <td>80.0</td>\n",
              "      <td>1025.0</td>\n",
              "      <td>17.0</td>\n",
              "      <td>1.0</td>\n",
              "    </tr>\n",
              "    <tr>\n",
              "      <th>21</th>\n",
              "      <td>81</td>\n",
              "      <td>49</td>\n",
              "      <td>2</td>\n",
              "      <td>0.0</td>\n",
              "      <td>100.0</td>\n",
              "      <td>70.0</td>\n",
              "      <td>1175.0</td>\n",
              "      <td>-8.0</td>\n",
              "      <td>1.0</td>\n",
              "    </tr>\n",
              "    <tr>\n",
              "      <th>23</th>\n",
              "      <td>371</td>\n",
              "      <td>58</td>\n",
              "      <td>1</td>\n",
              "      <td>0.0</td>\n",
              "      <td>90.0</td>\n",
              "      <td>100.0</td>\n",
              "      <td>975.0</td>\n",
              "      <td>13.0</td>\n",
              "      <td>1.0</td>\n",
              "    </tr>\n",
              "  </tbody>\n",
              "</table>\n",
              "</div>"
            ],
            "text/plain": [
              "    time  age  sex  ph.ecog  ph.karno  pat.karno  meal.cal  wt.loss  dead\n",
              "17   707   63    1      2.0      50.0       70.0    1025.0     22.0   1.0\n",
              "18    61   56    2      2.0      60.0       60.0     238.0     10.0   1.0\n",
              "20   301   67    1      1.0      80.0       80.0    1025.0     17.0   1.0\n",
              "21    81   49    2      0.0     100.0       70.0    1175.0     -8.0   1.0\n",
              "23   371   58    1      0.0      90.0      100.0     975.0     13.0   1.0"
            ]
          },
          "metadata": {
            "tags": []
          },
          "execution_count": 91
        }
      ]
    },
    {
      "cell_type": "code",
      "metadata": {
        "id": "hPrhvuevEtBB",
        "colab": {
          "base_uri": "https://localhost:8080/",
          "height": 283
        },
        "outputId": "de98fdb6-843a-475f-a280-579042b47bea"
      },
      "source": [
        "#Plotting the data:\n",
        "\n",
        "d_data = data.iloc[10:15,:]\n",
        "cph.predict_survival_function(d_data).plot()"
      ],
      "execution_count": null,
      "outputs": [
        {
          "output_type": "execute_result",
          "data": {
            "text/plain": [
              "<matplotlib.axes._subplots.AxesSubplot at 0x7f2f205c5898>"
            ]
          },
          "metadata": {
            "tags": []
          },
          "execution_count": 92
        },
        {
          "output_type": "display_data",
          "data": {
            "image/png": "[encoded data removed]",
            "text/plain": [
              "<Figure size 432x288 with 1 Axes>"
            ]
          },
          "metadata": {
            "tags": [],
            "needs_background": "light"
          }
        }
      ]
    }
  ]
}