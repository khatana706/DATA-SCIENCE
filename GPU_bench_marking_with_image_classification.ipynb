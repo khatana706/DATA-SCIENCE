{
  "cells": [
    {
      "cell_type": "markdown",
      "metadata": {
        "id": "view-in-github",
        "colab_type": "text"
      },
      "source": [
        "<a href=\"https://colab.research.google.com/github/khatana706/DATA-SCIENCE/blob/main/GPU_bench_marking_with_image_classification.ipynb\" target=\"_parent\"><img src=\"https://colab.research.google.com/assets/colab-badge.svg\" alt=\"Open In Colab\"/></a>"
      ]
    },
    {
      "cell_type": "code",
      "execution_count": 1,
      "metadata": {
        "id": "THR0icILp4he"
      },
      "outputs": [],
      "source": [
        "import numpy as np\n",
        "import matplotlib.pyplot as plt\n",
        "import tensorflow as tf\n",
        "from tensorflow import keras"
      ]
    },
    {
      "cell_type": "code",
      "execution_count": 2,
      "metadata": {
        "colab": {
          "base_uri": "https://localhost:8080/"
        },
        "id": "oSB034Kerhzh",
        "outputId": "f11b3384-4f43-4bed-b90b-02623810473d"
      },
      "outputs": [
        {
          "output_type": "execute_result",
          "data": {
            "text/plain": [
              "[PhysicalDevice(name='/physical_device:CPU:0', device_type='CPU'),\n",
              " PhysicalDevice(name='/physical_device:GPU:0', device_type='GPU')]"
            ]
          },
          "metadata": {},
          "execution_count": 2
        }
      ],
      "source": [
        "tf.config.experimental.list_physical_devices()"
      ]
    },
    {
      "cell_type": "code",
      "source": [
        "physical_devices = tf.config.experimental.list_physical_devices('GPU')"
      ],
      "metadata": {
        "id": "2jqEtI2PWBS9"
      },
      "execution_count": 3,
      "outputs": []
    },
    {
      "cell_type": "code",
      "source": [
        "#tf.config.experimental.set_memory_growth(physical_devices['0'], True)"
      ],
      "metadata": {
        "id": "FHvu5VFfWIOM"
      },
      "execution_count": 4,
      "outputs": []
    },
    {
      "cell_type": "code",
      "execution_count": 5,
      "metadata": {
        "colab": {
          "base_uri": "https://localhost:8080/"
        },
        "id": "qNVOC5uwrhvU",
        "outputId": "17b33f25-7a39-45b0-adff-6b1fddb72ae4"
      },
      "outputs": [
        {
          "output_type": "execute_result",
          "data": {
            "text/plain": [
              "True"
            ]
          },
          "metadata": {},
          "execution_count": 5
        }
      ],
      "source": [
        "tf.test.is_built_with_cuda()"
      ]
    },
    {
      "cell_type": "code",
      "execution_count": 6,
      "metadata": {
        "colab": {
          "base_uri": "https://localhost:8080/"
        },
        "id": "UbLm2Xenrhrv",
        "outputId": "a6ce5e46-0b63-4ae9-a275-43a2e0b1183a"
      },
      "outputs": [
        {
          "output_type": "stream",
          "name": "stdout",
          "text": [
            "Downloading data from https://www.cs.toronto.edu/~kriz/cifar-10-python.tar.gz\n",
            "170500096/170498071 [==============================] - 3s 0us/step\n",
            "170508288/170498071 [==============================] - 3s 0us/step\n"
          ]
        }
      ],
      "source": [
        "(x_train,y_train), (x_test,y_test) = tf.keras.datasets.cifar10.load_data()"
      ]
    },
    {
      "cell_type": "code",
      "execution_count": 7,
      "metadata": {
        "colab": {
          "base_uri": "https://localhost:8080/"
        },
        "id": "R8uYMgYftBCa",
        "outputId": "62e6b656-17ad-4888-d37d-d90f4520b9bf"
      },
      "outputs": [
        {
          "output_type": "execute_result",
          "data": {
            "text/plain": [
              "(50000, 32, 32, 3)"
            ]
          },
          "metadata": {},
          "execution_count": 7
        }
      ],
      "source": [
        "x_train.shape"
      ]
    },
    {
      "cell_type": "code",
      "execution_count": 8,
      "metadata": {
        "colab": {
          "base_uri": "https://localhost:8080/"
        },
        "id": "xNAJTYoJtEnt",
        "outputId": "f38ef7e4-fd94-4afd-f848-8674f3aeae37"
      },
      "outputs": [
        {
          "output_type": "execute_result",
          "data": {
            "text/plain": [
              "array([[[ 59,  62,  63],\n",
              "        [ 43,  46,  45],\n",
              "        [ 50,  48,  43],\n",
              "        ...,\n",
              "        [158, 132, 108],\n",
              "        [152, 125, 102],\n",
              "        [148, 124, 103]],\n",
              "\n",
              "       [[ 16,  20,  20],\n",
              "        [  0,   0,   0],\n",
              "        [ 18,   8,   0],\n",
              "        ...,\n",
              "        [123,  88,  55],\n",
              "        [119,  83,  50],\n",
              "        [122,  87,  57]],\n",
              "\n",
              "       [[ 25,  24,  21],\n",
              "        [ 16,   7,   0],\n",
              "        [ 49,  27,   8],\n",
              "        ...,\n",
              "        [118,  84,  50],\n",
              "        [120,  84,  50],\n",
              "        [109,  73,  42]],\n",
              "\n",
              "       ...,\n",
              "\n",
              "       [[208, 170,  96],\n",
              "        [201, 153,  34],\n",
              "        [198, 161,  26],\n",
              "        ...,\n",
              "        [160, 133,  70],\n",
              "        [ 56,  31,   7],\n",
              "        [ 53,  34,  20]],\n",
              "\n",
              "       [[180, 139,  96],\n",
              "        [173, 123,  42],\n",
              "        [186, 144,  30],\n",
              "        ...,\n",
              "        [184, 148,  94],\n",
              "        [ 97,  62,  34],\n",
              "        [ 83,  53,  34]],\n",
              "\n",
              "       [[177, 144, 116],\n",
              "        [168, 129,  94],\n",
              "        [179, 142,  87],\n",
              "        ...,\n",
              "        [216, 184, 140],\n",
              "        [151, 118,  84],\n",
              "        [123,  92,  72]]], dtype=uint8)"
            ]
          },
          "metadata": {},
          "execution_count": 8
        }
      ],
      "source": [
        " x_train[0]"
      ]
    },
    {
      "cell_type": "code",
      "execution_count": 9,
      "metadata": {
        "colab": {
          "base_uri": "https://localhost:8080/"
        },
        "id": "XJ-GwXpZuGmF",
        "outputId": "4d797581-bb4d-44de-c496-0b89bd47ef36"
      },
      "outputs": [
        {
          "output_type": "execute_result",
          "data": {
            "text/plain": [
              "(50000, 1)"
            ]
          },
          "metadata": {},
          "execution_count": 9
        }
      ],
      "source": [
        "y_train.shape"
      ]
    },
    {
      "cell_type": "code",
      "execution_count": 10,
      "metadata": {
        "colab": {
          "base_uri": "https://localhost:8080/"
        },
        "id": "CW4JaJDjwDoS",
        "outputId": "835c3278-336a-44bb-a842-7635fd37b91b"
      },
      "outputs": [
        {
          "output_type": "execute_result",
          "data": {
            "text/plain": [
              "array([[6],\n",
              "       [9],\n",
              "       [9],\n",
              "       [4],\n",
              "       [1]], dtype=uint8)"
            ]
          },
          "metadata": {},
          "execution_count": 10
        }
      ],
      "source": [
        "y_train[:5]"
      ]
    },
    {
      "cell_type": "code",
      "execution_count": 11,
      "metadata": {
        "id": "VeTHAF9ewLCT"
      },
      "outputs": [],
      "source": [
        "def plot_sample(index):\n",
        "  plt.figure(figsize = (10,1))\n",
        "  plt.imshow(x_train[index])"
      ]
    },
    {
      "cell_type": "code",
      "source": [
        "plot_sample(0)"
      ],
      "metadata": {
        "colab": {
          "base_uri": "https://localhost:8080/",
          "height": 104
        },
        "id": "jFkzKjlFYrHN",
        "outputId": "abe1681f-cb8a-4fa7-88c6-740afa080b31"
      },
      "execution_count": 12,
      "outputs": [
        {
          "output_type": "display_data",
          "data": {
            "text/plain": [
              "<Figure size 720x72 with 1 Axes>"
            ],
            "image/png": "[encoded data removed]"
          },
          "metadata": {
            "needs_background": "light"
          }
        }
      ]
    },
    {
      "cell_type": "code",
      "source": [
        "plot_sample(1)"
      ],
      "metadata": {
        "colab": {
          "base_uri": "https://localhost:8080/",
          "height": 104
        },
        "id": "iqDPUvtaYrEw",
        "outputId": "e0d2d982-047f-4bf7-e5cc-1423cb5774a8"
      },
      "execution_count": 13,
      "outputs": [
        {
          "output_type": "display_data",
          "data": {
            "text/plain": [
              "<Figure size 720x72 with 1 Axes>"
            ],
            "image/png": "[encoded data removed]"
          },
          "metadata": {
            "needs_background": "light"
          }
        }
      ]
    },
    {
      "cell_type": "code",
      "source": [
        "plot_sample(2)"
      ],
      "metadata": {
        "colab": {
          "base_uri": "https://localhost:8080/",
          "height": 104
        },
        "id": "T-VzDof-YrCM",
        "outputId": "449aa7bb-290c-409d-f09e-f10a8197e981"
      },
      "execution_count": 14,
      "outputs": [
        {
          "output_type": "display_data",
          "data": {
            "text/plain": [
              "<Figure size 720x72 with 1 Axes>"
            ],
            "image/png": "[encoded data removed]"
          },
          "metadata": {
            "needs_background": "light"
          }
        }
      ]
    },
    {
      "cell_type": "code",
      "source": [
        "plot_sample(3)"
      ],
      "metadata": {
        "colab": {
          "base_uri": "https://localhost:8080/",
          "height": 104
        },
        "id": "1nduuJvQYq_2",
        "outputId": "e7953d8f-97e7-4ee1-87f2-6cb52906fd0a"
      },
      "execution_count": 15,
      "outputs": [
        {
          "output_type": "display_data",
          "data": {
            "text/plain": [
              "<Figure size 720x72 with 1 Axes>"
            ],
            "image/png": "[encoded data removed]"
          },
          "metadata": {
            "needs_background": "light"
          }
        }
      ]
    },
    {
      "cell_type": "code",
      "source": [
        "plot_sample(4)"
      ],
      "metadata": {
        "colab": {
          "base_uri": "https://localhost:8080/",
          "height": 104
        },
        "id": "7tSNEzUkYq9Q",
        "outputId": "c3fb0f10-76e5-4476-e0fe-7e7491027ca1"
      },
      "execution_count": 16,
      "outputs": [
        {
          "output_type": "display_data",
          "data": {
            "text/plain": [
              "<Figure size 720x72 with 1 Axes>"
            ],
            "image/png": "[encoded data removed]"
          },
          "metadata": {
            "needs_background": "light"
          }
        }
      ]
    },
    {
      "cell_type": "code",
      "source": [
        "classes = ['airplane','automobile','bird','cat','dear','dog','frog','horse','ship','truck']"
      ],
      "metadata": {
        "id": "_8Ye4SMYYq5d"
      },
      "execution_count": 17,
      "outputs": []
    },
    {
      "cell_type": "code",
      "source": [
        "plot_sample(3)"
      ],
      "metadata": {
        "colab": {
          "base_uri": "https://localhost:8080/",
          "height": 104
        },
        "id": "bW0x1r8AYq2P",
        "outputId": "03413c1e-c23d-4f1b-9d84-70cc79b1f0a9"
      },
      "execution_count": 18,
      "outputs": [
        {
          "output_type": "display_data",
          "data": {
            "text/plain": [
              "<Figure size 720x72 with 1 Axes>"
            ],
            "image/png": "[encoded data removed]"
          },
          "metadata": {
            "needs_background": "light"
          }
        }
      ]
    },
    {
      "cell_type": "code",
      "source": [
        "y_train[3]"
      ],
      "metadata": {
        "colab": {
          "base_uri": "https://localhost:8080/"
        },
        "id": "SW6BkppHYqy5",
        "outputId": "f6dc3ca4-c5ad-4849-a886-0ecccf2951b6"
      },
      "execution_count": 19,
      "outputs": [
        {
          "output_type": "execute_result",
          "data": {
            "text/plain": [
              "array([4], dtype=uint8)"
            ]
          },
          "metadata": {},
          "execution_count": 19
        }
      ]
    },
    {
      "cell_type": "code",
      "source": [
        "classes[y_train[3][0]]"
      ],
      "metadata": {
        "colab": {
          "base_uri": "https://localhost:8080/",
          "height": 36
        },
        "id": "Y3sX0y9FYqw4",
        "outputId": "068ce5e4-e637-4cca-ab64-c50accb8527d"
      },
      "execution_count": 20,
      "outputs": [
        {
          "output_type": "execute_result",
          "data": {
            "text/plain": [
              "'dear'"
            ],
            "application/vnd.google.colaboratory.intrinsic+json": {
              "type": "string"
            }
          },
          "metadata": {},
          "execution_count": 20
        }
      ]
    },
    {
      "cell_type": "code",
      "source": [
        "x_train[0]/255"
      ],
      "metadata": {
        "colab": {
          "base_uri": "https://localhost:8080/"
        },
        "id": "WTlQRCc5gy00",
        "outputId": "0693da6a-a106-4d9d-81ea-a9de47b3cb98"
      },
      "execution_count": 21,
      "outputs": [
        {
          "output_type": "execute_result",
          "data": {
            "text/plain": [
              "array([[[0.23137255, 0.24313725, 0.24705882],\n",
              "        [0.16862745, 0.18039216, 0.17647059],\n",
              "        [0.19607843, 0.18823529, 0.16862745],\n",
              "        ...,\n",
              "        [0.61960784, 0.51764706, 0.42352941],\n",
              "        [0.59607843, 0.49019608, 0.4       ],\n",
              "        [0.58039216, 0.48627451, 0.40392157]],\n",
              "\n",
              "       [[0.0627451 , 0.07843137, 0.07843137],\n",
              "        [0.        , 0.        , 0.        ],\n",
              "        [0.07058824, 0.03137255, 0.        ],\n",
              "        ...,\n",
              "        [0.48235294, 0.34509804, 0.21568627],\n",
              "        [0.46666667, 0.3254902 , 0.19607843],\n",
              "        [0.47843137, 0.34117647, 0.22352941]],\n",
              "\n",
              "       [[0.09803922, 0.09411765, 0.08235294],\n",
              "        [0.0627451 , 0.02745098, 0.        ],\n",
              "        [0.19215686, 0.10588235, 0.03137255],\n",
              "        ...,\n",
              "        [0.4627451 , 0.32941176, 0.19607843],\n",
              "        [0.47058824, 0.32941176, 0.19607843],\n",
              "        [0.42745098, 0.28627451, 0.16470588]],\n",
              "\n",
              "       ...,\n",
              "\n",
              "       [[0.81568627, 0.66666667, 0.37647059],\n",
              "        [0.78823529, 0.6       , 0.13333333],\n",
              "        [0.77647059, 0.63137255, 0.10196078],\n",
              "        ...,\n",
              "        [0.62745098, 0.52156863, 0.2745098 ],\n",
              "        [0.21960784, 0.12156863, 0.02745098],\n",
              "        [0.20784314, 0.13333333, 0.07843137]],\n",
              "\n",
              "       [[0.70588235, 0.54509804, 0.37647059],\n",
              "        [0.67843137, 0.48235294, 0.16470588],\n",
              "        [0.72941176, 0.56470588, 0.11764706],\n",
              "        ...,\n",
              "        [0.72156863, 0.58039216, 0.36862745],\n",
              "        [0.38039216, 0.24313725, 0.13333333],\n",
              "        [0.3254902 , 0.20784314, 0.13333333]],\n",
              "\n",
              "       [[0.69411765, 0.56470588, 0.45490196],\n",
              "        [0.65882353, 0.50588235, 0.36862745],\n",
              "        [0.70196078, 0.55686275, 0.34117647],\n",
              "        ...,\n",
              "        [0.84705882, 0.72156863, 0.54901961],\n",
              "        [0.59215686, 0.4627451 , 0.32941176],\n",
              "        [0.48235294, 0.36078431, 0.28235294]]])"
            ]
          },
          "metadata": {},
          "execution_count": 21
        }
      ]
    },
    {
      "cell_type": "code",
      "source": [
        "x_train_scaled = x_train/255\n",
        "x_test_scaled = x_test/255"
      ],
      "metadata": {
        "id": "MDsoVEITg7Y_"
      },
      "execution_count": 22,
      "outputs": []
    },
    {
      "cell_type": "code",
      "source": [
        "x_train_scaled.shape"
      ],
      "metadata": {
        "colab": {
          "base_uri": "https://localhost:8080/"
        },
        "id": "yZNZo3W2g7Vv",
        "outputId": "b055b995-bd84-45ac-d5cd-31218445b6ae"
      },
      "execution_count": 23,
      "outputs": [
        {
          "output_type": "execute_result",
          "data": {
            "text/plain": [
              "(50000, 32, 32, 3)"
            ]
          },
          "metadata": {},
          "execution_count": 23
        }
      ]
    },
    {
      "cell_type": "code",
      "source": [
        "x_test_scaled.shape"
      ],
      "metadata": {
        "colab": {
          "base_uri": "https://localhost:8080/"
        },
        "id": "JhR0yDjyg7SO",
        "outputId": "e2037e12-9bb3-4a72-ba0e-238a7ea330e5"
      },
      "execution_count": 24,
      "outputs": [
        {
          "output_type": "execute_result",
          "data": {
            "text/plain": [
              "(10000, 32, 32, 3)"
            ]
          },
          "metadata": {},
          "execution_count": 24
        }
      ]
    },
    {
      "cell_type": "code",
      "source": [
        "y_train[:5]"
      ],
      "metadata": {
        "colab": {
          "base_uri": "https://localhost:8080/"
        },
        "id": "JNF403tgg7N5",
        "outputId": "311827a6-dc6c-42f1-ee43-67ff11debe17"
      },
      "execution_count": 25,
      "outputs": [
        {
          "output_type": "execute_result",
          "data": {
            "text/plain": [
              "array([[6],\n",
              "       [9],\n",
              "       [9],\n",
              "       [4],\n",
              "       [1]], dtype=uint8)"
            ]
          },
          "metadata": {},
          "execution_count": 25
        }
      ]
    },
    {
      "cell_type": "code",
      "source": [
        "y_train_categorical = keras.utils.to_categorical(\n",
        "y_train, num_classes=10, dtype = 'float32')\n",
        "y_train_categorical[:5]"
      ],
      "metadata": {
        "colab": {
          "base_uri": "https://localhost:8080/"
        },
        "id": "mVH_i0GFhGqb",
        "outputId": "ff3a7987-fe3b-4bfc-f9f1-3a817435fcb5"
      },
      "execution_count": 26,
      "outputs": [
        {
          "output_type": "execute_result",
          "data": {
            "text/plain": [
              "array([[0., 0., 0., 0., 0., 0., 1., 0., 0., 0.],\n",
              "       [0., 0., 0., 0., 0., 0., 0., 0., 0., 1.],\n",
              "       [0., 0., 0., 0., 0., 0., 0., 0., 0., 1.],\n",
              "       [0., 0., 0., 0., 1., 0., 0., 0., 0., 0.],\n",
              "       [0., 1., 0., 0., 0., 0., 0., 0., 0., 0.]], dtype=float32)"
            ]
          },
          "metadata": {},
          "execution_count": 26
        }
      ]
    },
    {
      "cell_type": "code",
      "source": [
        "y_train_categorical"
      ],
      "metadata": {
        "colab": {
          "base_uri": "https://localhost:8080/"
        },
        "id": "0UBaLa13022b",
        "outputId": "2cfb4b57-71c3-4ecb-94e7-452c7969d35f"
      },
      "execution_count": 27,
      "outputs": [
        {
          "output_type": "execute_result",
          "data": {
            "text/plain": [
              "array([[0., 0., 0., ..., 0., 0., 0.],\n",
              "       [0., 0., 0., ..., 0., 0., 1.],\n",
              "       [0., 0., 0., ..., 0., 0., 1.],\n",
              "       ...,\n",
              "       [0., 0., 0., ..., 0., 0., 1.],\n",
              "       [0., 1., 0., ..., 0., 0., 0.],\n",
              "       [0., 1., 0., ..., 0., 0., 0.]], dtype=float32)"
            ]
          },
          "metadata": {},
          "execution_count": 27
        }
      ]
    },
    {
      "cell_type": "code",
      "source": [
        "y_test_categorical = keras.utils.to_categorical(\n",
        "y_test, num_classes=10, dtype = 'float32')\n",
        "y_test_categorical[:5]"
      ],
      "metadata": {
        "id": "JUBXq0SPhGkg",
        "colab": {
          "base_uri": "https://localhost:8080/"
        },
        "outputId": "8c800a57-eda9-49cb-be8b-f11f2567cd01"
      },
      "execution_count": 28,
      "outputs": [
        {
          "output_type": "execute_result",
          "data": {
            "text/plain": [
              "array([[0., 0., 0., 1., 0., 0., 0., 0., 0., 0.],\n",
              "       [0., 0., 0., 0., 0., 0., 0., 0., 1., 0.],\n",
              "       [0., 0., 0., 0., 0., 0., 0., 0., 1., 0.],\n",
              "       [1., 0., 0., 0., 0., 0., 0., 0., 0., 0.],\n",
              "       [0., 0., 0., 0., 0., 0., 1., 0., 0., 0.]], dtype=float32)"
            ]
          },
          "metadata": {},
          "execution_count": 28
        }
      ]
    },
    {
      "cell_type": "code",
      "source": [
        "32*32*3"
      ],
      "metadata": {
        "colab": {
          "base_uri": "https://localhost:8080/"
        },
        "id": "VPZcZf77yuFh",
        "outputId": "04b45bae-d167-4351-ddb2-8541f93def5f"
      },
      "execution_count": 29,
      "outputs": [
        {
          "output_type": "execute_result",
          "data": {
            "text/plain": [
              "3072"
            ]
          },
          "metadata": {},
          "execution_count": 29
        }
      ]
    },
    {
      "cell_type": "code",
      "source": [
        "model = keras.Sequential([\n",
        "                           keras.layers.Flatten(input_shape=(32,32,3)),\n",
        "                           keras.layers.Dense(3000, activation='relu'),\n",
        "                           keras.layers.Dense(1000, activation='relu'),\n",
        "                           keras.layers.Dense(10,  activation='sigmoid')\n",
        "])\n",
        "model.compile(\n",
        "    optimizer='SGD',\n",
        "    loss='categorical_crossentropy',\n",
        "    metrics=['accuracy'])"
      ],
      "metadata": {
        "id": "AnBXsUr0hGh7"
      },
      "execution_count": 30,
      "outputs": []
    },
    {
      "cell_type": "markdown",
      "source": [
        "#model compiler"
      ],
      "metadata": {
        "id": "BDYDNn4Yz1Fj"
      }
    },
    {
      "cell_type": "code",
      "source": [
        "model.compile(\n",
        "    optimizer='SGD',\n",
        "    loss='categorical_crossentropy',\n",
        "    metrics=['accuracy'])\n"
      ],
      "metadata": {
        "id": "GTVSzGSahGen"
      },
      "execution_count": 31,
      "outputs": []
    },
    {
      "cell_type": "code",
      "source": [
        "model.fit(x_train_scaled, y_train_categorical, epochs=50)"
      ],
      "metadata": {
        "id": "u3RcrC0cjfa7",
        "colab": {
          "base_uri": "https://localhost:8080/"
        },
        "outputId": "f70a250b-760b-4e12-a092-d94eb2df6b2b"
      },
      "execution_count": 32,
      "outputs": [
        {
          "output_type": "stream",
          "name": "stdout",
          "text": [
            "Epoch 1/50\n",
            "1563/1563 [==============================] - 11s 5ms/step - loss: 1.8092 - accuracy: 0.3555\n",
            "Epoch 2/50\n",
            "1563/1563 [==============================] - 6s 4ms/step - loss: 1.6239 - accuracy: 0.4276\n",
            "Epoch 3/50\n",
            "1563/1563 [==============================] - 6s 4ms/step - loss: 1.5393 - accuracy: 0.4572\n",
            "Epoch 4/50\n",
            "1563/1563 [==============================] - 5s 4ms/step - loss: 1.4796 - accuracy: 0.4759\n",
            "Epoch 5/50\n",
            "1563/1563 [==============================] - 8s 5ms/step - loss: 1.4295 - accuracy: 0.4968\n",
            "Epoch 6/50\n",
            "1563/1563 [==============================] - 6s 4ms/step - loss: 1.3861 - accuracy: 0.5112\n",
            "Epoch 7/50\n",
            "1563/1563 [==============================] - 6s 4ms/step - loss: 1.3467 - accuracy: 0.5268\n",
            "Epoch 8/50\n",
            "1563/1563 [==============================] - 6s 4ms/step - loss: 1.3125 - accuracy: 0.5390\n",
            "Epoch 9/50\n",
            "1563/1563 [==============================] - 6s 4ms/step - loss: 1.2817 - accuracy: 0.5467\n",
            "Epoch 10/50\n",
            "1563/1563 [==============================] - 5s 3ms/step - loss: 1.2481 - accuracy: 0.5604\n",
            "Epoch 11/50\n",
            "1563/1563 [==============================] - 6s 4ms/step - loss: 1.2210 - accuracy: 0.5721\n",
            "Epoch 12/50\n",
            "1563/1563 [==============================] - 7s 5ms/step - loss: 1.1909 - accuracy: 0.5829\n",
            "Epoch 13/50\n",
            "1563/1563 [==============================] - 8s 5ms/step - loss: 1.1652 - accuracy: 0.5929\n",
            "Epoch 14/50\n",
            "1563/1563 [==============================] - 6s 4ms/step - loss: 1.1361 - accuracy: 0.6026\n",
            "Epoch 15/50\n",
            "1563/1563 [==============================] - 5s 3ms/step - loss: 1.1084 - accuracy: 0.6134\n",
            "Epoch 16/50\n",
            "1563/1563 [==============================] - 5s 3ms/step - loss: 1.0846 - accuracy: 0.6217\n",
            "Epoch 17/50\n",
            "1563/1563 [==============================] - 6s 4ms/step - loss: 1.0552 - accuracy: 0.6329\n",
            "Epoch 18/50\n",
            "1563/1563 [==============================] - 6s 4ms/step - loss: 1.0325 - accuracy: 0.6407\n",
            "Epoch 19/50\n",
            "1563/1563 [==============================] - 6s 4ms/step - loss: 1.0078 - accuracy: 0.6483\n",
            "Epoch 20/50\n",
            "1563/1563 [==============================] - 6s 4ms/step - loss: 0.9789 - accuracy: 0.6581\n",
            "Epoch 21/50\n",
            "1563/1563 [==============================] - 5s 3ms/step - loss: 0.9532 - accuracy: 0.6688\n",
            "Epoch 22/50\n",
            "1563/1563 [==============================] - 5s 3ms/step - loss: 0.9276 - accuracy: 0.6764\n",
            "Epoch 23/50\n",
            "1563/1563 [==============================] - 6s 4ms/step - loss: 0.9016 - accuracy: 0.6901\n",
            "Epoch 24/50\n",
            "1563/1563 [==============================] - 7s 4ms/step - loss: 0.8777 - accuracy: 0.6965\n",
            "Epoch 25/50\n",
            "1563/1563 [==============================] - 6s 4ms/step - loss: 0.8539 - accuracy: 0.7042\n",
            "Epoch 26/50\n",
            "1563/1563 [==============================] - 6s 4ms/step - loss: 0.8298 - accuracy: 0.7142\n",
            "Epoch 27/50\n",
            "1563/1563 [==============================] - 6s 4ms/step - loss: 0.8031 - accuracy: 0.7243\n",
            "Epoch 28/50\n",
            "1563/1563 [==============================] - 7s 5ms/step - loss: 0.7783 - accuracy: 0.7318\n",
            "Epoch 29/50\n",
            "1563/1563 [==============================] - 7s 5ms/step - loss: 0.7522 - accuracy: 0.7419\n",
            "Epoch 30/50\n",
            "1563/1563 [==============================] - 7s 4ms/step - loss: 0.7256 - accuracy: 0.7541\n",
            "Epoch 31/50\n",
            "1563/1563 [==============================] - 6s 4ms/step - loss: 0.7053 - accuracy: 0.7590\n",
            "Epoch 32/50\n",
            "1563/1563 [==============================] - 6s 4ms/step - loss: 0.6803 - accuracy: 0.7703\n",
            "Epoch 33/50\n",
            "1563/1563 [==============================] - 5s 4ms/step - loss: 0.6512 - accuracy: 0.7794\n",
            "Epoch 34/50\n",
            "1563/1563 [==============================] - 6s 4ms/step - loss: 0.6319 - accuracy: 0.7859\n",
            "Epoch 35/50\n",
            "1563/1563 [==============================] - 6s 4ms/step - loss: 0.6072 - accuracy: 0.7969\n",
            "Epoch 36/50\n",
            "1563/1563 [==============================] - 6s 4ms/step - loss: 0.5834 - accuracy: 0.8041\n",
            "Epoch 37/50\n",
            "1563/1563 [==============================] - 5s 4ms/step - loss: 0.5595 - accuracy: 0.8140\n",
            "Epoch 38/50\n",
            "1563/1563 [==============================] - 5s 3ms/step - loss: 0.5350 - accuracy: 0.8251\n",
            "Epoch 39/50\n",
            "1563/1563 [==============================] - 6s 4ms/step - loss: 0.5118 - accuracy: 0.8323\n",
            "Epoch 40/50\n",
            "1563/1563 [==============================] - 6s 4ms/step - loss: 0.4910 - accuracy: 0.8415\n",
            "Epoch 41/50\n",
            "1563/1563 [==============================] - 6s 4ms/step - loss: 0.4674 - accuracy: 0.8466\n",
            "Epoch 42/50\n",
            "1563/1563 [==============================] - 6s 4ms/step - loss: 0.4462 - accuracy: 0.8557\n",
            "Epoch 43/50\n",
            "1563/1563 [==============================] - 6s 4ms/step - loss: 0.4270 - accuracy: 0.8624\n",
            "Epoch 44/50\n",
            "1563/1563 [==============================] - 6s 4ms/step - loss: 0.4093 - accuracy: 0.8685\n",
            "Epoch 45/50\n",
            "1563/1563 [==============================] - 6s 4ms/step - loss: 0.3859 - accuracy: 0.8783\n",
            "Epoch 46/50\n",
            "1563/1563 [==============================] - 6s 4ms/step - loss: 0.3653 - accuracy: 0.8862\n",
            "Epoch 47/50\n",
            "1563/1563 [==============================] - 6s 4ms/step - loss: 0.3484 - accuracy: 0.8928\n",
            "Epoch 48/50\n",
            "1563/1563 [==============================] - 6s 4ms/step - loss: 0.3278 - accuracy: 0.9004\n",
            "Epoch 49/50\n",
            "1563/1563 [==============================] - 6s 4ms/step - loss: 0.3163 - accuracy: 0.9038\n",
            "Epoch 50/50\n",
            "1563/1563 [==============================] - 6s 4ms/step - loss: 0.2971 - accuracy: 0.9107\n"
          ]
        },
        {
          "output_type": "execute_result",
          "data": {
            "text/plain": [
              "<keras.callbacks.History at 0x7efb6e2f3410>"
            ]
          },
          "metadata": {},
          "execution_count": 32
        }
      ]
    },
    {
      "cell_type": "code",
      "source": [
        "model.predict(x_test_scaled)[0]"
      ],
      "metadata": {
        "colab": {
          "base_uri": "https://localhost:8080/"
        },
        "id": "4sXThBVieK1H",
        "outputId": "1c270266-bb1d-40cc-e475-287c127a1a75"
      },
      "execution_count": 33,
      "outputs": [
        {
          "output_type": "execute_result",
          "data": {
            "text/plain": [
              "array([3.5949558e-01, 2.1201283e-01, 9.4796646e-01, 9.9854678e-01,\n",
              "       9.9367392e-01, 9.5255524e-01, 1.0205321e-02, 2.9808661e-04,\n",
              "       4.0588668e-01, 1.3482730e-01], dtype=float32)"
            ]
          },
          "metadata": {},
          "execution_count": 33
        }
      ]
    },
    {
      "cell_type": "code",
      "source": [
        "model.predict(x_test_scaled, y_test[0][0])\n"
      ],
      "metadata": {
        "id": "0s9Q-jS2jfXx",
        "colab": {
          "base_uri": "https://localhost:8080/"
        },
        "outputId": "7ad0ac52-7b25-4a4a-a83e-ba6f8ecfa04f"
      },
      "execution_count": 34,
      "outputs": [
        {
          "output_type": "execute_result",
          "data": {
            "text/plain": [
              "array([[3.5949558e-01, 2.1201257e-01, 9.4796634e-01, ..., 2.9808687e-04,\n",
              "        4.0588668e-01, 1.3482724e-01],\n",
              "       [8.9956081e-01, 9.9190044e-01, 3.4508258e-01, ..., 2.0278816e-01,\n",
              "        9.9959725e-01, 9.7980177e-01],\n",
              "       [9.9617696e-01, 8.5614061e-01, 4.9947307e-01, ..., 8.9923865e-01,\n",
              "        9.8146522e-01, 8.9633238e-01],\n",
              "       ...,\n",
              "       [2.2570758e-01, 1.7647074e-03, 9.8907965e-01, ..., 2.6775306e-01,\n",
              "        2.2385620e-01, 2.2276239e-01],\n",
              "       [9.2811197e-02, 8.8711036e-03, 8.4614843e-01, ..., 1.6131647e-01,\n",
              "        7.9437224e-03, 2.2361325e-02],\n",
              "       [4.9034187e-01, 3.6775835e-02, 8.0535716e-01, ..., 9.9718082e-01,\n",
              "        1.5983610e-01, 2.9594672e-01]], dtype=float32)"
            ]
          },
          "metadata": {},
          "execution_count": 34
        }
      ]
    },
    {
      "cell_type": "code",
      "source": [
        "classes[y_test[0][0]]"
      ],
      "metadata": {
        "colab": {
          "base_uri": "https://localhost:8080/",
          "height": 36
        },
        "id": "tpZMnXKlkknc",
        "outputId": "374f3b4e-46c4-4df8-9611-fbdf48b8cfc4"
      },
      "execution_count": 35,
      "outputs": [
        {
          "output_type": "execute_result",
          "data": {
            "text/plain": [
              "'cat'"
            ],
            "application/vnd.google.colaboratory.intrinsic+json": {
              "type": "string"
            }
          },
          "metadata": {},
          "execution_count": 35
        }
      ]
    },
    {
      "cell_type": "code",
      "source": [
        "#np.argmax(model.predict(x_test_scaled, y_test[1][]))"
      ],
      "metadata": {
        "id": "GQtUgU4pkkkL"
      },
      "execution_count": 36,
      "outputs": []
    },
    {
      "cell_type": "code",
      "source": [
        "np.argmax(model.predict(x_test_scaled)[0])"
      ],
      "metadata": {
        "colab": {
          "base_uri": "https://localhost:8080/"
        },
        "id": "pEz9h2YTkkhM",
        "outputId": "5b098a63-8347-4ee1-868a-b1edce4459fc"
      },
      "execution_count": 37,
      "outputs": [
        {
          "output_type": "execute_result",
          "data": {
            "text/plain": [
              "3"
            ]
          },
          "metadata": {},
          "execution_count": 37
        }
      ]
    },
    {
      "cell_type": "code",
      "source": [
        "model.evaluate(x_test_scaled, y_test_categorical)"
      ],
      "metadata": {
        "colab": {
          "base_uri": "https://localhost:8080/"
        },
        "id": "pof8si0Kkkd6",
        "outputId": "04ae3aad-8abf-4dce-ff1f-7aa431a4f5f7"
      },
      "execution_count": 38,
      "outputs": [
        {
          "output_type": "stream",
          "name": "stdout",
          "text": [
            "313/313 [==============================] - 1s 3ms/step - loss: 1.6383 - accuracy: 0.5548\n"
          ]
        },
        {
          "output_type": "execute_result",
          "data": {
            "text/plain": [
              "[1.6383389234542847, 0.5547999739646912]"
            ]
          },
          "metadata": {},
          "execution_count": 38
        }
      ]
    },
    {
      "cell_type": "code",
      "source": [
        "def get_model():\n",
        "  model = keras.Sequential([\n",
        "                           keras.layers.Flatten(input_shape=(32,32,3)),\n",
        "                           keras.layers.Dense(3000, activation='relu'),\n",
        "                           keras.layers.Dense(1000, activation='relu'),\n",
        "                           keras.layers.Dense(10,  activation='sigmoid')\n",
        "      ])\n",
        "  model.compile(\n",
        "    optimizer='SGD',\n",
        "    loss='categorical_crossentropy',\n",
        "    metrics=['accuracy']) \n",
        "  \n",
        "  return model  "
      ],
      "metadata": {
        "id": "KMO19DyqgEhu"
      },
      "execution_count": 39,
      "outputs": []
    },
    {
      "cell_type": "code",
      "source": [
        "with tf.device(\"/CPU:0\"):\n",
        "  cpu_model = get_model()\n",
        "  cpu_model.fit(x_train_scaled, y_train_categorical, epochs=2)"
      ],
      "metadata": {
        "colab": {
          "base_uri": "https://localhost:8080/"
        },
        "id": "gqMwUI-_gEea",
        "outputId": "1021b088-04e0-4e8e-ef1f-0d4dc539ae96"
      },
      "execution_count": 40,
      "outputs": [
        {
          "output_type": "stream",
          "name": "stdout",
          "text": [
            "Epoch 1/2\n",
            "1563/1563 [==============================] - 90s 57ms/step - loss: 1.8117 - accuracy: 0.3545\n",
            "Epoch 2/2\n",
            "1563/1563 [==============================] - 87s 55ms/step - loss: 1.6241 - accuracy: 0.4273\n"
          ]
        }
      ]
    },
    {
      "cell_type": "code",
      "source": [
        "%timeit -n1 -r1\n",
        "with tf.device(\"/CPU:0\"):\n",
        "  cpu_model = get_model()\n",
        "  cpu_model.fit(x_train_scaled, y_train_categorical, epochs=10)"
      ],
      "metadata": {
        "colab": {
          "base_uri": "https://localhost:8080/"
        },
        "id": "CE9iTDxQgEXz",
        "outputId": "cdd2637e-f716-45ea-fddf-97bd6c3f7bfc"
      },
      "execution_count": 41,
      "outputs": [
        {
          "output_type": "stream",
          "name": "stdout",
          "text": [
            "Epoch 1/10\n",
            "1563/1563 [==============================] - 86s 55ms/step - loss: 1.8091 - accuracy: 0.3543\n",
            "Epoch 2/10\n",
            "1563/1563 [==============================] - 86s 55ms/step - loss: 1.6218 - accuracy: 0.4281\n",
            "Epoch 3/10\n",
            "1563/1563 [==============================] - 85s 54ms/step - loss: 1.5429 - accuracy: 0.4557\n",
            "Epoch 4/10\n",
            "1563/1563 [==============================] - 82s 53ms/step - loss: 1.4813 - accuracy: 0.4790\n",
            "Epoch 5/10\n",
            "1563/1563 [==============================] - 84s 54ms/step - loss: 1.4329 - accuracy: 0.4957\n",
            "Epoch 6/10\n",
            "1563/1563 [==============================] - 86s 55ms/step - loss: 1.3925 - accuracy: 0.5094\n",
            "Epoch 7/10\n",
            "1563/1563 [==============================] - 84s 54ms/step - loss: 1.3522 - accuracy: 0.5275\n",
            "Epoch 8/10\n",
            "1563/1563 [==============================] - 84s 54ms/step - loss: 1.3174 - accuracy: 0.5380\n",
            "Epoch 9/10\n",
            "1563/1563 [==============================] - 83s 53ms/step - loss: 1.2826 - accuracy: 0.5518\n",
            "Epoch 10/10\n",
            "1563/1563 [==============================] - 84s 54ms/step - loss: 1.2547 - accuracy: 0.5599\n"
          ]
        }
      ]
    },
    {
      "cell_type": "code",
      "source": [
        "#lets measure training time on a GPU "
      ],
      "metadata": {
        "id": "aKYbRMw-BQP1"
      },
      "execution_count": 43,
      "outputs": []
    },
    {
      "cell_type": "code",
      "source": [
        "%timeit -n1 -r1\n",
        "with tf.device(\"/GPU:0\"):\n",
        "  gpu_model = get_model()\n",
        "  gpu_model.fit(x_train_scaled, y_train_categorical, epochs=2)"
      ],
      "metadata": {
        "colab": {
          "base_uri": "https://localhost:8080/"
        },
        "id": "vVVk5npwgFGf",
        "outputId": "f33cd6ee-4ef3-4795-88b5-52ffd955b0f5"
      },
      "execution_count": 44,
      "outputs": [
        {
          "output_type": "stream",
          "name": "stdout",
          "text": [
            "Epoch 1/2\n",
            "1563/1563 [==============================] - 6s 4ms/step - loss: 1.8103 - accuracy: 0.3543\n",
            "Epoch 2/2\n",
            "1563/1563 [==============================] - 5s 4ms/step - loss: 1.6235 - accuracy: 0.4273\n"
          ]
        }
      ]
    },
    {
      "cell_type": "code",
      "source": [
        "%timeit -n1 -r1\n",
        "with tf.device(\"/GPU:0\"):\n",
        "  gpu_model = get_model()\n",
        "  gpu_model.fit(x_train_scaled, y_train_categorical, epochs=10)"
      ],
      "metadata": {
        "colab": {
          "base_uri": "https://localhost:8080/"
        },
        "id": "fMW9k-0EgFDz",
        "outputId": "1ab2e5b6-7bfb-4247-fd1e-629215c9d71c"
      },
      "execution_count": 45,
      "outputs": [
        {
          "output_type": "stream",
          "name": "stdout",
          "text": [
            "Epoch 1/10\n",
            "1563/1563 [==============================] - 6s 4ms/step - loss: 1.8138 - accuracy: 0.3524\n",
            "Epoch 2/10\n",
            "1563/1563 [==============================] - 5s 3ms/step - loss: 1.6240 - accuracy: 0.4269\n",
            "Epoch 3/10\n",
            "1563/1563 [==============================] - 5s 3ms/step - loss: 1.5424 - accuracy: 0.4542\n",
            "Epoch 4/10\n",
            "1563/1563 [==============================] - 5s 3ms/step - loss: 1.4818 - accuracy: 0.4777\n",
            "Epoch 5/10\n",
            "1563/1563 [==============================] - 5s 3ms/step - loss: 1.4338 - accuracy: 0.4948\n",
            "Epoch 6/10\n",
            "1563/1563 [==============================] - 5s 3ms/step - loss: 1.3908 - accuracy: 0.5115\n",
            "Epoch 7/10\n",
            "1563/1563 [==============================] - 5s 4ms/step - loss: 1.3515 - accuracy: 0.5252\n",
            "Epoch 8/10\n",
            "1563/1563 [==============================] - 5s 3ms/step - loss: 1.3148 - accuracy: 0.5359\n",
            "Epoch 9/10\n",
            "1563/1563 [==============================] - 5s 3ms/step - loss: 1.2837 - accuracy: 0.5460\n",
            "Epoch 10/10\n",
            "1563/1563 [==============================] - 5s 4ms/step - loss: 1.2519 - accuracy: 0.5603\n"
          ]
        }
      ]
    },
    {
      "cell_type": "code",
      "source": [
        ""
      ],
      "metadata": {
        "id": "YpFUmqlRGNMa"
      },
      "execution_count": null,
      "outputs": []
    }
  ],
  "metadata": {
    "colab": {
      "name": "GPU bench marking with image classification",
      "provenance": [],
      "authorship_tag": "ABX9TyO8Uu3bSZAWOdRxN7ZOYSYn",
      "include_colab_link": true
    },
    "kernelspec": {
      "display_name": "Python 3",
      "name": "python3"
    },
    "language_info": {
      "name": "python"
    },
    "accelerator": "GPU"
  },
  "nbformat": 4,
  "nbformat_minor": 0
}