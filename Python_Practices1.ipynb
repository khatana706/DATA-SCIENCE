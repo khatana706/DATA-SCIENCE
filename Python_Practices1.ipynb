{
  "nbformat": 4,
  "nbformat_minor": 0,
  "metadata": {
    "colab": {
      "name": "Python_Practices1",
      "provenance": [],
      "collapsed_sections": [],
      "authorship_tag": "ABX9TyNT7VR4DYsdLqsNp5lJSXqL",
      "include_colab_link": true
    },
    "kernelspec": {
      "name": "python3",
      "display_name": "Python 3"
    },
    "language_info": {
      "name": "python"
    }
  },
  "cells": [
    {
      "cell_type": "markdown",
      "metadata": {
        "id": "view-in-github",
        "colab_type": "text"
      },
      "source": [
        "<a href=\"https://colab.research.google.com/github/khatana706/DATA-SCIENCE/blob/main/Python_Practices1.ipynb\" target=\"_parent\"><img src=\"https://colab.research.google.com/assets/colab-badge.svg\" alt=\"Open In Colab\"/></a>"
      ]
    },
    {
      "cell_type": "code",
      "execution_count": 1,
      "metadata": {
        "id": "v474FW7hVJnX"
      },
      "outputs": [],
      "source": [
        "#python random number genrator"
      ]
    },
    {
      "cell_type": "code",
      "source": [
        "import random"
      ],
      "metadata": {
        "id": "E1bWcqOYeIlw"
      },
      "execution_count": 2,
      "outputs": []
    },
    {
      "cell_type": "code",
      "source": [
        "value = random.random()\n",
        "print(value)"
      ],
      "metadata": {
        "colab": {
          "base_uri": "https://localhost:8080/"
        },
        "id": "zYfJqHTEeIjG",
        "outputId": "b6e7745b-0cab-4312-c58c-16108530256c"
      },
      "execution_count": 3,
      "outputs": [
        {
          "output_type": "stream",
          "name": "stdout",
          "text": [
            "0.8839207512566759\n"
          ]
        }
      ]
    },
    {
      "cell_type": "code",
      "source": [
        "value = random.random()\n",
        "print(value)"
      ],
      "metadata": {
        "colab": {
          "base_uri": "https://localhost:8080/"
        },
        "id": "fwPS12eNuRnG",
        "outputId": "d1a70612-6d9f-4606-c850-b32cefb85b01"
      },
      "execution_count": 8,
      "outputs": [
        {
          "output_type": "stream",
          "name": "stdout",
          "text": [
            "0.550958655931432\n"
          ]
        }
      ]
    },
    {
      "cell_type": "code",
      "source": [
        "a = random.uniform(1,10)\n",
        "print(a)"
      ],
      "metadata": {
        "colab": {
          "base_uri": "https://localhost:8080/"
        },
        "id": "e5uBu-ImeIer",
        "outputId": "0f0ab6c3-a10c-4a5a-c183-f0de87a184d1"
      },
      "execution_count": 5,
      "outputs": [
        {
          "output_type": "stream",
          "name": "stdout",
          "text": [
            "4.043618558723377\n"
          ]
        }
      ]
    },
    {
      "cell_type": "code",
      "source": [
        "a = random.uniform(1,10)\n",
        "print(a)"
      ],
      "metadata": {
        "colab": {
          "base_uri": "https://localhost:8080/"
        },
        "id": "n48oF7tCeIaR",
        "outputId": "e9a4f8be-3532-48fd-9591-cb7b8125f6fc"
      },
      "execution_count": 7,
      "outputs": [
        {
          "output_type": "stream",
          "name": "stdout",
          "text": [
            "3.571695486286663\n"
          ]
        }
      ]
    },
    {
      "cell_type": "code",
      "source": [
        "b = random.randint(1,8)\n",
        "print(b)"
      ],
      "metadata": {
        "colab": {
          "base_uri": "https://localhost:8080/"
        },
        "id": "U354p3XGeIWV",
        "outputId": "ce4db1d2-a6f0-4a99-d05b-30fe5b63ff2e"
      },
      "execution_count": 9,
      "outputs": [
        {
          "output_type": "stream",
          "name": "stdout",
          "text": [
            "4\n"
          ]
        }
      ]
    },
    {
      "cell_type": "code",
      "source": [
        "b = random.randint(1,8)\n",
        "print(b)"
      ],
      "metadata": {
        "colab": {
          "base_uri": "https://localhost:8080/"
        },
        "id": "DIVIN4_meITd",
        "outputId": "65da1894-fc31-4a8c-ddc5-5090121b768a"
      },
      "execution_count": 10,
      "outputs": [
        {
          "output_type": "stream",
          "name": "stdout",
          "text": [
            "1\n"
          ]
        }
      ]
    },
    {
      "cell_type": "code",
      "source": [
        "import random\n",
        "greetings = [\"hello\",\"hey\",\"hao\",\"hii\",\"KHATANA\"]\n",
        "GURJAR = random.choice(greetings)\n",
        "print(GURJAR)"
      ],
      "metadata": {
        "colab": {
          "base_uri": "https://localhost:8080/"
        },
        "id": "sCYiwtM7eIQo",
        "outputId": "eeb720fa-b359-461a-d095-d21aa4695a40"
      },
      "execution_count": 11,
      "outputs": [
        {
          "output_type": "stream",
          "name": "stdout",
          "text": [
            "KHATANA\n"
          ]
        }
      ]
    },
    {
      "cell_type": "code",
      "source": [
        "GURJAR = random.choice(greetings)\n",
        "print(GURJAR)"
      ],
      "metadata": {
        "colab": {
          "base_uri": "https://localhost:8080/"
        },
        "id": "6lAPUEvjeINY",
        "outputId": "a9043452-efc0-46ba-b053-5af8b52efd35"
      },
      "execution_count": 13,
      "outputs": [
        {
          "output_type": "stream",
          "name": "stdout",
          "text": [
            "hao\n"
          ]
        }
      ]
    },
    {
      "cell_type": "code",
      "source": [
        "print(GURJAR + ' SINGH ')"
      ],
      "metadata": {
        "colab": {
          "base_uri": "https://localhost:8080/"
        },
        "id": "mKQglf53eIKZ",
        "outputId": "cfd4ec8d-7ac1-4f96-d6f4-17950a01ca5d"
      },
      "execution_count": 16,
      "outputs": [
        {
          "output_type": "stream",
          "name": "stdout",
          "text": [
            "hao SINGH \n"
          ]
        }
      ]
    },
    {
      "cell_type": "code",
      "source": [
        "print(GURJAR + ' SINGH ')"
      ],
      "metadata": {
        "colab": {
          "base_uri": "https://localhost:8080/"
        },
        "id": "HBcqmuKveIF5",
        "outputId": "79e3d086-d709-4d78-8d05-441a40d148c0"
      },
      "execution_count": 22,
      "outputs": [
        {
          "output_type": "stream",
          "name": "stdout",
          "text": [
            "hao SINGH _\n"
          ]
        }
      ]
    },
    {
      "cell_type": "code",
      "source": [
        "color = [\"red\",\"green\",\"blue\",\"white\",\"black\"]\n",
        "results = random.choices(color, k=12)\n",
        "print(results)"
      ],
      "metadata": {
        "colab": {
          "base_uri": "https://localhost:8080/"
        },
        "id": "EKg1cVpFeICh",
        "outputId": "cf6bf55c-83dd-4fe3-9936-5d77b01e02c0"
      },
      "execution_count": 26,
      "outputs": [
        {
          "output_type": "stream",
          "name": "stdout",
          "text": [
            "['red', 'red', 'black', 'white', 'white', 'red', 'blue', 'white', 'red', 'red', 'black', 'green']\n"
          ]
        }
      ]
    },
    {
      "cell_type": "code",
      "source": [
        "color = [\"red\",\"green\",\"blue\",\"white\",\"black\"]\n",
        "results = random.choice(color)\n",
        "print(results)"
      ],
      "metadata": {
        "colab": {
          "base_uri": "https://localhost:8080/"
        },
        "id": "bJaleIQMeH--",
        "outputId": "fdda1f08-a056-43d3-c171-6b5fd2f7e0ac"
      },
      "execution_count": 27,
      "outputs": [
        {
          "output_type": "stream",
          "name": "stdout",
          "text": [
            "red\n"
          ]
        }
      ]
    },
    {
      "cell_type": "code",
      "source": [
        "print(results)"
      ],
      "metadata": {
        "colab": {
          "base_uri": "https://localhost:8080/"
        },
        "id": "Vw3BtedpeKUS",
        "outputId": "bd4764ed-5795-4a0e-fab2-dbde4e462350"
      },
      "execution_count": 31,
      "outputs": [
        {
          "output_type": "stream",
          "name": "stdout",
          "text": [
            "red\n"
          ]
        }
      ]
    },
    {
      "cell_type": "code",
      "source": [
        "import random\n",
        "from random import choices"
      ],
      "metadata": {
        "id": "ZUnNXrvoyy3x"
      },
      "execution_count": 38,
      "outputs": []
    },
    {
      "cell_type": "code",
      "source": [
        "color = [\"red\",\"green\",\"blue\",\"white\",\"black\"]\n",
        "results = random.choices(color, weights=[18,18,5,8,7], k=12)\n",
        "print(results)"
      ],
      "metadata": {
        "colab": {
          "base_uri": "https://localhost:8080/"
        },
        "id": "jYzIeipbeKRR",
        "outputId": "61c914a4-d479-4807-859e-d72f7a3146c8"
      },
      "execution_count": 40,
      "outputs": [
        {
          "output_type": "stream",
          "name": "stdout",
          "text": [
            "['blue', 'green', 'red', 'green', 'black', 'black', 'green', 'blue', 'green', 'green', 'red', 'red']\n"
          ]
        }
      ]
    },
    {
      "cell_type": "code",
      "source": [
        "import random\n",
        "deck = list(range(1,52))\n",
        "print(deck)"
      ],
      "metadata": {
        "colab": {
          "base_uri": "https://localhost:8080/"
        },
        "id": "voxI96uqeKOV",
        "outputId": "8cae49b6-4c9b-40bf-d9e6-c1d82042b091"
      },
      "execution_count": 41,
      "outputs": [
        {
          "output_type": "stream",
          "name": "stdout",
          "text": [
            "[1, 2, 3, 4, 5, 6, 7, 8, 9, 10, 11, 12, 13, 14, 15, 16, 17, 18, 19, 20, 21, 22, 23, 24, 25, 26, 27, 28, 29, 30, 31, 32, 33, 34, 35, 36, 37, 38, 39, 40, 41, 42, 43, 44, 45, 46, 47, 48, 49, 50, 51]\n"
          ]
        }
      ]
    },
    {
      "cell_type": "code",
      "source": [
        "random.shuffle(deck)\n",
        "print(deck)"
      ],
      "metadata": {
        "colab": {
          "base_uri": "https://localhost:8080/"
        },
        "id": "7JKbHbPkeKLN",
        "outputId": "1e24062f-44ea-46d3-d651-e74fe8412e7f"
      },
      "execution_count": 43,
      "outputs": [
        {
          "output_type": "stream",
          "name": "stdout",
          "text": [
            "[31, 35, 24, 3, 43, 38, 33, 29, 22, 40, 46, 7, 26, 50, 20, 49, 32, 28, 44, 48, 6, 51, 15, 41, 16, 10, 27, 1, 11, 4, 17, 45, 23, 36, 19, 13, 30, 14, 21, 2, 12, 42, 18, 39, 37, 8, 34, 25, 9, 5, 47]\n"
          ]
        }
      ]
    },
    {
      "cell_type": "code",
      "source": [
        "hand = random.sample(deck, k=5)\n",
        "print(hand)"
      ],
      "metadata": {
        "colab": {
          "base_uri": "https://localhost:8080/"
        },
        "id": "lRWFS_vIeKIG",
        "outputId": "64ab5cbe-dfc3-42dd-c126-3991a9ce2619"
      },
      "execution_count": 44,
      "outputs": [
        {
          "output_type": "stream",
          "name": "stdout",
          "text": [
            "[38, 1, 47, 50, 18]\n"
          ]
        }
      ]
    },
    {
      "cell_type": "code",
      "source": [
        "import random\n",
        "first_name = ['NARENDRA',\"NISHANT\",\"AMAN\",\"ABHISHEK\",\"PRIYANKA\",\"JIGYASA\"]\n",
        "last_name = [\"KHATANA\",\"KUMAR\",\"SINGH\",\"TANDON\",\"KUMARI\",\"HIRAWAT\"]\n",
        "street_name = [\"GURJAR\",\"BETA\",\"PUTER\",\"BABY\",\"MOTI\",\"CRUSH\"]\n",
        "fake_cities = [\"karauli\",\"swaimadhopur\",\"kemari\",\"junjhunu\",\"nadauti\",\"churu\"]\n",
        "state = [\"raj\",\"delhi\",\"bhihar\",\"up\",\"hr\",\"banglore\"]\n",
        "\n",
        "for num in range(1,100):\n",
        "  first = random.choice(first_name)\n",
        "  last = random.choice(last_name)\n",
        "\n",
        "  phone = f'{random.randint(100,999)}-555-{random.randint(1000,9999)}'\n",
        "\n",
        "  street_num = random.randint(100, 999)\n",
        "  street = random.choice(street_name)\n",
        "  city = random.choice(fake_cities)\n",
        "  state = random.choice(state)\n",
        "  zip_code = random.randint(10000, 99999)\n",
        "  address = f'{street_num},{street},{city},{state},{zip_code}'\n",
        "  emails = first.lower() + last.lower() + '@abcgmail.com'\n",
        "\n",
        "  print(f'{first},{last}\\n{phone}\\n{address}\\n{emails}\\n')\n",
        "\n"
      ],
      "metadata": {
        "colab": {
          "base_uri": "https://localhost:8080/"
        },
        "id": "wULWme5bb_QT",
        "outputId": "fbd7512d-59cd-4dca-dbb7-7abef48d0eeb"
      },
      "execution_count": 47,
      "outputs": [
        {
          "output_type": "stream",
          "name": "stdout",
          "text": [
            "JIGYASA,TANDON\n",
            "318-555-3403\n",
            "933,PUTER,churu,hr,73212\n",
            "jigyasatandon@abcgmail.com\n",
            "\n",
            "PRIYANKA,KUMAR\n",
            "187-555-6122\n",
            "272,BABY,karauli,h,54345\n",
            "priyankakumar@abcgmail.com\n",
            "\n",
            "AMAN,KUMAR\n",
            "628-555-6405\n",
            "634,CRUSH,swaimadhopur,h,79312\n",
            "amankumar@abcgmail.com\n",
            "\n",
            "NISHANT,TANDON\n",
            "344-555-1342\n",
            "402,MOTI,junjhunu,h,30381\n",
            "nishanttandon@abcgmail.com\n",
            "\n",
            "JIGYASA,HIRAWAT\n",
            "664-555-6979\n",
            "989,PUTER,karauli,h,72221\n",
            "jigyasahirawat@abcgmail.com\n",
            "\n",
            "NISHANT,KUMAR\n",
            "953-555-5891\n",
            "760,PUTER,nadauti,h,64952\n",
            "nishantkumar@abcgmail.com\n",
            "\n",
            "AMAN,HIRAWAT\n",
            "528-555-2791\n",
            "560,GURJAR,nadauti,h,43379\n",
            "amanhirawat@abcgmail.com\n",
            "\n",
            "PRIYANKA,SINGH\n",
            "763-555-8548\n",
            "827,BABY,swaimadhopur,h,26144\n",
            "priyankasingh@abcgmail.com\n",
            "\n",
            "NISHANT,KUMAR\n",
            "182-555-3252\n",
            "905,MOTI,nadauti,h,44538\n",
            "nishantkumar@abcgmail.com\n",
            "\n",
            "ABHISHEK,KHATANA\n",
            "791-555-3097\n",
            "266,MOTI,churu,h,38782\n",
            "abhishekkhatana@abcgmail.com\n",
            "\n",
            "NISHANT,SINGH\n",
            "447-555-5371\n",
            "223,BETA,junjhunu,h,51744\n",
            "nishantsingh@abcgmail.com\n",
            "\n",
            "PRIYANKA,HIRAWAT\n",
            "899-555-8784\n",
            "716,PUTER,junjhunu,h,43879\n",
            "priyankahirawat@abcgmail.com\n",
            "\n",
            "NISHANT,KHATANA\n",
            "334-555-2930\n",
            "218,BETA,swaimadhopur,h,19040\n",
            "nishantkhatana@abcgmail.com\n",
            "\n",
            "JIGYASA,TANDON\n",
            "903-555-6757\n",
            "774,GURJAR,karauli,h,21515\n",
            "jigyasatandon@abcgmail.com\n",
            "\n",
            "NISHANT,HIRAWAT\n",
            "276-555-3458\n",
            "107,CRUSH,junjhunu,h,83084\n",
            "nishanthirawat@abcgmail.com\n",
            "\n",
            "NARENDRA,KUMAR\n",
            "176-555-7592\n",
            "833,GURJAR,nadauti,h,46454\n",
            "narendrakumar@abcgmail.com\n",
            "\n",
            "PRIYANKA,KUMAR\n",
            "193-555-5824\n",
            "743,BABY,karauli,h,44024\n",
            "priyankakumar@abcgmail.com\n",
            "\n",
            "NARENDRA,HIRAWAT\n",
            "967-555-8150\n",
            "959,CRUSH,churu,h,92599\n",
            "narendrahirawat@abcgmail.com\n",
            "\n",
            "AMAN,KUMARI\n",
            "486-555-9179\n",
            "575,BETA,swaimadhopur,h,90182\n",
            "amankumari@abcgmail.com\n",
            "\n",
            "PRIYANKA,HIRAWAT\n",
            "484-555-2324\n",
            "870,PUTER,kemari,h,49992\n",
            "priyankahirawat@abcgmail.com\n",
            "\n",
            "ABHISHEK,HIRAWAT\n",
            "257-555-8379\n",
            "622,PUTER,churu,h,15084\n",
            "abhishekhirawat@abcgmail.com\n",
            "\n",
            "NARENDRA,KUMARI\n",
            "559-555-3382\n",
            "649,CRUSH,nadauti,h,83862\n",
            "narendrakumari@abcgmail.com\n",
            "\n",
            "NARENDRA,SINGH\n",
            "981-555-8976\n",
            "842,CRUSH,nadauti,h,72799\n",
            "narendrasingh@abcgmail.com\n",
            "\n",
            "NARENDRA,KUMAR\n",
            "640-555-5579\n",
            "279,BABY,swaimadhopur,h,26169\n",
            "narendrakumar@abcgmail.com\n",
            "\n",
            "ABHISHEK,SINGH\n",
            "354-555-2445\n",
            "810,MOTI,junjhunu,h,48651\n",
            "abhisheksingh@abcgmail.com\n",
            "\n",
            "JIGYASA,KHATANA\n",
            "517-555-4851\n",
            "679,CRUSH,junjhunu,h,16591\n",
            "jigyasakhatana@abcgmail.com\n",
            "\n",
            "JIGYASA,HIRAWAT\n",
            "271-555-8714\n",
            "980,MOTI,kemari,h,89089\n",
            "jigyasahirawat@abcgmail.com\n",
            "\n",
            "PRIYANKA,KUMARI\n",
            "247-555-8947\n",
            "665,BABY,churu,h,74787\n",
            "priyankakumari@abcgmail.com\n",
            "\n",
            "NISHANT,KHATANA\n",
            "663-555-6881\n",
            "939,PUTER,nadauti,h,72776\n",
            "nishantkhatana@abcgmail.com\n",
            "\n",
            "NISHANT,KHATANA\n",
            "239-555-1650\n",
            "440,BETA,karauli,h,71974\n",
            "nishantkhatana@abcgmail.com\n",
            "\n",
            "ABHISHEK,TANDON\n",
            "308-555-7980\n",
            "421,CRUSH,churu,h,59706\n",
            "abhishektandon@abcgmail.com\n",
            "\n",
            "NISHANT,TANDON\n",
            "251-555-2451\n",
            "971,CRUSH,karauli,h,58933\n",
            "nishanttandon@abcgmail.com\n",
            "\n",
            "AMAN,HIRAWAT\n",
            "467-555-9570\n",
            "941,BETA,swaimadhopur,h,80922\n",
            "amanhirawat@abcgmail.com\n",
            "\n",
            "AMAN,HIRAWAT\n",
            "547-555-7483\n",
            "909,PUTER,karauli,h,62360\n",
            "amanhirawat@abcgmail.com\n",
            "\n",
            "PRIYANKA,TANDON\n",
            "109-555-8426\n",
            "759,PUTER,kemari,h,66501\n",
            "priyankatandon@abcgmail.com\n",
            "\n",
            "JIGYASA,TANDON\n",
            "882-555-9763\n",
            "947,BETA,nadauti,h,41443\n",
            "jigyasatandon@abcgmail.com\n",
            "\n",
            "NARENDRA,KUMAR\n",
            "571-555-6211\n",
            "414,MOTI,kemari,h,95608\n",
            "narendrakumar@abcgmail.com\n",
            "\n",
            "AMAN,TANDON\n",
            "548-555-6360\n",
            "541,CRUSH,kemari,h,69282\n",
            "amantandon@abcgmail.com\n",
            "\n",
            "JIGYASA,SINGH\n",
            "910-555-3777\n",
            "116,GURJAR,junjhunu,h,18213\n",
            "jigyasasingh@abcgmail.com\n",
            "\n",
            "PRIYANKA,HIRAWAT\n",
            "297-555-4009\n",
            "339,BETA,swaimadhopur,h,53269\n",
            "priyankahirawat@abcgmail.com\n",
            "\n",
            "AMAN,HIRAWAT\n",
            "427-555-3177\n",
            "912,BABY,kemari,h,15568\n",
            "amanhirawat@abcgmail.com\n",
            "\n",
            "AMAN,KUMARI\n",
            "279-555-3184\n",
            "363,CRUSH,karauli,h,97454\n",
            "amankumari@abcgmail.com\n",
            "\n",
            "AMAN,HIRAWAT\n",
            "961-555-2996\n",
            "672,BETA,junjhunu,h,82426\n",
            "amanhirawat@abcgmail.com\n",
            "\n",
            "NISHANT,KHATANA\n",
            "701-555-8609\n",
            "819,BETA,karauli,h,71000\n",
            "nishantkhatana@abcgmail.com\n",
            "\n",
            "NISHANT,TANDON\n",
            "513-555-2624\n",
            "386,BABY,kemari,h,60087\n",
            "nishanttandon@abcgmail.com\n",
            "\n",
            "PRIYANKA,KUMAR\n",
            "771-555-2467\n",
            "922,BABY,nadauti,h,35021\n",
            "priyankakumar@abcgmail.com\n",
            "\n",
            "NISHANT,TANDON\n",
            "860-555-8325\n",
            "742,PUTER,junjhunu,h,63519\n",
            "nishanttandon@abcgmail.com\n",
            "\n",
            "AMAN,TANDON\n",
            "802-555-8335\n",
            "551,MOTI,karauli,h,41117\n",
            "amantandon@abcgmail.com\n",
            "\n",
            "JIGYASA,HIRAWAT\n",
            "251-555-3609\n",
            "644,BABY,nadauti,h,74695\n",
            "jigyasahirawat@abcgmail.com\n",
            "\n",
            "NISHANT,KUMAR\n",
            "175-555-1451\n",
            "622,BABY,kemari,h,85585\n",
            "nishantkumar@abcgmail.com\n",
            "\n",
            "ABHISHEK,KHATANA\n",
            "703-555-6075\n",
            "833,CRUSH,nadauti,h,29479\n",
            "abhishekkhatana@abcgmail.com\n",
            "\n",
            "NISHANT,KHATANA\n",
            "816-555-6076\n",
            "509,CRUSH,karauli,h,36989\n",
            "nishantkhatana@abcgmail.com\n",
            "\n",
            "ABHISHEK,SINGH\n",
            "673-555-4766\n",
            "636,GURJAR,nadauti,h,61668\n",
            "abhisheksingh@abcgmail.com\n",
            "\n",
            "JIGYASA,KHATANA\n",
            "187-555-9390\n",
            "586,GURJAR,churu,h,54755\n",
            "jigyasakhatana@abcgmail.com\n",
            "\n",
            "AMAN,SINGH\n",
            "581-555-3712\n",
            "544,CRUSH,nadauti,h,23001\n",
            "amansingh@abcgmail.com\n",
            "\n",
            "JIGYASA,KUMARI\n",
            "853-555-1517\n",
            "734,BETA,junjhunu,h,73152\n",
            "jigyasakumari@abcgmail.com\n",
            "\n",
            "AMAN,KHATANA\n",
            "611-555-8238\n",
            "515,GURJAR,swaimadhopur,h,40497\n",
            "amankhatana@abcgmail.com\n",
            "\n",
            "JIGYASA,KHATANA\n",
            "377-555-9162\n",
            "753,BABY,swaimadhopur,h,80920\n",
            "jigyasakhatana@abcgmail.com\n",
            "\n",
            "ABHISHEK,HIRAWAT\n",
            "730-555-3507\n",
            "819,BETA,karauli,h,97596\n",
            "abhishekhirawat@abcgmail.com\n",
            "\n",
            "PRIYANKA,SINGH\n",
            "758-555-6784\n",
            "210,PUTER,churu,h,24407\n",
            "priyankasingh@abcgmail.com\n",
            "\n",
            "NISHANT,KUMAR\n",
            "935-555-9933\n",
            "437,GURJAR,swaimadhopur,h,78598\n",
            "nishantkumar@abcgmail.com\n",
            "\n",
            "JIGYASA,KUMARI\n",
            "218-555-8042\n",
            "441,BETA,karauli,h,38212\n",
            "jigyasakumari@abcgmail.com\n",
            "\n",
            "JIGYASA,SINGH\n",
            "175-555-8432\n",
            "714,PUTER,junjhunu,h,28510\n",
            "jigyasasingh@abcgmail.com\n",
            "\n",
            "NISHANT,KUMAR\n",
            "126-555-3142\n",
            "141,BETA,junjhunu,h,50502\n",
            "nishantkumar@abcgmail.com\n",
            "\n",
            "JIGYASA,KUMARI\n",
            "362-555-9014\n",
            "141,BABY,churu,h,81686\n",
            "jigyasakumari@abcgmail.com\n",
            "\n",
            "NARENDRA,KUMARI\n",
            "409-555-1507\n",
            "464,GURJAR,kemari,h,16669\n",
            "narendrakumari@abcgmail.com\n",
            "\n",
            "AMAN,HIRAWAT\n",
            "456-555-6163\n",
            "792,CRUSH,swaimadhopur,h,67913\n",
            "amanhirawat@abcgmail.com\n",
            "\n",
            "NISHANT,HIRAWAT\n",
            "849-555-5290\n",
            "430,GURJAR,nadauti,h,32750\n",
            "nishanthirawat@abcgmail.com\n",
            "\n",
            "NISHANT,HIRAWAT\n",
            "533-555-1819\n",
            "642,PUTER,nadauti,h,93850\n",
            "nishanthirawat@abcgmail.com\n",
            "\n",
            "AMAN,SINGH\n",
            "104-555-6625\n",
            "429,CRUSH,swaimadhopur,h,43969\n",
            "amansingh@abcgmail.com\n",
            "\n",
            "JIGYASA,KHATANA\n",
            "169-555-1408\n",
            "827,PUTER,nadauti,h,28213\n",
            "jigyasakhatana@abcgmail.com\n",
            "\n",
            "ABHISHEK,TANDON\n",
            "326-555-1884\n",
            "911,PUTER,nadauti,h,27794\n",
            "abhishektandon@abcgmail.com\n",
            "\n",
            "NISHANT,KHATANA\n",
            "337-555-9795\n",
            "249,PUTER,karauli,h,49629\n",
            "nishantkhatana@abcgmail.com\n",
            "\n",
            "JIGYASA,SINGH\n",
            "713-555-2536\n",
            "130,BETA,nadauti,h,30858\n",
            "jigyasasingh@abcgmail.com\n",
            "\n",
            "NISHANT,KHATANA\n",
            "587-555-3784\n",
            "493,BABY,nadauti,h,75500\n",
            "nishantkhatana@abcgmail.com\n",
            "\n",
            "NISHANT,KUMARI\n",
            "192-555-9605\n",
            "284,PUTER,churu,h,29536\n",
            "nishantkumari@abcgmail.com\n",
            "\n",
            "PRIYANKA,SINGH\n",
            "865-555-4191\n",
            "586,CRUSH,churu,h,11601\n",
            "priyankasingh@abcgmail.com\n",
            "\n",
            "NISHANT,KUMARI\n",
            "974-555-3889\n",
            "189,MOTI,junjhunu,h,79283\n",
            "nishantkumari@abcgmail.com\n",
            "\n",
            "AMAN,SINGH\n",
            "766-555-9412\n",
            "905,BETA,swaimadhopur,h,27997\n",
            "amansingh@abcgmail.com\n",
            "\n",
            "PRIYANKA,HIRAWAT\n",
            "877-555-5451\n",
            "137,BABY,churu,h,48110\n",
            "priyankahirawat@abcgmail.com\n",
            "\n",
            "NISHANT,KUMAR\n",
            "747-555-5470\n",
            "789,MOTI,kemari,h,83641\n",
            "nishantkumar@abcgmail.com\n",
            "\n",
            "ABHISHEK,KHATANA\n",
            "184-555-7775\n",
            "798,PUTER,junjhunu,h,84070\n",
            "abhishekkhatana@abcgmail.com\n",
            "\n",
            "AMAN,KUMAR\n",
            "593-555-9809\n",
            "902,CRUSH,swaimadhopur,h,47839\n",
            "amankumar@abcgmail.com\n",
            "\n",
            "ABHISHEK,KHATANA\n",
            "817-555-5902\n",
            "668,MOTI,swaimadhopur,h,33120\n",
            "abhishekkhatana@abcgmail.com\n",
            "\n",
            "NARENDRA,KHATANA\n",
            "837-555-3729\n",
            "117,CRUSH,swaimadhopur,h,83778\n",
            "narendrakhatana@abcgmail.com\n",
            "\n",
            "NARENDRA,SINGH\n",
            "639-555-7293\n",
            "552,GURJAR,churu,h,97712\n",
            "narendrasingh@abcgmail.com\n",
            "\n",
            "JIGYASA,HIRAWAT\n",
            "873-555-5543\n",
            "824,BETA,junjhunu,h,87789\n",
            "jigyasahirawat@abcgmail.com\n",
            "\n",
            "NARENDRA,HIRAWAT\n",
            "592-555-6261\n",
            "874,PUTER,junjhunu,h,78237\n",
            "narendrahirawat@abcgmail.com\n",
            "\n",
            "ABHISHEK,SINGH\n",
            "933-555-4914\n",
            "363,GURJAR,karauli,h,40800\n",
            "abhisheksingh@abcgmail.com\n",
            "\n",
            "JIGYASA,KUMARI\n",
            "666-555-5896\n",
            "717,CRUSH,churu,h,79575\n",
            "jigyasakumari@abcgmail.com\n",
            "\n",
            "ABHISHEK,KUMARI\n",
            "690-555-2041\n",
            "858,BETA,churu,h,92185\n",
            "abhishekkumari@abcgmail.com\n",
            "\n",
            "NARENDRA,KUMARI\n",
            "250-555-8583\n",
            "615,BABY,kemari,h,25326\n",
            "narendrakumari@abcgmail.com\n",
            "\n",
            "NISHANT,HIRAWAT\n",
            "938-555-8900\n",
            "371,GURJAR,swaimadhopur,h,54122\n",
            "nishanthirawat@abcgmail.com\n",
            "\n",
            "AMAN,KUMARI\n",
            "297-555-7935\n",
            "433,MOTI,nadauti,h,18452\n",
            "amankumari@abcgmail.com\n",
            "\n",
            "AMAN,TANDON\n",
            "571-555-5607\n",
            "282,PUTER,kemari,h,70963\n",
            "amantandon@abcgmail.com\n",
            "\n",
            "NARENDRA,HIRAWAT\n",
            "999-555-5711\n",
            "331,GURJAR,junjhunu,h,51478\n",
            "narendrahirawat@abcgmail.com\n",
            "\n",
            "NISHANT,KUMAR\n",
            "828-555-4034\n",
            "451,BETA,swaimadhopur,h,19889\n",
            "nishantkumar@abcgmail.com\n",
            "\n",
            "NARENDRA,KHATANA\n",
            "587-555-7279\n",
            "414,GURJAR,kemari,h,62035\n",
            "narendrakhatana@abcgmail.com\n",
            "\n",
            "AMAN,TANDON\n",
            "513-555-5030\n",
            "624,MOTI,swaimadhopur,h,20017\n",
            "amantandon@abcgmail.com\n",
            "\n"
          ]
        }
      ]
    },
    {
      "cell_type": "code",
      "source": [
        ""
      ],
      "metadata": {
        "id": "gdzDauDWb_Nx"
      },
      "execution_count": null,
      "outputs": []
    },
    {
      "cell_type": "code",
      "source": [
        ""
      ],
      "metadata": {
        "id": "Ul0alnGLb_Kd"
      },
      "execution_count": null,
      "outputs": []
    },
    {
      "cell_type": "code",
      "source": [
        ""
      ],
      "metadata": {
        "id": "pmHfBm9Cb_Ec"
      },
      "execution_count": null,
      "outputs": []
    },
    {
      "cell_type": "code",
      "source": [
        ""
      ],
      "metadata": {
        "id": "aPjEYCpFb--s"
      },
      "execution_count": null,
      "outputs": []
    }
  ]
}