{
  "nbformat": 4,
  "nbformat_minor": 0,
  "metadata": {
    "colab": {
      "name": "RegEx_2",
      "provenance": [],
      "authorship_tag": "ABX9TyMM2hS5l9pqxX+mEoqT8k/i",
      "include_colab_link": true
    },
    "kernelspec": {
      "name": "python3",
      "display_name": "Python 3"
    },
    "language_info": {
      "name": "python"
    }
  },
  "cells": [
    {
      "cell_type": "markdown",
      "metadata": {
        "id": "view-in-github",
        "colab_type": "text"
      },
      "source": [
        "<a href=\"https://colab.research.google.com/github/khatana706/DATA-SCIENCE/blob/main/RegEx_2.ipynb\" target=\"_parent\"><img src=\"https://colab.research.google.com/assets/colab-badge.svg\" alt=\"Open In Colab\"/></a>"
      ]
    },
    {
      "cell_type": "markdown",
      "source": [
        "#Alteration_RegEx\n"
      ],
      "metadata": {
        "id": "4CdnUvzMwy88"
      }
    },
    {
      "cell_type": "code",
      "source": [
        "!pip install python-utils"
      ],
      "metadata": {
        "colab": {
          "base_uri": "https://localhost:8080/"
        },
        "id": "sETrPMEFzSgH",
        "outputId": "99f20785-79b4-401b-c2de-86dc9c7bd1b0"
      },
      "execution_count": 108,
      "outputs": [
        {
          "output_type": "stream",
          "name": "stdout",
          "text": [
            "Looking in indexes: https://pypi.org/simple, https://us-python.pkg.dev/colab-wheels/public/simple/\n",
            "Requirement already satisfied: python-utils in /usr/local/lib/python3.7/dist-packages (3.3.3)\n"
          ]
        }
      ]
    },
    {
      "cell_type": "code",
      "source": [
        "import python_utils"
      ],
      "metadata": {
        "id": "t_qigDQHzSc8"
      },
      "execution_count": 109,
      "outputs": []
    },
    {
      "cell_type": "code",
      "source": [
        "!pip install colorama"
      ],
      "metadata": {
        "colab": {
          "base_uri": "https://localhost:8080/"
        },
        "id": "5xAA-eN2zXTT",
        "outputId": "242a92de-0ec8-4212-e2f8-aae14f9cf843"
      },
      "execution_count": 110,
      "outputs": [
        {
          "output_type": "stream",
          "name": "stdout",
          "text": [
            "Looking in indexes: https://pypi.org/simple, https://us-python.pkg.dev/colab-wheels/public/simple/\n",
            "Requirement already satisfied: colorama in /usr/local/lib/python3.7/dist-packages (0.4.5)\n"
          ]
        }
      ]
    },
    {
      "cell_type": "code",
      "source": [
        "import re\n",
        "from colorama import Back, Style\n",
        "\n",
        "\n",
        "def highlight_regex_matches(pattern, text, print_output=True):\n",
        "\toutput = text\n",
        "\tlen_inc = 0\n",
        "\tfor match in pattern.finditer(text):\n",
        "\t\tstart, end = match.start() + len_inc, match.end() + len_inc\n",
        "\t\toutput = output[:start] + Back.YELLOW + Style.BRIGHT + output[start:end] + Style.RESET_ALL + output[end:]\n",
        "\t\tlen_inc = len(output) - len(text)  \n",
        "\n",
        "\tif print_output:\n",
        "\t\tprint(output)\n",
        "\telse:\n",
        "\t\treturn output"
      ],
      "metadata": {
        "id": "DWGSuOKbwn3k"
      },
      "execution_count": 111,
      "outputs": []
    },
    {
      "cell_type": "code",
      "source": [
        "txt = \"\"\"the most common conjuction are and,or  and but.\n",
        "\"\"\""
      ],
      "metadata": {
        "id": "6WioM-ZFwnzy"
      },
      "execution_count": 112,
      "outputs": []
    },
    {
      "cell_type": "code",
      "source": [
        "pattern = re.compile(\"and|or|the\")"
      ],
      "metadata": {
        "id": "gwBASbE6wnv9"
      },
      "execution_count": 113,
      "outputs": []
    },
    {
      "cell_type": "code",
      "source": [
        "pattern.findall(txt)"
      ],
      "metadata": {
        "colab": {
          "base_uri": "https://localhost:8080/"
        },
        "id": "p26WWL3ewnst",
        "outputId": "0a19a627-7c92-4ed7-da32-13a0bd7970ad"
      },
      "execution_count": 114,
      "outputs": [
        {
          "output_type": "execute_result",
          "data": {
            "text/plain": [
              "['the', 'and', 'or', 'and']"
            ]
          },
          "metadata": {},
          "execution_count": 114
        }
      ]
    },
    {
      "cell_type": "code",
      "source": [
        "highlight_regex_matches(pattern, txt)"
      ],
      "metadata": {
        "colab": {
          "base_uri": "https://localhost:8080/"
        },
        "id": "gsZs-ylb1LXg",
        "outputId": "90b2e2ca-c8e7-4f34-9105-7103d3a03e04"
      },
      "execution_count": 115,
      "outputs": [
        {
          "output_type": "stream",
          "name": "stdout",
          "text": [
            "\u001b[43m\u001b[1mthe\u001b[0m most common conjuction are \u001b[43m\u001b[1mand\u001b[0m,\u001b[43m\u001b[1mor\u001b[0m  \u001b[43m\u001b[1mand\u001b[0m but.\n",
            "\n"
          ]
        }
      ]
    },
    {
      "cell_type": "code",
      "source": [
        "pattern = re.compile(\"[ato][nhr][de]\")"
      ],
      "metadata": {
        "id": "DAIGBVfT2BqO"
      },
      "execution_count": 116,
      "outputs": []
    },
    {
      "cell_type": "code",
      "source": [
        "pattern.findall(\"and or the ane\")"
      ],
      "metadata": {
        "colab": {
          "base_uri": "https://localhost:8080/"
        },
        "id": "pV_btSz22Bmn",
        "outputId": "2a943f8b-4c5a-421f-b558-c1e1b224ebb7"
      },
      "execution_count": 117,
      "outputs": [
        {
          "output_type": "execute_result",
          "data": {
            "text/plain": [
              "['and', 'the', 'ane']"
            ]
          },
          "metadata": {},
          "execution_count": 117
        }
      ]
    },
    {
      "cell_type": "code",
      "source": [
        "txt =\"\"\" what is your name.who is that guy\"\"\""
      ],
      "metadata": {
        "id": "17bCuMIswnps"
      },
      "execution_count": 118,
      "outputs": []
    },
    {
      "cell_type": "code",
      "source": [
        "pattern = re.compile(\"what|who is\")"
      ],
      "metadata": {
        "id": "YaaGTU6Cwnl8"
      },
      "execution_count": 119,
      "outputs": []
    },
    {
      "cell_type": "code",
      "source": [
        "pattern.findall(txt)"
      ],
      "metadata": {
        "colab": {
          "base_uri": "https://localhost:8080/"
        },
        "id": "vwD-WfHUwniq",
        "outputId": "69b4eaa1-4c16-412f-9d22-3cc3aa51850b"
      },
      "execution_count": 120,
      "outputs": [
        {
          "output_type": "execute_result",
          "data": {
            "text/plain": [
              "['what', 'who is']"
            ]
          },
          "metadata": {},
          "execution_count": 120
        }
      ]
    },
    {
      "cell_type": "code",
      "source": [
        "highlight_regex_matches(pattern, txt)"
      ],
      "metadata": {
        "colab": {
          "base_uri": "https://localhost:8080/"
        },
        "id": "8V-pQvsPwnff",
        "outputId": "d57e8394-cd01-4106-fd22-9b7aec4af3e3"
      },
      "execution_count": 121,
      "outputs": [
        {
          "output_type": "stream",
          "name": "stdout",
          "text": [
            " \u001b[43m\u001b[1mwhat\u001b[0m is your name.\u001b[43m\u001b[1mwho is\u001b[0m that guy\n"
          ]
        }
      ]
    },
    {
      "cell_type": "code",
      "source": [
        "pattern = re.compile(\"(who|what) is\")"
      ],
      "metadata": {
        "id": "Bg3Vyp6gwnb5"
      },
      "execution_count": 122,
      "outputs": []
    },
    {
      "cell_type": "code",
      "source": [
        "pattern.findall(txt)"
      ],
      "metadata": {
        "colab": {
          "base_uri": "https://localhost:8080/"
        },
        "id": "W5t6ZfXK3ovA",
        "outputId": "db72e5d6-8442-409d-c8e2-626653ee5e3f"
      },
      "execution_count": 123,
      "outputs": [
        {
          "output_type": "execute_result",
          "data": {
            "text/plain": [
              "['what', 'who']"
            ]
          },
          "metadata": {},
          "execution_count": 123
        }
      ]
    },
    {
      "cell_type": "code",
      "source": [
        "highlight_regex_matches(pattern, txt)"
      ],
      "metadata": {
        "colab": {
          "base_uri": "https://localhost:8080/"
        },
        "id": "F0U6jKNs1twM",
        "outputId": "ab313f80-6193-4f7f-e19b-bc1d965ce7b1"
      },
      "execution_count": 124,
      "outputs": [
        {
          "output_type": "stream",
          "name": "stdout",
          "text": [
            " \u001b[43m\u001b[1mwhat is\u001b[0m your name.\u001b[43m\u001b[1mwho is\u001b[0m that guy\n"
          ]
        }
      ]
    },
    {
      "cell_type": "markdown",
      "source": [
        "#Quentifiers_RegEx\n"
      ],
      "metadata": {
        "id": "5NWL1lpW3yRn"
      }
    },
    {
      "cell_type": "code",
      "source": [
        "import re "
      ],
      "metadata": {
        "id": "mE_eshiN1ttD"
      },
      "execution_count": 125,
      "outputs": []
    },
    {
      "cell_type": "code",
      "source": [
        "txt = \"\"\" I have 2 dogs. one dog is 1 year old and other one is 2 year old. both dogs are very cute!\n",
        "\"\"\""
      ],
      "metadata": {
        "id": "bIva23_t1tpL"
      },
      "execution_count": 126,
      "outputs": []
    },
    {
      "cell_type": "code",
      "source": [
        "pattern = re.compile(\"dogs?\")"
      ],
      "metadata": {
        "id": "Kd06hqap1tio"
      },
      "execution_count": 127,
      "outputs": []
    },
    {
      "cell_type": "code",
      "source": [
        "pattern.findall(txt)"
      ],
      "metadata": {
        "colab": {
          "base_uri": "https://localhost:8080/"
        },
        "id": "yjF6pv-a1te7",
        "outputId": "9cd93404-24a7-4875-963a-908042d783f9"
      },
      "execution_count": 128,
      "outputs": [
        {
          "output_type": "execute_result",
          "data": {
            "text/plain": [
              "['dogs', 'dog', 'dogs']"
            ]
          },
          "metadata": {},
          "execution_count": 128
        }
      ]
    },
    {
      "cell_type": "code",
      "source": [
        "highlight_regex_matches(pattern, txt)"
      ],
      "metadata": {
        "colab": {
          "base_uri": "https://localhost:8080/"
        },
        "id": "SKf3SeIl1ta8",
        "outputId": "fe66ccae-f237-4e80-86a4-929046fcb456"
      },
      "execution_count": 129,
      "outputs": [
        {
          "output_type": "stream",
          "name": "stdout",
          "text": [
            " I have 2 \u001b[43m\u001b[1mdogs\u001b[0m. one \u001b[43m\u001b[1mdog\u001b[0m is 1 year old and other one is 2 year old. both \u001b[43m\u001b[1mdogs\u001b[0m are very cute!\n",
            "\n"
          ]
        }
      ]
    },
    {
      "cell_type": "code",
      "source": [
        "txt =\"\"\" \n",
        "file1.txt\n",
        "file_one.txt\n",
        "file.txt\n",
        "fil.txt\n",
        "file.xml\n",
        "file.jpeg\n",
        "\"\"\""
      ],
      "metadata": {
        "id": "86ZqVp0P2oD5"
      },
      "execution_count": 130,
      "outputs": []
    },
    {
      "cell_type": "code",
      "source": [
        "pattern = re.compile(\"file\\w*\\.txt\")"
      ],
      "metadata": {
        "id": "TyIFGz7V3qWc"
      },
      "execution_count": 131,
      "outputs": []
    },
    {
      "cell_type": "code",
      "source": [
        "highlight_regex_matches(pattern, txt)"
      ],
      "metadata": {
        "colab": {
          "base_uri": "https://localhost:8080/"
        },
        "id": "HrVe-Ijj5XTN",
        "outputId": "e95c44df-e85d-45fc-e9f3-337f69e39af0"
      },
      "execution_count": 132,
      "outputs": [
        {
          "output_type": "stream",
          "name": "stdout",
          "text": [
            " \n",
            "\u001b[43m\u001b[1mfile1.txt\u001b[0m\n",
            "\u001b[43m\u001b[1mfile_one.txt\u001b[0m\n",
            "\u001b[43m\u001b[1mfile.txt\u001b[0m\n",
            "fil.txt\n",
            "file.xml\n",
            "file.jpeg\n",
            "\n"
          ]
        }
      ]
    },
    {
      "cell_type": "code",
      "source": [
        "txt =\"\"\" file.txt\n",
        "file1.txt\n",
        "file_one.txt\n",
        "file09.txt\n",
        "fil.txt\n",
        "file23.xml\n",
        "\"\"\""
      ],
      "metadata": {
        "id": "3z0WEICAMvlq"
      },
      "execution_count": 133,
      "outputs": []
    },
    {
      "cell_type": "code",
      "source": [
        "pattern = re.compile(\"file\\d+\\.txt\")"
      ],
      "metadata": {
        "id": "xqMgXOULjwfK"
      },
      "execution_count": 134,
      "outputs": []
    },
    {
      "cell_type": "code",
      "source": [
        "highlight_regex_matches(pattern, txt)"
      ],
      "metadata": {
        "colab": {
          "base_uri": "https://localhost:8080/"
        },
        "id": "v9x0ut0EjwQi",
        "outputId": "8a5e74f6-2fcf-4642-ef85-36c666370ed2"
      },
      "execution_count": 135,
      "outputs": [
        {
          "output_type": "stream",
          "name": "stdout",
          "text": [
            " file.txt\n",
            "\u001b[43m\u001b[1mfile1.txt\u001b[0m\n",
            "file_one.txt\n",
            "\u001b[43m\u001b[1mfile09.txt\u001b[0m\n",
            "fil.txt\n",
            "file23.xml\n",
            "\n"
          ]
        }
      ]
    },
    {
      "cell_type": "code",
      "source": [
        "txt =\"\"\"The first season of Indian Premiere League (IPL) was played in 2008,\n",
        "The Second season wes played in 2009 in south bafrica,\n",
        "Last season was played in 2018 and won by chennai super kings(CSK),\n",
        "CSK won the title in 2010 and 2011 as well,\n",
        "Mubai Indians (MI) has also won the title 3 times in 2013,2015,and 2017.\n",
        "\"\"\"\n"
      ],
      "metadata": {
        "id": "Hyp38x8t7BsN"
      },
      "execution_count": 136,
      "outputs": []
    },
    {
      "cell_type": "code",
      "source": [
        "pattern = re.compile(\"[1-9]\\d{3}\")"
      ],
      "metadata": {
        "id": "hEKbMLTE8Db6"
      },
      "execution_count": 137,
      "outputs": []
    },
    {
      "cell_type": "code",
      "source": [
        "pattern.findall(txt)"
      ],
      "metadata": {
        "id": "QiusbfJN965S",
        "colab": {
          "base_uri": "https://localhost:8080/"
        },
        "outputId": "b7fca1d8-4b6f-4379-aba3-d1ca4dbd87e3"
      },
      "execution_count": 138,
      "outputs": [
        {
          "output_type": "execute_result",
          "data": {
            "text/plain": [
              "['2008', '2009', '2018', '2010', '2011', '2013', '2015', '2017']"
            ]
          },
          "metadata": {},
          "execution_count": 138
        }
      ]
    },
    {
      "cell_type": "code",
      "source": [
        "highlight_regex_matches(pattern, txt)"
      ],
      "metadata": {
        "id": "MCtJ8jjM9618",
        "colab": {
          "base_uri": "https://localhost:8080/"
        },
        "outputId": "be85fca8-a405-446d-e148-b43ad881adae"
      },
      "execution_count": 139,
      "outputs": [
        {
          "output_type": "stream",
          "name": "stdout",
          "text": [
            "The first season of Indian Premiere League (IPL) was played in \u001b[43m\u001b[1m2008\u001b[0m,\n",
            "The Second season wes played in \u001b[43m\u001b[1m2009\u001b[0m in south bafrica,\n",
            "Last season was played in \u001b[43m\u001b[1m2018\u001b[0m and won by chennai super kings(CSK),\n",
            "CSK won the title in \u001b[43m\u001b[1m2010\u001b[0m and \u001b[43m\u001b[1m2011\u001b[0m as well,\n",
            "Mubai Indians (MI) has also won the title 3 times in \u001b[43m\u001b[1m2013\u001b[0m,\u001b[43m\u001b[1m2015\u001b[0m,and \u001b[43m\u001b[1m2017\u001b[0m.\n",
            "\n"
          ]
        }
      ]
    },
    {
      "cell_type": "code",
      "source": [
        "txt = \"\"\"\n",
        "12312345\n",
        "123852\n",
        "456\n",
        "7996325\n",
        "1472\n",
        "0123654\n",
        "4563210\n",
        "12\n",
        "0\n",
        "8524\n",
        "\"\"\""
      ],
      "metadata": {
        "id": "my6Et19596zJ"
      },
      "execution_count": 140,
      "outputs": []
    },
    {
      "cell_type": "code",
      "source": [
        "pattern = re.compile(\"\\d{4,}\")\n"
      ],
      "metadata": {
        "id": "xowPv7DN96vi"
      },
      "execution_count": 141,
      "outputs": []
    },
    {
      "cell_type": "code",
      "source": [
        "pattern.findall(txt)"
      ],
      "metadata": {
        "colab": {
          "base_uri": "https://localhost:8080/"
        },
        "id": "0B3Jf-n7kA7c",
        "outputId": "ca20aea3-79ee-4a9d-a37d-7a80da0ed570"
      },
      "execution_count": 142,
      "outputs": [
        {
          "output_type": "execute_result",
          "data": {
            "text/plain": [
              "['12312345', '123852', '7996325', '1472', '0123654', '4563210', '8524']"
            ]
          },
          "metadata": {},
          "execution_count": 142
        }
      ]
    },
    {
      "cell_type": "code",
      "source": [
        "pattern = re.compile(\"\\d{,4}\")"
      ],
      "metadata": {
        "id": "cidYAsX_kA4U"
      },
      "execution_count": 143,
      "outputs": []
    },
    {
      "cell_type": "code",
      "source": [
        "pattern.findall(txt)"
      ],
      "metadata": {
        "colab": {
          "base_uri": "https://localhost:8080/"
        },
        "id": "iNZzagUUkA2A",
        "outputId": "06cdb3dc-b38c-4d27-f526-5dc7a908cedf"
      },
      "execution_count": 144,
      "outputs": [
        {
          "output_type": "execute_result",
          "data": {
            "text/plain": [
              "['',\n",
              " '1231',\n",
              " '2345',\n",
              " '',\n",
              " '1238',\n",
              " '52',\n",
              " '',\n",
              " '456',\n",
              " '',\n",
              " '7996',\n",
              " '325',\n",
              " '',\n",
              " '1472',\n",
              " '',\n",
              " '0123',\n",
              " '654',\n",
              " '',\n",
              " '4563',\n",
              " '210',\n",
              " '',\n",
              " '12',\n",
              " '',\n",
              " '0',\n",
              " '',\n",
              " '8524',\n",
              " '',\n",
              " '']"
            ]
          },
          "metadata": {},
          "execution_count": 144
        }
      ]
    },
    {
      "cell_type": "code",
      "source": [
        "highlight_regex_matches(pattern, txt)"
      ],
      "metadata": {
        "colab": {
          "base_uri": "https://localhost:8080/"
        },
        "id": "cJcAguTBkAyK",
        "outputId": "96eea0c4-579b-4c3c-e333-c4705d5f9819"
      },
      "execution_count": 145,
      "outputs": [
        {
          "output_type": "stream",
          "name": "stdout",
          "text": [
            "\u001b[43m\u001b[1m\u001b[0m\n",
            "\u001b[43m\u001b[1m1231\u001b[0m\u001b[43m\u001b[1m2345\u001b[0m\u001b[43m\u001b[1m\u001b[0m\n",
            "\u001b[43m\u001b[1m1238\u001b[0m\u001b[43m\u001b[1m52\u001b[0m\u001b[43m\u001b[1m\u001b[0m\n",
            "\u001b[43m\u001b[1m456\u001b[0m\u001b[43m\u001b[1m\u001b[0m\n",
            "\u001b[43m\u001b[1m7996\u001b[0m\u001b[43m\u001b[1m325\u001b[0m\u001b[43m\u001b[1m\u001b[0m\n",
            "\u001b[43m\u001b[1m1472\u001b[0m\u001b[43m\u001b[1m\u001b[0m\n",
            "\u001b[43m\u001b[1m0123\u001b[0m\u001b[43m\u001b[1m654\u001b[0m\u001b[43m\u001b[1m\u001b[0m\n",
            "\u001b[43m\u001b[1m4563\u001b[0m\u001b[43m\u001b[1m210\u001b[0m\u001b[43m\u001b[1m\u001b[0m\n",
            "\u001b[43m\u001b[1m12\u001b[0m\u001b[43m\u001b[1m\u001b[0m\n",
            "\u001b[43m\u001b[1m0\u001b[0m\u001b[43m\u001b[1m\u001b[0m\n",
            "\u001b[43m\u001b[1m8524\u001b[0m\u001b[43m\u001b[1m\u001b[0m\n",
            "\u001b[43m\u001b[1m\u001b[0m\n"
          ]
        }
      ]
    },
    {
      "cell_type": "code",
      "source": [
        "txt = \"\"\"\n",
        "555-555-5555\n",
        "5555555555\n",
        "555 555 5555\n",
        "\"\"\""
      ],
      "metadata": {
        "id": "98GYlmUDkAtk"
      },
      "execution_count": 146,
      "outputs": []
    },
    {
      "cell_type": "code",
      "source": [
        "pattern = re.compile(\"\\d{3}[\\s-]?\\d{3}[\\s-]?\\d{4}\")"
      ],
      "metadata": {
        "id": "LORPg3k8kAqc"
      },
      "execution_count": 147,
      "outputs": []
    },
    {
      "cell_type": "code",
      "source": [
        "pattern.findall(txt)"
      ],
      "metadata": {
        "colab": {
          "base_uri": "https://localhost:8080/"
        },
        "id": "IB_Bs_6jkAm8",
        "outputId": "546a964c-2cd8-42cf-e0af-c937c0c30d0d"
      },
      "execution_count": 148,
      "outputs": [
        {
          "output_type": "execute_result",
          "data": {
            "text/plain": [
              "['555-555-5555', '5555555555', '555 555 5555']"
            ]
          },
          "metadata": {},
          "execution_count": 148
        }
      ]
    },
    {
      "cell_type": "markdown",
      "source": [
        "#Greedy and Non Greedy"
      ],
      "metadata": {
        "id": "-q03XS9RRNay"
      }
    },
    {
      "cell_type": "code",
      "source": [
        "import re"
      ],
      "metadata": {
        "id": "tOa6tMkckAjj"
      },
      "execution_count": 149,
      "outputs": []
    },
    {
      "cell_type": "code",
      "source": [
        "txt = \"\"\"<html><head><title><Title></title>\"\"\"\n"
      ],
      "metadata": {
        "id": "Ww5yzYwPk60v"
      },
      "execution_count": 150,
      "outputs": []
    },
    {
      "cell_type": "code",
      "source": [
        "pattern = re.compile(\"<.*>\")"
      ],
      "metadata": {
        "id": "s-yBUIr5M5OM"
      },
      "execution_count": 151,
      "outputs": []
    },
    {
      "cell_type": "code",
      "source": [
        "pattern.findall(txt)"
      ],
      "metadata": {
        "id": "fj7SoYVEk6x3",
        "colab": {
          "base_uri": "https://localhost:8080/"
        },
        "outputId": "8e426cf9-6ced-478b-9bb7-0b92c1c54ddc"
      },
      "execution_count": 152,
      "outputs": [
        {
          "output_type": "execute_result",
          "data": {
            "text/plain": [
              "['<html><head><title><Title></title>']"
            ]
          },
          "metadata": {},
          "execution_count": 152
        }
      ]
    },
    {
      "cell_type": "code",
      "source": [
        "pattern = re.compile(\"<.*?>\")"
      ],
      "metadata": {
        "id": "fHL7LNh7k6uV"
      },
      "execution_count": 153,
      "outputs": []
    },
    {
      "cell_type": "code",
      "source": [
        "pattern.findall(txt)"
      ],
      "metadata": {
        "id": "MmrWrtxKk6qU",
        "colab": {
          "base_uri": "https://localhost:8080/"
        },
        "outputId": "7fb5fafa-8834-42d2-83e5-c2d3aa41281c"
      },
      "execution_count": 154,
      "outputs": [
        {
          "output_type": "execute_result",
          "data": {
            "text/plain": [
              "['<html>', '<head>', '<title>', '<Title>', '</title>']"
            ]
          },
          "metadata": {},
          "execution_count": 154
        }
      ]
    },
    {
      "cell_type": "code",
      "source": [
        "pattern = re.compile(\"<.+?>\")"
      ],
      "metadata": {
        "id": "JS2gCVW1Rn-c"
      },
      "execution_count": 155,
      "outputs": []
    },
    {
      "cell_type": "code",
      "source": [
        "pattern.findall(txt)"
      ],
      "metadata": {
        "id": "NBf0g3ABRn2m",
        "colab": {
          "base_uri": "https://localhost:8080/"
        },
        "outputId": "8fa41ff0-12a4-413f-c2dd-5905152e14f9"
      },
      "execution_count": 156,
      "outputs": [
        {
          "output_type": "execute_result",
          "data": {
            "text/plain": [
              "['<html>', '<head>', '<title>', '<Title>', '</title>']"
            ]
          },
          "metadata": {},
          "execution_count": 156
        }
      ]
    },
    {
      "cell_type": "markdown",
      "source": [
        "#Boundary matches"
      ],
      "metadata": {
        "id": "TKGdlDF1OXoD"
      }
    },
    {
      "cell_type": "code",
      "source": [
        "import re"
      ],
      "metadata": {
        "id": "yIdv1M-SSKHQ"
      },
      "execution_count": 157,
      "outputs": []
    },
    {
      "cell_type": "code",
      "source": [
        "txt = \"\"\" Lorem ipsum is simply dummy text of the printing and typesetting industry lorem ipsum has been the industry standard dummy text ever since the 1500s,\n",
        "when an unknow printer took a galley of type and screambled it to make a type specimen book.\n",
        "it has survied not only five centuries but also leap into eletronic typesetting remaining essentially unchanged.\n",
        "it was popularised in the1960s with the release of letraset sheets containg lorem ipsumpassages,\n",
        "and more recently with desktop publishing software like aldus pagemaker inclluding versions of lotrem ipsum.\"\"\"\n"
      ],
      "metadata": {
        "id": "orRBVhkKSKDU"
      },
      "execution_count": 158,
      "outputs": []
    },
    {
      "cell_type": "code",
      "source": [
        "pattern = re.compile(\"and|or|the\")"
      ],
      "metadata": {
        "id": "5GGYZ8dZSJtC"
      },
      "execution_count": 159,
      "outputs": []
    },
    {
      "cell_type": "code",
      "source": [
        "pattern.findall(txt)"
      ],
      "metadata": {
        "id": "tS9EbqlpSJpb",
        "colab": {
          "base_uri": "https://localhost:8080/"
        },
        "outputId": "c6825007-587f-45cb-e67a-28d5cadfe814"
      },
      "execution_count": 160,
      "outputs": [
        {
          "output_type": "execute_result",
          "data": {
            "text/plain": [
              "['or',\n",
              " 'the',\n",
              " 'and',\n",
              " 'or',\n",
              " 'the',\n",
              " 'and',\n",
              " 'the',\n",
              " 'and',\n",
              " 'the',\n",
              " 'the',\n",
              " 'or',\n",
              " 'and',\n",
              " 'or']"
            ]
          },
          "metadata": {},
          "execution_count": 160
        }
      ]
    },
    {
      "cell_type": "code",
      "source": [
        "highlight_regex_matches(pattern, txt)"
      ],
      "metadata": {
        "colab": {
          "base_uri": "https://localhost:8080/"
        },
        "id": "3FshLJgyQ9pF",
        "outputId": "ff87ed74-4767-4aef-92a7-2d8bd77a296c"
      },
      "execution_count": 161,
      "outputs": [
        {
          "output_type": "stream",
          "name": "stdout",
          "text": [
            " L\u001b[43m\u001b[1mor\u001b[0mem ipsum is simply dummy text of \u001b[43m\u001b[1mthe\u001b[0m printing \u001b[43m\u001b[1mand\u001b[0m typesetting industry l\u001b[43m\u001b[1mor\u001b[0mem ipsum has been \u001b[43m\u001b[1mthe\u001b[0m industry st\u001b[43m\u001b[1mand\u001b[0mard dummy text ever since \u001b[43m\u001b[1mthe\u001b[0m 1500s,\n",
            "when an unknow printer took a galley of type \u001b[43m\u001b[1mand\u001b[0m screambled it to make a type specimen book.\n",
            "it has survied not only five centuries but also leap into eletronic typesetting remaining essentially unchanged.\n",
            "it was popularised in \u001b[43m\u001b[1mthe\u001b[0m1960s with \u001b[43m\u001b[1mthe\u001b[0m release of letraset sheets containg l\u001b[43m\u001b[1mor\u001b[0mem ipsumpassages,\n",
            "\u001b[43m\u001b[1mand\u001b[0m m\u001b[43m\u001b[1mor\u001b[0me recently with desktop publishing software like aldus pagemaker inclluding versions of lotrem ipsum.\n"
          ]
        }
      ]
    },
    {
      "cell_type": "code",
      "source": [
        "pattern = re.compile(\"\\\\b(and|or|the)\\\\b\")"
      ],
      "metadata": {
        "id": "w2uuQt3vRE5J"
      },
      "execution_count": 162,
      "outputs": []
    },
    {
      "cell_type": "code",
      "source": [
        "pattern.findall(txt)"
      ],
      "metadata": {
        "colab": {
          "base_uri": "https://localhost:8080/"
        },
        "id": "2A9MzlzVR_Lf",
        "outputId": "fc157288-de42-4e67-ddf9-737ff3bd007c"
      },
      "execution_count": 163,
      "outputs": [
        {
          "output_type": "execute_result",
          "data": {
            "text/plain": [
              "['the', 'and', 'the', 'the', 'and', 'the', 'and']"
            ]
          },
          "metadata": {},
          "execution_count": 163
        }
      ]
    },
    {
      "cell_type": "code",
      "source": [
        "highlight_regex_matches(pattern, txt)"
      ],
      "metadata": {
        "colab": {
          "base_uri": "https://localhost:8080/"
        },
        "id": "nHHOme9TSDE2",
        "outputId": "637c1afc-ef75-4ed0-dc18-2e9a736eb5dd"
      },
      "execution_count": 164,
      "outputs": [
        {
          "output_type": "stream",
          "name": "stdout",
          "text": [
            " Lorem ipsum is simply dummy text of \u001b[43m\u001b[1mthe\u001b[0m printing \u001b[43m\u001b[1mand\u001b[0m typesetting industry lorem ipsum has been \u001b[43m\u001b[1mthe\u001b[0m industry standard dummy text ever since \u001b[43m\u001b[1mthe\u001b[0m 1500s,\n",
            "when an unknow printer took a galley of type \u001b[43m\u001b[1mand\u001b[0m screambled it to make a type specimen book.\n",
            "it has survied not only five centuries but also leap into eletronic typesetting remaining essentially unchanged.\n",
            "it was popularised in the1960s with \u001b[43m\u001b[1mthe\u001b[0m release of letraset sheets containg lorem ipsumpassages,\n",
            "\u001b[43m\u001b[1mand\u001b[0m more recently with desktop publishing software like aldus pagemaker inclluding versions of lotrem ipsum.\n"
          ]
        }
      ]
    },
    {
      "cell_type": "code",
      "source": [
        "pattern = re.compile(\"\\\\B(and|or|the)\\\\B\")"
      ],
      "metadata": {
        "id": "s_fPXzaoSSqs"
      },
      "execution_count": 165,
      "outputs": []
    },
    {
      "cell_type": "code",
      "source": [
        "highlight_regex_matches(pattern, txt)"
      ],
      "metadata": {
        "colab": {
          "base_uri": "https://localhost:8080/"
        },
        "id": "cSyDCK5nTLOp",
        "outputId": "68e9a1e9-e7dc-4fd1-a1a9-1f455bf58c61"
      },
      "execution_count": 166,
      "outputs": [
        {
          "output_type": "stream",
          "name": "stdout",
          "text": [
            " L\u001b[43m\u001b[1mor\u001b[0mem ipsum is simply dummy text of the printing and typesetting industry l\u001b[43m\u001b[1mor\u001b[0mem ipsum has been the industry st\u001b[43m\u001b[1mand\u001b[0mard dummy text ever since the 1500s,\n",
            "when an unknow printer took a galley of type and screambled it to make a type specimen book.\n",
            "it has survied not only five centuries but also leap into eletronic typesetting remaining essentially unchanged.\n",
            "it was popularised in the1960s with the release of letraset sheets containg l\u001b[43m\u001b[1mor\u001b[0mem ipsumpassages,\n",
            "and m\u001b[43m\u001b[1mor\u001b[0me recently with desktop publishing software like aldus pagemaker inclluding versions of lotrem ipsum.\n"
          ]
        }
      ]
    },
    {
      "cell_type": "markdown",
      "source": [
        "#spliting"
      ],
      "metadata": {
        "id": "FySjFfwoUvKo"
      }
    },
    {
      "cell_type": "code",
      "source": [
        "import re"
      ],
      "metadata": {
        "id": "PlVn3njKTgT2"
      },
      "execution_count": 167,
      "outputs": []
    },
    {
      "cell_type": "code",
      "source": [
        "pattern = re.compile(\"\\n\")"
      ],
      "metadata": {
        "id": "6bHrPZBkUzcF"
      },
      "execution_count": 168,
      "outputs": []
    },
    {
      "cell_type": "code",
      "source": [
        "pattern.split(txt)"
      ],
      "metadata": {
        "colab": {
          "base_uri": "https://localhost:8080/"
        },
        "id": "t6lK_qRCUzZT",
        "outputId": "fe5d62c9-1d78-4ec8-f570-9041b7c359a4"
      },
      "execution_count": 169,
      "outputs": [
        {
          "output_type": "execute_result",
          "data": {
            "text/plain": [
              "[' Lorem ipsum is simply dummy text of the printing and typesetting industry lorem ipsum has been the industry standard dummy text ever since the 1500s,',\n",
              " 'when an unknow printer took a galley of type and screambled it to make a type specimen book.',\n",
              " 'it has survied not only five centuries but also leap into eletronic typesetting remaining essentially unchanged.',\n",
              " 'it was popularised in the1960s with the release of letraset sheets containg lorem ipsumpassages,',\n",
              " 'and more recently with desktop publishing software like aldus pagemaker inclluding versions of lotrem ipsum.']"
            ]
          },
          "metadata": {},
          "execution_count": 169
        }
      ]
    },
    {
      "cell_type": "code",
      "source": [
        "pattern = re.compile(\"\\W\")"
      ],
      "metadata": {
        "id": "If2_vff_VeIT"
      },
      "execution_count": 170,
      "outputs": []
    },
    {
      "cell_type": "code",
      "source": [
        "pattern.split(txt)"
      ],
      "metadata": {
        "colab": {
          "base_uri": "https://localhost:8080/"
        },
        "id": "9JwT-_XZV1Oi",
        "outputId": "a778850f-1a76-4ba2-99e0-f5c77922faf7"
      },
      "execution_count": 171,
      "outputs": [
        {
          "output_type": "execute_result",
          "data": {
            "text/plain": [
              "['',\n",
              " 'Lorem',\n",
              " 'ipsum',\n",
              " 'is',\n",
              " 'simply',\n",
              " 'dummy',\n",
              " 'text',\n",
              " 'of',\n",
              " 'the',\n",
              " 'printing',\n",
              " 'and',\n",
              " 'typesetting',\n",
              " 'industry',\n",
              " 'lorem',\n",
              " 'ipsum',\n",
              " 'has',\n",
              " 'been',\n",
              " 'the',\n",
              " 'industry',\n",
              " 'standard',\n",
              " 'dummy',\n",
              " 'text',\n",
              " 'ever',\n",
              " 'since',\n",
              " 'the',\n",
              " '1500s',\n",
              " '',\n",
              " 'when',\n",
              " 'an',\n",
              " 'unknow',\n",
              " 'printer',\n",
              " 'took',\n",
              " 'a',\n",
              " 'galley',\n",
              " 'of',\n",
              " 'type',\n",
              " 'and',\n",
              " 'screambled',\n",
              " 'it',\n",
              " 'to',\n",
              " 'make',\n",
              " 'a',\n",
              " 'type',\n",
              " 'specimen',\n",
              " 'book',\n",
              " '',\n",
              " 'it',\n",
              " 'has',\n",
              " 'survied',\n",
              " 'not',\n",
              " 'only',\n",
              " 'five',\n",
              " 'centuries',\n",
              " 'but',\n",
              " 'also',\n",
              " 'leap',\n",
              " 'into',\n",
              " 'eletronic',\n",
              " 'typesetting',\n",
              " 'remaining',\n",
              " 'essentially',\n",
              " 'unchanged',\n",
              " '',\n",
              " 'it',\n",
              " 'was',\n",
              " 'popularised',\n",
              " 'in',\n",
              " 'the1960s',\n",
              " 'with',\n",
              " 'the',\n",
              " 'release',\n",
              " 'of',\n",
              " 'letraset',\n",
              " 'sheets',\n",
              " 'containg',\n",
              " 'lorem',\n",
              " 'ipsumpassages',\n",
              " '',\n",
              " 'and',\n",
              " 'more',\n",
              " 'recently',\n",
              " 'with',\n",
              " 'desktop',\n",
              " 'publishing',\n",
              " 'software',\n",
              " 'like',\n",
              " 'aldus',\n",
              " 'pagemaker',\n",
              " 'inclluding',\n",
              " 'versions',\n",
              " 'of',\n",
              " 'lotrem',\n",
              " 'ipsum',\n",
              " '']"
            ]
          },
          "metadata": {},
          "execution_count": 171
        }
      ]
    },
    {
      "cell_type": "code",
      "source": [
        "list(filter(lambda x: x!='', pattern.split(txt)))"
      ],
      "metadata": {
        "colab": {
          "base_uri": "https://localhost:8080/"
        },
        "id": "eF17aQL5V4Z-",
        "outputId": "56f71cbf-c482-42fd-98c8-01057667538d"
      },
      "execution_count": 172,
      "outputs": [
        {
          "output_type": "execute_result",
          "data": {
            "text/plain": [
              "['Lorem',\n",
              " 'ipsum',\n",
              " 'is',\n",
              " 'simply',\n",
              " 'dummy',\n",
              " 'text',\n",
              " 'of',\n",
              " 'the',\n",
              " 'printing',\n",
              " 'and',\n",
              " 'typesetting',\n",
              " 'industry',\n",
              " 'lorem',\n",
              " 'ipsum',\n",
              " 'has',\n",
              " 'been',\n",
              " 'the',\n",
              " 'industry',\n",
              " 'standard',\n",
              " 'dummy',\n",
              " 'text',\n",
              " 'ever',\n",
              " 'since',\n",
              " 'the',\n",
              " '1500s',\n",
              " 'when',\n",
              " 'an',\n",
              " 'unknow',\n",
              " 'printer',\n",
              " 'took',\n",
              " 'a',\n",
              " 'galley',\n",
              " 'of',\n",
              " 'type',\n",
              " 'and',\n",
              " 'screambled',\n",
              " 'it',\n",
              " 'to',\n",
              " 'make',\n",
              " 'a',\n",
              " 'type',\n",
              " 'specimen',\n",
              " 'book',\n",
              " 'it',\n",
              " 'has',\n",
              " 'survied',\n",
              " 'not',\n",
              " 'only',\n",
              " 'five',\n",
              " 'centuries',\n",
              " 'but',\n",
              " 'also',\n",
              " 'leap',\n",
              " 'into',\n",
              " 'eletronic',\n",
              " 'typesetting',\n",
              " 'remaining',\n",
              " 'essentially',\n",
              " 'unchanged',\n",
              " 'it',\n",
              " 'was',\n",
              " 'popularised',\n",
              " 'in',\n",
              " 'the1960s',\n",
              " 'with',\n",
              " 'the',\n",
              " 'release',\n",
              " 'of',\n",
              " 'letraset',\n",
              " 'sheets',\n",
              " 'containg',\n",
              " 'lorem',\n",
              " 'ipsumpassages',\n",
              " 'and',\n",
              " 'more',\n",
              " 'recently',\n",
              " 'with',\n",
              " 'desktop',\n",
              " 'publishing',\n",
              " 'software',\n",
              " 'like',\n",
              " 'aldus',\n",
              " 'pagemaker',\n",
              " 'inclluding',\n",
              " 'versions',\n",
              " 'of',\n",
              " 'lotrem',\n",
              " 'ipsum']"
            ]
          },
          "metadata": {},
          "execution_count": 172
        }
      ]
    },
    {
      "cell_type": "code",
      "source": [
        "pattern.split(txt, maxsplit=5)"
      ],
      "metadata": {
        "colab": {
          "base_uri": "https://localhost:8080/"
        },
        "id": "QuYugbo_WSXT",
        "outputId": "6af7f173-b3c2-4f63-8075-455eddc3f15c"
      },
      "execution_count": 175,
      "outputs": [
        {
          "output_type": "execute_result",
          "data": {
            "text/plain": [
              "['',\n",
              " 'Lorem',\n",
              " 'ipsum',\n",
              " 'is',\n",
              " 'simply',\n",
              " 'dummy text of the printing and typesetting industry lorem ipsum has been the industry standard dummy text ever since the 1500s,\\nwhen an unknow printer took a galley of type and screambled it to make a type specimen book.\\nit has survied not only five centuries but also leap into eletronic typesetting remaining essentially unchanged.\\nit was popularised in the1960s with the release of letraset sheets containg lorem ipsumpassages,\\nand more recently with desktop publishing software like aldus pagemaker inclluding versions of lotrem ipsum.']"
            ]
          },
          "metadata": {},
          "execution_count": 175
        }
      ]
    },
    {
      "cell_type": "markdown",
      "source": [
        "#Substitutions"
      ],
      "metadata": {
        "id": "b7m9e8MIWxAQ"
      }
    },
    {
      "cell_type": "code",
      "source": [
        "import re"
      ],
      "metadata": {
        "id": "uYSz0N_IWjJp"
      },
      "execution_count": 177,
      "outputs": []
    },
    {
      "cell_type": "code",
      "source": [
        "pattern = re.compile(\"\\d+\")"
      ],
      "metadata": {
        "id": "aOH6D00fW9dz"
      },
      "execution_count": 178,
      "outputs": []
    },
    {
      "cell_type": "code",
      "source": [
        "pattern.findall(txt)"
      ],
      "metadata": {
        "colab": {
          "base_uri": "https://localhost:8080/"
        },
        "id": "eac4JUcoW9Zk",
        "outputId": "625bf38e-0aa6-435d-c1b0-15acb46ee21d"
      },
      "execution_count": 179,
      "outputs": [
        {
          "output_type": "execute_result",
          "data": {
            "text/plain": [
              "['1500', '1960']"
            ]
          },
          "metadata": {},
          "execution_count": 179
        }
      ]
    },
    {
      "cell_type": "code",
      "source": [
        "len(pattern.findall(txt))"
      ],
      "metadata": {
        "colab": {
          "base_uri": "https://localhost:8080/"
        },
        "id": "Xod2i0BLYbBO",
        "outputId": "4a2e6d79-66fc-45bf-97a0-ed141d9eb68b"
      },
      "execution_count": 182,
      "outputs": [
        {
          "output_type": "execute_result",
          "data": {
            "text/plain": [
              "2"
            ]
          },
          "metadata": {},
          "execution_count": 182
        }
      ]
    },
    {
      "cell_type": "code",
      "source": [
        "pattern.sub(\"-\", txt)"
      ],
      "metadata": {
        "colab": {
          "base_uri": "https://localhost:8080/",
          "height": 71
        },
        "id": "AXz2GkRpW9WB",
        "outputId": "b8393253-864d-4527-d91d-4578a7ef0ce7"
      },
      "execution_count": 190,
      "outputs": [
        {
          "output_type": "execute_result",
          "data": {
            "text/plain": [
              "' Lorem ipsum is simply dummy text of the printing and typesetting industry lorem ipsum has been the industry standard dummy text ever since the -s,\\nwhen an unknow printer took a galley of type and screambled it to make a type specimen book.\\nit has survied not only five centuries but also leap into eletronic typesetting remaining essentially unchanged.\\nit was popularised in the-s with the release of letraset sheets containg lorem ipsumpassages,\\nand more recently with desktop publishing software like aldus pagemaker inclluding versions of lotrem ipsum.'"
            ],
            "application/vnd.google.colaboratory.intrinsic+json": {
              "type": "string"
            }
          },
          "metadata": {},
          "execution_count": 190
        }
      ]
    },
    {
      "cell_type": "code",
      "source": [
        ""
      ],
      "metadata": {
        "id": "9sJ_rJ6_XBZW"
      },
      "execution_count": null,
      "outputs": []
    },
    {
      "cell_type": "code",
      "source": [
        ""
      ],
      "metadata": {
        "id": "j7SJVlm5YXRd"
      },
      "execution_count": null,
      "outputs": []
    }
  ]
}